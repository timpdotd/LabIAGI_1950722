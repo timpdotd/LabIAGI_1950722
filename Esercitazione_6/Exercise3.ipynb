{
 "cells": [
  {
   "attachments": {},
   "cell_type": "markdown",
   "metadata": {},
   "source": [
    "<a href=\"https://colab.research.google.com/github/Sapienza-AI-Lab/esercitazione6-22-23/blob/main/Exercise3.ipynb\"><img align=\"left\" src=\"https://colab.research.google.com/assets/colab-badge.svg\" alt=\"Open in Colab\" title=\"Open and Execute in Google Colaboratory\"></a>"
   ]
  },
  {
   "attachments": {},
   "cell_type": "markdown",
   "metadata": {},
   "source": [
    "# Esercizio 3\n",
    "Task 1: Ripetete l'esercizio 2, questa volta applicato al dataset MNIST.\n",
    "\n",
    "Task 2: Visualizzate i coefficienti del modello ottenuto per ogni classe."
   ]
  },
  {
   "cell_type": "code",
   "execution_count": 1,
   "metadata": {},
   "outputs": [],
   "source": [
    "from pathlib import Path\n",
    "from sklearn.datasets import fetch_openml\n",
    "from sklearn.linear_model import LogisticRegression\n",
    "from sklearn.metrics import accuracy_score, confusion_matrix\n",
    "import time\n",
    "import matplotlib.pyplot as plt\n",
    "import seaborn as sns\n",
    "import pandas as pd\n",
    "import numpy as np"
   ]
  },
  {
   "attachments": {},
   "cell_type": "markdown",
   "metadata": {},
   "source": [
    "### Caricamento del dataset"
   ]
  },
  {
   "cell_type": "code",
   "execution_count": null,
   "metadata": {},
   "outputs": [],
   "source": [
    "class MNISTDataset:\n",
    "    def __init__(self, train_size=60000, test_size=10000):\n",
    "        # load data\n",
    "        mnist = fetch_openml('mnist_784', version=1, cache=True, data_home=Path('data/openml'))\n",
    "        mnist.target = mnist.target.astype(int)\n",
    "        # mnist test data is in the last 10k samples\n",
    "        self.train_x = mnist.data[:train_size]\n",
    "        self.train_y = mnist.target[:train_size]\n",
    "        self.test_x = mnist.data[-test_size:]\n",
    "        self.test_y = mnist.target[-test_size:]\n",
    "        # normalize data\n",
    "        self.train_x = self.train_x / 255.0\n",
    "        self.test_x = self.test_x / 255.0\n",
    "\n",
    "    def get_train_data(self):\n",
    "        return self.train_x, self.train_y\n",
    "\n",
    "    def get_test_data(self):\n",
    "        return self.test_x, self.test_y\n",
    "\n",
    "\n",
    "# Load MNIST data\n",
    "mnist = MNISTDataset()\n",
    "test_x, test_y = mnist.get_test_data()\n",
    "train_x, train_y = mnist.get_train_data()"
   ]
  },
  {
   "attachments": {},
   "cell_type": "markdown",
   "metadata": {},
   "source": [
    "### Task 1"
   ]
  },
  {
   "cell_type": "code",
   "execution_count": null,
   "metadata": {},
   "outputs": [],
   "source": [
    "# Train logistic regression model\n",
    "# Tip: use multi_class='multinomial'\n",
    "model = None"
   ]
  },
  {
   "cell_type": "code",
   "execution_count": 5,
   "metadata": {},
   "outputs": [],
   "source": [
    "# Predict on test set\n",
    "pred_y = None"
   ]
  },
  {
   "cell_type": "code",
   "execution_count": null,
   "metadata": {},
   "outputs": [],
   "source": [
    "# Evaluate accuracy\n",
    "accuracy = None"
   ]
  },
  {
   "cell_type": "code",
   "execution_count": null,
   "metadata": {},
   "outputs": [],
   "source": [
    "# Plot some predictions\n",
    "fig, axes = plt.subplots(2, 5)\n",
    "for i in range(2):\n",
    "    for j in range(5):\n",
    "        axes[i, j].imshow(test_x.iloc[i * 5 + j, :].values.reshape(28, 28), cmap='gray')\n",
    "        axes[i, j].set_title('pred = ' + str(pred_y[i * 5 + j]))\n",
    "        axes[i, j].axis('off')\n",
    "plt.show()"
   ]
  },
  {
   "cell_type": "code",
   "execution_count": null,
   "metadata": {},
   "outputs": [],
   "source": [
    "# Plot confusion matrix\n",
    "cm = confusion_matrix(test_y, pred_y)\n",
    "df_cm = pd.DataFrame(cm, index=range(10), columns=range(10))\n",
    "plt.figure(figsize=(10, 7))\n",
    "sns.heatmap(df_cm, annot=True)\n",
    "plt.show()"
   ]
  },
  {
   "cell_type": "code",
   "execution_count": null,
   "metadata": {},
   "outputs": [],
   "source": [
    "# Plot some misclassified samples and their true labels\n",
    "misclassified = np.where(pred_y != test_y)[0]\n",
    "fig, axes = plt.subplots(2, 5)\n",
    "for i in range(2):\n",
    "    for j in range(5):\n",
    "        axes[i, j].imshow(test_x.iloc[misclassified[i * 5 + j], :].values.reshape(28, 28), cmap='gray')\n",
    "        axes[i, j].set_title('pred = ' + str(pred_y[misclassified[i * 5 + j]]) + '\\n true = ' + str(test_y.iloc[misclassified[i * 5 + j]]))\n",
    "        axes[i, j].axis('off')\n",
    "plt.tight_layout()\n",
    "plt.show()"
   ]
  },
  {
   "attachments": {},
   "cell_type": "markdown",
   "metadata": {},
   "source": [
    "### Task 2"
   ]
  },
  {
   "cell_type": "code",
   "execution_count": null,
   "metadata": {},
   "outputs": [],
   "source": [
    "# Plot the logistic regression coefficients as images\n"
   ]
  }
 ],
 "metadata": {
  "kernelspec": {
   "display_name": "PyTorch",
   "language": "python",
   "name": "python3"
  },
  "language_info": {
   "codemirror_mode": {
    "name": "ipython",
    "version": 3
   },
   "file_extension": ".py",
   "mimetype": "text/x-python",
   "name": "python",
   "nbconvert_exporter": "python",
   "pygments_lexer": "ipython3",
   "version": "3.10.8"
  },
  "orig_nbformat": 4
 },
 "nbformat": 4,
 "nbformat_minor": 2
}
