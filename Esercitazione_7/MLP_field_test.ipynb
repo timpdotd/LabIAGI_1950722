{
 "cells": [
  {
   "cell_type": "markdown",
   "source": [
    "# Field test del MultiLayer Perceptron\n",
    "\n",
    "Questo è il testo dell'esercitazione che dovrete completare per questa settimana. Non sarà guidato passo passo, ma\n",
    "dovrete usare quello che avete imparato negli altri jupyter notebooks per addestrare dei modelli e cross-validarli,\n",
    "al massimo delle vostre capacità.\n",
    "I tre esercizi da svolgere sono:\n",
    "\n",
    "1. addestrare un MLP su [FashionMNIST](https://github.com/zalandoresearch/fashion-mnist). Potete utilizzare il codice\n",
    " del precedente notebook, ma vi consiglio di riscriverlo in maniera più ordinata. In questo caso, fate prima\n",
    " un'analisi dei dati per capire con cosa avete a che fare.\n",
    "2. addestrare un MLP su [YearPredictionMSD](https://archive.ics.uci.edu/ml/datasets/YearPredictionMSD): l'idea di\n",
    "      questo esercizio è quella di utilizzare una rete neurale per migliorare le performance rispetto alla soluzione\n",
    "      che avete già implementato con la logistic regression nell'[esercitazione 6](https://github.com/Sapienza-AI-Lab/esercitazione6-22-23). In questo caso l'aspetto che ci\n",
    "      preme esplorare è l'efficacia del MLP nell'imparare una rappresentazione (i.e. delle features) migliore per la\n",
    "      classifcazione, o la regressione. Questo esercizion non è banale e sono interessato a vedere come sfrutterete\n",
    "      le reti neurali per migliorare le prestazioni. Se non avete fatto l'EDA durante la scorsa esercitazione, questo\n",
    "       è il momento di farla.\n",
    "3. addestrare un MLP su CIFAR-10: riprenderemo questo dataset anche con le reti convoluzionali, ma iniziamo a\n",
    "      farci un'idea delle sue caratterisitche addestrando im modello migliore possibile utilizzando un MLP. La sfida\n",
    "      in questo caso sarà la dimensionalità dell'input, e quindi delle connessioni del MLP.\n",
    "\n",
    "\n",
    "In tutti i casi tenete conto di questi aspetti:\n",
    "* Non siete costretti ad usare i notebook. Personalmente non li amo, ma sono adatti a presentare il codice per la\n",
    "    didattica. Per lavorare con progetti di una certa complessità è spesso meglio passare ad un normale progetto\n",
    "    python. Ovviamente se non avete una GPU nel vostro portatile/desktop, l'unica soluzione è colab.\n",
    "* Utilizzate tensorboard o weight and biases per la visualizzazione e per fare il debug del vostro modello. Non provate le cose a caso."
   ],
   "metadata": {
    "collapsed": false
   }
  }
 ],
 "metadata": {
  "kernelspec": {
   "display_name": "Python 3",
   "language": "python",
   "name": "python3"
  },
  "language_info": {
   "codemirror_mode": {
    "name": "ipython",
    "version": 2
   },
   "file_extension": ".py",
   "mimetype": "text/x-python",
   "name": "python",
   "nbconvert_exporter": "python",
   "pygments_lexer": "ipython2",
   "version": "2.7.6"
  }
 },
 "nbformat": 4,
 "nbformat_minor": 0
}
