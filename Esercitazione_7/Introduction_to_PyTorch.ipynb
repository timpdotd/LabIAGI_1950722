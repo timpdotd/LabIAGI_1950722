{
 "cells": [
  {
   "cell_type": "markdown",
   "metadata": {
    "id": "Mskoe63kxpSS"
   },
   "source": [
    "# Introduction to PyTorch\n",
    "\n",
    "\n",
    "[![View filled on Github](https://img.shields.io/static/v1.svg?logo=github&label=Repo&message=View%20On%20Github&color=lightgrey)](https://github.com/Sapienza-AI-Lab/esercitazione7-22-23/blob/main/Introduction_to_PyTorch.ipynb)\n",
    "[![Open filled In Collab](https://colab.research.google.com/assets/colab-badge.svg)](https://colab.research.google.com/github/Sapienza-AI-Lab/esercitazione7-22-23/blob/main/Introduction_to_PyTorch.ipynb)"
   ]
  },
  {
   "cell_type": "markdown",
   "metadata": {},
   "source": [
    "## Disclamer:\n",
    "Questo notebook è stato originalmente adattato da Sandeep Sabbella per il corso di AI-Lab dell'anno accademico\n",
    "2021-22. Il testo è in iglese, ma dovrebbe essere semplice da seguire.\n",
    "\n",
    "### The original notebook by Phillip Lippe can be found [here](https://uvadlc-notebooks.readthedocs.io/en/latest/tutorial_notebooks/tutorial2/Introduction_to_PyTorch.html)"
   ]
  },
  {
   "cell_type": "markdown",
   "metadata": {},
   "source": [
    "**Welcome to LabAI session for the Exercise 7.** In this exercise we focus on introducing the basic neural networks and how they function on the given datasets. The following notebook is meant to give a short introduction to PyTorch basics, and get you setup for writing your own neural networks. **There are no Tasks or Exercises in this notebook. But we recommend to understand and run through the code for the basics needed for the Neuralnetworks exercise accompanied in this lab session.** This colab notebook is an modification and implementation to University of Amsterdam [(UvA) DL site](https://uvadlc-notebooks.readthedocs.io/en/latest/tutorial_notebooks/tutorial2/Introduction_to_PyTorch.html).\n",
    "\n",
    "PyTorch is an open source machine learning framework that allows you to write your own neural networks and optimize them efficiently. However, PyTorch is not the only framework of its kind. Alternatives to PyTorch include [TensorFlow](https://www.tensorflow.org/), [JAX](https://github.com/google/jax#quickstart-colab-in-the-cloud) and [Caffe](http://caffe.berkeleyvision.org/). \n",
    "\n",
    "We choose to teach PyTorch because it is well established, has a huge developer community (originally developed by Facebook), is very flexible and especially used in research. Many current papers publish their code in PyTorch, and thus it is good to be familiar with PyTorch as well.\n",
    "\n",
    "Meanwhile, TensorFlow (developed by Google) is usually known for being a production-grade deep learning library. Still, if you know one machine learning framework in depth, it is very easy to learn another one because many of them use the same concepts and ideas. For instance, TensorFlow's version 2 was heavily inspired by the most popular features of PyTorch, making the frameworks even more similar.\n",
    "\n",
    "If you are already familiar with PyTorch and have created your own neural network projects, feel free to just skim this notebook.\n",
    "\n",
    "We are of course not the first ones to create a PyTorch tutorial. There are many great tutorials online, including the [\"60-min blitz\"](https://pytorch.org/tutorials/beginner/deep_learning_60min_blitz.html) on the official [PyTorch website](https://pytorch.org/tutorials/). We choose to create our own tutorial which is designed to give you the basics particularly necessary for the practicals, but still understand how PyTorch works under the hood.  \n",
    "\n",
    "We will use a set of standard libraries that are often used in machine learning projects. You are running this notebook on Google Colab, all libraries should be pre-installed."
   ]
  },
  {
   "cell_type": "code",
   "execution_count": 15,
   "metadata": {
    "ExecuteTime": {
     "end_time": "2023-04-27T10:57:58.035864Z",
     "start_time": "2023-04-27T10:57:57.982903Z"
    },
    "id": "gtFHgTFuxpSW"
   },
   "outputs": [],
   "source": [
    "## Standard libraries\n",
    "import os\n",
    "import math\n",
    "from matplotlib_inline.backend_inline import set_matplotlib_formats\n",
    "import numpy as np \n",
    "import time\n",
    "\n",
    "## Imports for plotting\n",
    "import matplotlib.pyplot as plt\n",
    "%matplotlib inline\n",
    "set_matplotlib_formats('svg', 'pdf') # For export\n",
    "from matplotlib.colors import to_rgba\n",
    "import seaborn as sns\n",
    "sns.set()\n",
    "\n",
    "## Progress bar\n",
    "from tqdm.notebook import tqdm"
   ]
  },
  {
   "cell_type": "markdown",
   "metadata": {
    "id": "880CzC1yxpSX"
   },
   "source": [
    "## The Basics of PyTorch\n",
    "\n",
    "We will start with reviewing the very basic concepts of PyTorch. As a prerequisite, we recommend to be familiar with the `numpy` package as most machine learning frameworks are based on very similar concepts. If you are not familiar with numpy yet, don't worry: here is a [tutorial](https://numpy.org/devdocs/user/quickstart.html) to go through. \n",
    "\n",
    "So, let's start with importing PyTorch. The package is called `torch`, based on its original framework [Torch](http://torch.ch/). As a first step, we can check its version:"
   ]
  },
  {
   "cell_type": "code",
   "execution_count": 16,
   "metadata": {
    "colab": {
     "base_uri": "https://localhost:8080/"
    },
    "id": "WxBniPWaxpSX",
    "outputId": "ab0de0c7-9a6c-452e-cf1f-f16ded15921b",
    "pycharm": {
     "is_executing": true
    }
   },
   "outputs": [
    {
     "name": "stdout",
     "output_type": "stream",
     "text": [
      "Using torch 2.0.0+cu117\n"
     ]
    }
   ],
   "source": [
    "import torch\n",
    "print(\"Using torch\", torch.__version__)"
   ]
  },
  {
   "cell_type": "markdown",
   "metadata": {
    "id": "ZUicBq_5xpSY"
   },
   "source": [
    "At the time of writing this tutorial (mid of May 2022), the current stable version is 1.11. You should therefore see the output `Using torch 1.11.0` or `Using torch 1.10.0`, eventually with some extension for the CUDA version on Colab. In general, it is recommended to keep the PyTorch version updated to the newest one. \n",
    "\n",
    "As in every machine learning framework, PyTorch provides functions that are stochastic like generating random numbers. However, a very good practice is to setup your code to be reproducible with the exact same random numbers. This is why we set a seed below. "
   ]
  },
  {
   "cell_type": "code",
   "execution_count": 17,
   "metadata": {
    "id": "eCxeQ1jaxpSY",
    "outputId": "8534de3c-27bc-4d4e-fa92-7de0e6ce39b4",
    "pycharm": {
     "is_executing": true
    }
   },
   "outputs": [
    {
     "data": {
      "text/plain": [
       "<torch._C.Generator at 0x7fbede7266d0>"
      ]
     },
     "execution_count": 17,
     "metadata": {},
     "output_type": "execute_result"
    }
   ],
   "source": [
    "torch.manual_seed(42) # Setting the seed"
   ]
  },
  {
   "cell_type": "markdown",
   "metadata": {
    "id": "CfTCmaBBxpSY"
   },
   "source": [
    "### Tensors\n",
    "\n",
    "Tensors are the PyTorch equivalent to Numpy arrays, with the addition to also have support for GPU acceleration (more on that later).\n",
    "The name \"tensor\" is a generalization of concepts you already know. For instance, a vector is a 1-D tensor, and a matrix a 2-D tensor. When working with neural networks, we will use tensors of various shapes and number of dimensions.\n",
    "\n",
    "Most common functions you know from numpy can be used on tensors as well. Actually, since numpy arrays are so similar to tensors, we can convert most tensors to numpy arrays (and back) but we don't need it too often.\n",
    "\n",
    "#### Initialization\n",
    "\n",
    "Let's first start by looking at different ways of creating a tensor. There are many possible options, the most simple one is to call `torch.Tensor` passing the desired shape as input argument:"
   ]
  },
  {
   "cell_type": "code",
   "execution_count": 18,
   "metadata": {
    "id": "8poE1VHSxpSZ",
    "pycharm": {
     "is_executing": true
    }
   },
   "outputs": [
    {
     "name": "stdout",
     "output_type": "stream",
     "text": [
      "tensor([[[1.3076e+22, 2.6579e-06, 1.3129e+19, 2.4964e-18, 3.1360e+27],\n",
      "         [7.0800e+31, 3.1095e-18, 4.7851e+22, 2.8826e+32, 4.4248e+30],\n",
      "         [7.6729e+34, 2.1707e-18, 4.5447e+30, 7.0062e+22, 2.1715e-18],\n",
      "         [4.6308e+27, 2.3086e-12, 7.1760e+22, 7.2250e+28, 1.5766e-19]],\n",
      "\n",
      "        [[5.2887e+22, 3.2770e-09, 8.4630e-07, 2.7180e-06, 4.2425e-08],\n",
      "         [1.0605e-08, 4.1546e+21, 2.6660e-09, 2.3053e-12, 2.6302e+20],\n",
      "         [6.1949e-04, 6.4805e-10, 6.3010e-10, 1.0620e-05, 7.0644e-04],\n",
      "         [1.7341e-07, 4.3435e-05, 1.0802e-05, 1.4580e-19, 4.5450e+30]]])\n"
     ]
    }
   ],
   "source": [
    "# the following code creates two tensor objects of size(shape) 4x5 andom values\n",
    "x = torch.Tensor(2, 4, 5)\n",
    "print(x)"
   ]
  },
  {
   "cell_type": "markdown",
   "metadata": {
    "id": "Rw9iIp3dxpSZ"
   },
   "source": [
    "The function `torch.Tensor` allocates memory for the desired tensor, but reuses any values that have already been in the memory. To directly assign values to the tensor during initialization, there are many alternatives including:\n",
    "\n",
    "* `torch.zeros`: Creates a tensor filled with zeros\n",
    "* `torch.ones`: Creates a tensor filled with ones\n",
    "* `torch.rand`: Creates a tensor with random values uniformly sampled between 0 and 1\n",
    "* `torch.randn`: Creates a tensor with random values sampled from a normal distribution with mean 0 and variance 1\n",
    "* `torch.arange`: Creates a tensor containing the values $N,N+1,N+2,...,M$\n",
    "* `torch.Tensor` (input list): Creates a tensor from the list elements you provide"
   ]
  },
  {
   "cell_type": "code",
   "execution_count": 19,
   "metadata": {
    "id": "3JUF0dNhxpSZ",
    "outputId": "13128416-b78e-4937-e561-cd0185b8f940",
    "pycharm": {
     "is_executing": true
    }
   },
   "outputs": [
    {
     "name": "stdout",
     "output_type": "stream",
     "text": [
      "tensor([[1., 2.],\n",
      "        [3., 4.]])\n"
     ]
    }
   ],
   "source": [
    "# Create a tensor from a (nested) list\n",
    "x = torch.Tensor([[1, 2], [3, 4]])\n",
    "print(x)"
   ]
  },
  {
   "cell_type": "markdown",
   "metadata": {
    "id": "lRvw2xTv5jLF"
   },
   "source": [
    "A tensor can be constructed from a Python list or sequence using the `torch.tensor()` constructor:"
   ]
  },
  {
   "cell_type": "code",
   "execution_count": 20,
   "metadata": {
    "colab": {
     "base_uri": "https://localhost:8080/"
    },
    "id": "sYGz228-5cm9",
    "outputId": "4510a9b9-ca69-4b2e-99a9-0ec6a13253ff",
    "pycharm": {
     "is_executing": true
    }
   },
   "outputs": [
    {
     "data": {
      "text/plain": [
       "tensor([[ 1., -1.],\n",
       "        [ 1., -1.]])"
      ]
     },
     "execution_count": 20,
     "metadata": {},
     "output_type": "execute_result"
    }
   ],
   "source": [
    "torch.tensor([[1., -1.], [1., -1.]])"
   ]
  },
  {
   "cell_type": "code",
   "execution_count": 21,
   "metadata": {
    "colab": {
     "base_uri": "https://localhost:8080/"
    },
    "id": "x24g86Z-5wB_",
    "outputId": "824d80bf-192c-4c2e-88eb-3be68f5f8641",
    "pycharm": {
     "is_executing": true
    }
   },
   "outputs": [
    {
     "data": {
      "text/plain": [
       "tensor([[1, 2, 3],\n",
       "        [4, 5, 6]])"
      ]
     },
     "execution_count": 21,
     "metadata": {},
     "output_type": "execute_result"
    }
   ],
   "source": [
    "torch.tensor(np.array([[1, 2, 3], [4, 5, 6]]))"
   ]
  },
  {
   "cell_type": "code",
   "execution_count": 22,
   "metadata": {
    "id": "NfOoUadlxpSa",
    "outputId": "30007402-0b19-433b-d71f-c1d25505d623",
    "pycharm": {
     "is_executing": true
    }
   },
   "outputs": [
    {
     "name": "stdout",
     "output_type": "stream",
     "text": [
      "tensor([[[0.8823, 0.9150, 0.3829, 0.9593],\n",
      "         [0.3904, 0.6009, 0.2566, 0.7936],\n",
      "         [0.9408, 0.1332, 0.9346, 0.5936]],\n",
      "\n",
      "        [[0.8694, 0.5677, 0.7411, 0.4294],\n",
      "         [0.8854, 0.5739, 0.2666, 0.6274],\n",
      "         [0.2696, 0.4414, 0.2969, 0.8317]]])\n"
     ]
    }
   ],
   "source": [
    "# Create a tensor with random values between 0 and 1 with the shape [2, 3, 4]\n",
    "x = torch.rand(2, 3, 4)\n",
    "print(x)"
   ]
  },
  {
   "cell_type": "markdown",
   "metadata": {
    "id": "hwccZVBtxpSa"
   },
   "source": [
    "You can obtain the shape of a tensor in the same way as in numpy (`x.shape`), or using the `.size` method:"
   ]
  },
  {
   "cell_type": "code",
   "execution_count": 23,
   "metadata": {
    "id": "5WSLb04dxpSa",
    "outputId": "35069d4c-ee9e-4703-890c-ef8506a0c51a",
    "pycharm": {
     "is_executing": true
    }
   },
   "outputs": [
    {
     "name": "stdout",
     "output_type": "stream",
     "text": [
      "Shape: torch.Size([2, 3, 4])\n",
      "Size: torch.Size([2, 3, 4])\n",
      "Size: 2 3 4\n"
     ]
    }
   ],
   "source": [
    "shape = x.shape\n",
    "print(\"Shape:\", x.shape)\n",
    "\n",
    "size = x.size()\n",
    "print(\"Size:\", size)\n",
    "\n",
    "dim1, dim2, dim3 = x.size()\n",
    "print(\"Size:\", dim1, dim2, dim3)"
   ]
  },
  {
   "cell_type": "markdown",
   "metadata": {
    "id": "wjBBlzw_xpSa"
   },
   "source": [
    "#### Tensor to Numpy, and Numpy to Tensor\n",
    "\n",
    "Tensors can be converted to numpy arrays, and numpy arrays back to tensors. To transform a numpy array into a tensor, we can use the function `torch.from_numpy`:"
   ]
  },
  {
   "cell_type": "code",
   "execution_count": 24,
   "metadata": {
    "id": "AyMvilmnxpSa",
    "outputId": "511b59af-7eb3-4c3a-9c0d-862df7fa8305",
    "pycharm": {
     "is_executing": true
    }
   },
   "outputs": [
    {
     "name": "stdout",
     "output_type": "stream",
     "text": [
      "Numpy array: [[1 2]\n",
      " [3 4]]\n",
      "PyTorch tensor: tensor([[1, 2],\n",
      "        [3, 4]])\n"
     ]
    }
   ],
   "source": [
    "np_arr = np.array([[1, 2], [3, 4]])\n",
    "tensor = torch.from_numpy(np_arr)\n",
    "\n",
    "print(\"Numpy array:\", np_arr)\n",
    "print(\"PyTorch tensor:\", tensor)"
   ]
  },
  {
   "cell_type": "markdown",
   "metadata": {
    "id": "AVhj6aC9xpSb"
   },
   "source": [
    "To transform a PyTorch tensor back to a numpy array, we can use the function `.numpy()` on tensors:"
   ]
  },
  {
   "cell_type": "code",
   "execution_count": 25,
   "metadata": {
    "id": "wAbTQkiexpSb",
    "outputId": "e22f79bf-caee-4d32-f1f3-95cc674888dc",
    "pycharm": {
     "is_executing": true
    }
   },
   "outputs": [
    {
     "name": "stdout",
     "output_type": "stream",
     "text": [
      "PyTorch tensor: tensor([0, 1, 2, 3])\n",
      "Numpy array: [0 1 2 3]\n"
     ]
    }
   ],
   "source": [
    "tensor = torch.arange(4)\n",
    "np_arr = tensor.numpy()\n",
    "\n",
    "print(\"PyTorch tensor:\", tensor)\n",
    "print(\"Numpy array:\", np_arr)"
   ]
  },
  {
   "cell_type": "markdown",
   "metadata": {
    "id": "-1b1DjEgxpSb"
   },
   "source": [
    "The conversion of tensors to numpy require the tensor to be on the CPU, and not the GPU (more on GPU support in a later section). In case you have a tensor on GPU, you need to call `.cpu()` on the tensor beforehand. Hence, you get a line like `np_arr = tensor.cpu().numpy()`."
   ]
  },
  {
   "cell_type": "markdown",
   "metadata": {
    "id": "mWvKQZTfxpSb"
   },
   "source": [
    "#### Operations\n",
    "\n",
    "Most operations that exist in numpy, also exist in PyTorch. A full list of operations can be found in the [PyTorch documentation](https://pytorch.org/docs/stable/tensors.html#), but we will review the most important ones here.\n",
    "\n",
    "The simplest operation is to add two tensors:"
   ]
  },
  {
   "cell_type": "code",
   "execution_count": 26,
   "metadata": {
    "id": "YQpjDsmaxpSb",
    "outputId": "e06acc06-d619-4781-8938-ef38e0ad7873",
    "pycharm": {
     "is_executing": true
    }
   },
   "outputs": [
    {
     "name": "stdout",
     "output_type": "stream",
     "text": [
      "X1 tensor([[0.1053, 0.2695, 0.3588],\n",
      "        [0.1994, 0.5472, 0.0062]])\n",
      "X2 tensor([[0.9516, 0.0753, 0.8860],\n",
      "        [0.5832, 0.3376, 0.8090]])\n",
      "Y tensor([[1.0569, 0.3448, 1.2448],\n",
      "        [0.7826, 0.8848, 0.8151]])\n"
     ]
    }
   ],
   "source": [
    "x1 = torch.rand(2, 3)\n",
    "x2 = torch.rand(2, 3)\n",
    "y = x1 + x2\n",
    "\n",
    "print(\"X1\", x1)\n",
    "print(\"X2\", x2)\n",
    "print(\"Y\", y)"
   ]
  },
  {
   "cell_type": "markdown",
   "metadata": {
    "id": "76eMuesaxpSb"
   },
   "source": [
    "Calling `x1 + x2` creates a new tensor containing the sum of the two inputs. However, we can also use in-place operations that are applied directly on the memory of a tensor. We therefore change the values of `x2` without the chance to re-accessing the values of `x2` before the operation. An example is shown below:"
   ]
  },
  {
   "cell_type": "code",
   "execution_count": 27,
   "metadata": {
    "id": "clbs5soyxpSb",
    "outputId": "455243bd-ad27-4477-ce07-fe5c02a73f1f",
    "pycharm": {
     "is_executing": true
    }
   },
   "outputs": [
    {
     "name": "stdout",
     "output_type": "stream",
     "text": [
      "X1 (before) tensor([[0.5779, 0.9040, 0.5547],\n",
      "        [0.3423, 0.6343, 0.3644]])\n",
      "X2 (before) tensor([[0.7104, 0.9464, 0.7890],\n",
      "        [0.2814, 0.7886, 0.5895]])\n",
      "X1 (after) tensor([[0.5779, 0.9040, 0.5547],\n",
      "        [0.3423, 0.6343, 0.3644]])\n",
      "X2 (after) tensor([[1.2884, 1.8504, 1.3437],\n",
      "        [0.6237, 1.4230, 0.9539]])\n"
     ]
    }
   ],
   "source": [
    "x1 = torch.rand(2, 3)\n",
    "x2 = torch.rand(2, 3)\n",
    "print(\"X1 (before)\", x1)\n",
    "print(\"X2 (before)\", x2)\n",
    "\n",
    "x2.add_(x1)\n",
    "print(\"X1 (after)\", x1)\n",
    "print(\"X2 (after)\", x2)"
   ]
  },
  {
   "cell_type": "markdown",
   "metadata": {
    "id": "Uw_TrksbxpSc"
   },
   "source": [
    "In-place operations are usually marked with a underscore postfix (e.g. \"add_\" instead of \"add\").\n",
    "\n",
    "Another common operation aims at changing the shape of a tensor. A tensor of size (2,3) can be re-organized to any other shape with the same number of elements (e.g. a tensor of size (6), or (3,2), ...). In PyTorch, this operation is called `view`:"
   ]
  },
  {
   "cell_type": "code",
   "execution_count": 28,
   "metadata": {
    "id": "Cb--VFZBxpSc",
    "outputId": "5060a776-479d-4393-cbd7-95cfbce80eeb",
    "pycharm": {
     "is_executing": true
    }
   },
   "outputs": [
    {
     "name": "stdout",
     "output_type": "stream",
     "text": [
      "X tensor([0, 1, 2, 3, 4, 5])\n"
     ]
    }
   ],
   "source": [
    "x = torch.arange(6)\n",
    "print(\"X\", x)"
   ]
  },
  {
   "cell_type": "code",
   "execution_count": 29,
   "metadata": {
    "id": "kdKTmb4kxpSc",
    "outputId": "c698d089-fcc7-40c2-edd5-4363d37c62b0",
    "pycharm": {
     "is_executing": true
    }
   },
   "outputs": [
    {
     "name": "stdout",
     "output_type": "stream",
     "text": [
      "X tensor([[0, 1, 2],\n",
      "        [3, 4, 5]])\n"
     ]
    }
   ],
   "source": [
    "x = x.view(2, 3)\n",
    "print(\"X\", x)"
   ]
  },
  {
   "cell_type": "code",
   "execution_count": 30,
   "metadata": {
    "id": "Z6kOQBSLxpSc",
    "outputId": "f1c5fc2c-cfa4-4cc4-c910-625dd1fc3c0b",
    "pycharm": {
     "is_executing": true
    }
   },
   "outputs": [
    {
     "name": "stdout",
     "output_type": "stream",
     "text": [
      "X tensor([[0, 3],\n",
      "        [1, 4],\n",
      "        [2, 5]])\n"
     ]
    }
   ],
   "source": [
    "x = x.permute(1, 0) # Swapping dimension 0 and 1\n",
    "print(\"X\", x)"
   ]
  },
  {
   "cell_type": "markdown",
   "metadata": {
    "id": "OBvFwZndxpSc"
   },
   "source": [
    "Other commonly used operations include matrix multiplications, which are essential for neural networks. Quite often, we have an input vector $\\mathbf{x}$, which is transformed using a learned weight matrix $\\mathbf{W}$. There are multiple ways and functions to perform matrix multiplication, some of which we list below:\n",
    "\n",
    "* `torch.matmul`: Performs the matrix product over two tensors, where the specific behavior depends on the dimensions. If both inputs are matrices (2-dimensional tensors), it performs the standard matrix product. For higher dimensional inputs, the function supports broadcasting (for details see the [documentation](https://pytorch.org/docs/stable/generated/torch.matmul.html?highlight=matmul#torch.matmul)). Can also be written as `a @ b`, similar to numpy. \n",
    "* `torch.mm`: Performs the matrix product over two matrices, but doesn't support broadcasting (see [documentation](https://pytorch.org/docs/stable/generated/torch.mm.html?highlight=torch%20mm#torch.mm))\n",
    "* `torch.bmm`: Performs the matrix product with a support batch dimension. If the first tensor $T$ is of shape ($b\\times n\\times m$), and the second tensor $R$ ($b\\times m\\times p$), the output $O$ is of shape ($b\\times n\\times p$), and has been calculated by performing $b$ matrix multiplications of the submatrices of $T$ and $R$: $O_i = T_i @ R_i$\n",
    "* `torch.einsum`: Performs matrix multiplications and more (i.e. sums of products) using the Einstein summation convention. Explanation of the Einstein sum can be found in assignment 1.\n",
    "\n",
    "Usually, we use `torch.matmul` or `torch.bmm`. We can try a matrix multiplication with `torch.matmul` below."
   ]
  },
  {
   "cell_type": "code",
   "execution_count": 31,
   "metadata": {
    "id": "qhhUWio2xpSc",
    "outputId": "95d560fa-e00e-4c00-e2af-8bfc2a01a227",
    "pycharm": {
     "is_executing": true
    }
   },
   "outputs": [
    {
     "name": "stdout",
     "output_type": "stream",
     "text": [
      "X tensor([[0, 1, 2],\n",
      "        [3, 4, 5]])\n"
     ]
    }
   ],
   "source": [
    "x = torch.arange(6)\n",
    "x = x.view(2, 3)\n",
    "print(\"X\", x)"
   ]
  },
  {
   "cell_type": "code",
   "execution_count": 32,
   "metadata": {
    "id": "eEoYtmiJxpSd",
    "outputId": "9c5a8656-fe01-4ec6-b856-ca273496e4fd",
    "pycharm": {
     "is_executing": true
    }
   },
   "outputs": [
    {
     "name": "stdout",
     "output_type": "stream",
     "text": [
      "W tensor([[0, 1, 2],\n",
      "        [3, 4, 5],\n",
      "        [6, 7, 8]])\n"
     ]
    }
   ],
   "source": [
    "W = torch.arange(9).view(3, 3) # We can also stack multiple operations in a single line\n",
    "print(\"W\", W)"
   ]
  },
  {
   "cell_type": "code",
   "execution_count": 33,
   "metadata": {
    "id": "DkbcbFV6xpSd",
    "outputId": "0e84766b-b6ab-4623-d619-d9656e3b6dee",
    "pycharm": {
     "is_executing": true
    }
   },
   "outputs": [
    {
     "name": "stdout",
     "output_type": "stream",
     "text": [
      "h tensor([[15, 18, 21],\n",
      "        [42, 54, 66]])\n"
     ]
    }
   ],
   "source": [
    "h = torch.matmul(x, W) # Verify the result by calculating it by hand too!\n",
    "print(\"h\", h)"
   ]
  },
  {
   "cell_type": "markdown",
   "metadata": {
    "id": "-DHZ2CTXxpSd"
   },
   "source": [
    "#### Indexing\n",
    "\n",
    "We often have the situation where we need to select a part of a tensor. Indexing works just like in numpy, so let's try it:"
   ]
  },
  {
   "cell_type": "code",
   "execution_count": 34,
   "metadata": {
    "id": "YDSxbzUvxpSd",
    "outputId": "388e6ad5-3d2d-4d7f-83c5-f2209638fd69",
    "pycharm": {
     "is_executing": true
    }
   },
   "outputs": [
    {
     "name": "stdout",
     "output_type": "stream",
     "text": [
      "X tensor([[ 0,  1,  2,  3],\n",
      "        [ 4,  5,  6,  7],\n",
      "        [ 8,  9, 10, 11]])\n"
     ]
    }
   ],
   "source": [
    "x = torch.arange(12).view(3, 4)\n",
    "print(\"X\", x)"
   ]
  },
  {
   "cell_type": "code",
   "execution_count": 35,
   "metadata": {
    "id": "Zp6kBvZLxpSd",
    "outputId": "3713db2e-1204-4399-822c-49bdf5d63d21",
    "pycharm": {
     "is_executing": true
    }
   },
   "outputs": [
    {
     "name": "stdout",
     "output_type": "stream",
     "text": [
      "tensor([1, 5, 9])\n"
     ]
    }
   ],
   "source": [
    "print(x[:, 1])   # Second column"
   ]
  },
  {
   "cell_type": "code",
   "execution_count": 36,
   "metadata": {
    "id": "sJitnmoDxpSd",
    "outputId": "bd6f1552-5472-4c2a-f596-19eae68e90f5",
    "pycharm": {
     "is_executing": true
    }
   },
   "outputs": [
    {
     "name": "stdout",
     "output_type": "stream",
     "text": [
      "tensor([0, 1, 2, 3])\n"
     ]
    }
   ],
   "source": [
    "print(x[0])      # First row"
   ]
  },
  {
   "cell_type": "code",
   "execution_count": 37,
   "metadata": {
    "id": "w1z-xoboxpSd",
    "outputId": "6f4678c3-f388-420c-8f8a-e43649a9917b",
    "pycharm": {
     "is_executing": true
    }
   },
   "outputs": [
    {
     "name": "stdout",
     "output_type": "stream",
     "text": [
      "tensor([3, 7])\n"
     ]
    }
   ],
   "source": [
    "print(x[:2, -1]) # First two rows, last column"
   ]
  },
  {
   "cell_type": "code",
   "execution_count": 38,
   "metadata": {
    "id": "Q3jCDST_xpSe",
    "outputId": "97358023-c5bb-453d-e5c7-e1d048e9c90f",
    "pycharm": {
     "is_executing": true
    }
   },
   "outputs": [
    {
     "name": "stdout",
     "output_type": "stream",
     "text": [
      "tensor([[ 4,  5,  6,  7],\n",
      "        [ 8,  9, 10, 11]])\n"
     ]
    }
   ],
   "source": [
    "print(x[1:3, :]) # Middle two rows"
   ]
  },
  {
   "cell_type": "markdown",
   "metadata": {
    "id": "VNyar28pxpSe"
   },
   "source": [
    "### Dynamic Computation Graph and Backpropagation\n",
    "\n",
    "One of the main reasons for using PyTorch in Deep Learning projects is that we can automatically get **gradients/derivatives** of functions that we define. We will mainly use PyTorch for implementing neural networks, and they are just fancy functions. If we use weight matrices in our function that we want to learn, then those are called the **parameters** or simply the **weights**.\n",
    "\n",
    "If our neural network would output a single scalar value, we would talk about taking the **derivative**, but you will see that quite often we will have **multiple** output variables (\"values\"); in that case we talk about **gradients**. It's a more general term.\n",
    "\n",
    "Given an input $\\mathbf{x}$, we define our function by **manipulating** that input, usually by matrix-multiplications with weight matrices and additions with so-called bias vectors. As we manipulate our input, we are automatically creating a **computational graph**. This graph shows how to arrive at our output from our input. \n",
    "PyTorch is a **define-by-run** framework; this means that we can just do our manipulations, and PyTorch will keep track of that graph for us. Thus, we create a dynamic computation graph along the way.\n",
    "\n",
    "So, to recap: the only thing we have to do is to compute the **output**, and then we can ask PyTorch to automatically get the **gradients**. \n",
    "\n",
    "> **Note:  Why do we want gradients?** Consider that we have defined a function, a neural net, that is supposed to compute a certain output $y$ for an input vector $\\mathbf{x}$. We then define an **error measure** that tells us how wrong our network is; how bad it is in predicting output $y$ from input $\\mathbf{x}$. Based on this error measure, we can use the gradients to **update** the weights $\\mathbf{W}$ that were responsible for the output, so that the next time we present input $\\mathbf{x}$ to our network, the output will be closer to what we want.\n",
    "\n",
    "The first thing we have to do is to specify which tensors require gradients. By default, when we create a tensor, it does not require gradients."
   ]
  },
  {
   "cell_type": "code",
   "execution_count": 39,
   "metadata": {
    "id": "inLRZzkHxpSe",
    "outputId": "f72f065c-5e90-4f52-d307-94c4df8aa1d6",
    "pycharm": {
     "is_executing": true
    }
   },
   "outputs": [
    {
     "name": "stdout",
     "output_type": "stream",
     "text": [
      "False\n"
     ]
    }
   ],
   "source": [
    "x = torch.ones((3,))\n",
    "print(x.requires_grad)"
   ]
  },
  {
   "cell_type": "markdown",
   "metadata": {
    "id": "ruvVv6MvxpSe"
   },
   "source": [
    "We can change this for an existing tensor using the function `requires_grad_()` (underscore indicating that this is a in-place operation). Alternatively, when creating a tensor, you can pass the argument `requires_grad=True` to most initializers we have seen above."
   ]
  },
  {
   "cell_type": "code",
   "execution_count": 40,
   "metadata": {
    "id": "qjxpdWXXxpSe",
    "outputId": "a3343ea8-7c0f-4a91-ab6a-f36d821fd451",
    "pycharm": {
     "is_executing": true
    }
   },
   "outputs": [
    {
     "name": "stdout",
     "output_type": "stream",
     "text": [
      "True\n"
     ]
    }
   ],
   "source": [
    "x.requires_grad_(True)\n",
    "print(x.requires_grad)"
   ]
  },
  {
   "cell_type": "markdown",
   "metadata": {
    "id": "is-zGszoxpSe"
   },
   "source": [
    "In order to get familiar with the concept of a computation graph, we will create one for the following function:\n",
    "\n",
    "$$y = \\frac{1}{|x|}\\sum_i \\left[(x_i + 2)^2 + 3\\right]$$\n",
    "\n",
    "You could imagine that $x$ are our parameters, and we want to optimize (either maximize or minimize) the output $y$. For this, we want to obtain the gradients $\\partial y / \\partial \\mathbf{x}$. For our example, we'll use $\\mathbf{x}=[0,1,2]$ as our input."
   ]
  },
  {
   "cell_type": "code",
   "execution_count": 41,
   "metadata": {
    "id": "GtZx8DCGxpSe",
    "outputId": "58fefa66-1d33-42ac-a414-9308e4a81d8f",
    "pycharm": {
     "is_executing": true
    }
   },
   "outputs": [
    {
     "name": "stdout",
     "output_type": "stream",
     "text": [
      "X tensor([0., 1., 2.], requires_grad=True)\n"
     ]
    }
   ],
   "source": [
    "x = torch.arange(3, dtype=torch.float32, requires_grad=True) # Only float tensors can have gradients\n",
    "print(\"X\", x)"
   ]
  },
  {
   "cell_type": "markdown",
   "metadata": {
    "id": "fRC_n_pNxpSe"
   },
   "source": [
    "Now let's build the computation graph step by step. You can combine multiple operations in a single line, but we will separate them here to get a better understanding of how each operation is added to the computation graph."
   ]
  },
  {
   "cell_type": "code",
   "execution_count": 42,
   "metadata": {
    "id": "mCmzxOrrxpSe",
    "outputId": "5695d5ef-d54f-4c64-b57b-63564d4cf84e",
    "pycharm": {
     "is_executing": true
    }
   },
   "outputs": [
    {
     "name": "stdout",
     "output_type": "stream",
     "text": [
      "Y tensor(12.6667, grad_fn=<MeanBackward0>)\n"
     ]
    }
   ],
   "source": [
    "a = x + 2\n",
    "b = a ** 2\n",
    "c = b + 3\n",
    "y = c.mean()\n",
    "print(\"Y\", y)"
   ]
  },
  {
   "cell_type": "markdown",
   "metadata": {
    "id": "T2cDAk-UxpSe"
   },
   "source": [
    "Using the statements above, we have created a computation graph that looks similar to the figure below:\n",
    "\n",
    "<center style=\"width: 100%\"><img src=\"https://github.com/phlippe/uvadlc_notebooks/blob/master/docs/tutorial_notebooks/tutorial2/pytorch_computation_graph.svg?raw=1\" width=\"200px\"></center>\n",
    "\n",
    "We calculate $a$ based on the inputs $x$ and the constant $2$, $b$ is $a$ squared, and so on. The visualization is an abstraction of the dependencies between inputs and outputs of the operations we have applied.\n",
    "Each node of the computation graph has automatically defined a function for calculating the gradients with respect to its inputs, `grad_fn`. You can see this when we printed the output tensor $y$. This is why the computation graph is usually visualized in the reverse direction (arrows point from the result to the inputs). We can perform backpropagation on the computation graph by calling the function `backward()` on the last output, which effectively calculates the gradients for each tensor that has the property `requires_grad=True`:"
   ]
  },
  {
   "cell_type": "code",
   "execution_count": 43,
   "metadata": {
    "id": "4HTPAotkxpSf",
    "pycharm": {
     "is_executing": true
    }
   },
   "outputs": [],
   "source": [
    "y.backward()"
   ]
  },
  {
   "cell_type": "markdown",
   "metadata": {
    "id": "Ivdaa8PzxpSf"
   },
   "source": [
    "`x.grad` will now contain the gradient $\\partial y/ \\partial \\mathcal{x}$, and this gradient indicates how a change in $\\mathbf{x}$ will affect output $y$ given the current input $\\mathbf{x}=[0,1,2]$:"
   ]
  },
  {
   "cell_type": "code",
   "execution_count": 44,
   "metadata": {
    "id": "pJ3jTTRlxpSf",
    "outputId": "6ec6c225-6040-497a-ee7b-db3ba12d848b",
    "pycharm": {
     "is_executing": true
    }
   },
   "outputs": [
    {
     "name": "stdout",
     "output_type": "stream",
     "text": [
      "tensor([1.3333, 2.0000, 2.6667])\n"
     ]
    }
   ],
   "source": [
    "print(x.grad)"
   ]
  },
  {
   "cell_type": "markdown",
   "metadata": {
    "id": "HN5ljCzMxpSf"
   },
   "source": [
    "We can also verify these gradients by hand. We will calculate the gradients using the chain rule, in the same way as PyTorch did it:\n",
    "\n",
    "$$\\frac{\\partial y}{\\partial x_i} = \\frac{\\partial y}{\\partial c_i}\\frac{\\partial c_i}{\\partial b_i}\\frac{\\partial b_i}{\\partial a_i}\\frac{\\partial a_i}{\\partial x_i}$$\n",
    "\n",
    "Note that we have simplified this equation to index notation, and by using the fact that all operation besides the mean do not combine the elements in the tensor. The partial derivatives are:\n",
    "\n",
    "$$\n",
    "\\frac{\\partial a_i}{\\partial x_i} = 1,\\hspace{1cm}\n",
    "\\frac{\\partial b_i}{\\partial a_i} = 2\\cdot a_i\\hspace{1cm}\n",
    "\\frac{\\partial c_i}{\\partial b_i} = 1\\hspace{1cm}\n",
    "\\frac{\\partial y}{\\partial c_i} = \\frac{1}{3}\n",
    "$$\n",
    "\n",
    "Hence, with the input being $\\mathbf{x}=[0,1,2]$, our gradients are $\\partial y/\\partial \\mathbf{x}=[4/3,2,8/3]$. The previous code cell should have printed the same result."
   ]
  },
  {
   "cell_type": "markdown",
   "metadata": {
    "id": "s7wMiUqVxpSf"
   },
   "source": [
    "### GPU support\n",
    "\n",
    "A crucial feature of PyTorch is the support of GPUs, short for Graphics Processing Unit. A GPU can perform many thousands of small operations in parallel, making it very well suitable for performing large matrix operations in neural networks. When comparing GPUs to CPUs, we can list the following main differences (credit: [Kevin Krewell, 2009](https://blogs.nvidia.com/blog/2009/12/16/whats-the-difference-between-a-cpu-and-a-gpu/)) \n",
    "\n",
    "<center style=\"width: 100%\"><img src=\"https://github.com/phlippe/uvadlc_notebooks/blob/master/docs/tutorial_notebooks/tutorial2/comparison_CPU_GPU.png?raw=1\" width=\"700px\"></center>\n",
    "\n",
    "CPUs and GPUs have both different advantages and disadvantages, which is why many computers contain both components and use them for different tasks. In case you are not familiar with GPUs, you can read up more details in this [NVIDIA blog post](https://blogs.nvidia.com/blog/2009/12/16/whats-the-difference-between-a-cpu-and-a-gpu/) or [here](https://www.intel.com/content/www/us/en/products/docs/processors/what-is-a-gpu.html). \n",
    "\n",
    "GPUs can accelerate the training of your network up to a factor of $100$ which is essential for large neural networks. PyTorch implements a lot of functionality for supporting GPUs (mostly those of NVIDIA due to the libraries [CUDA](https://developer.nvidia.com/cuda-zone) and [cuDNN](https://developer.nvidia.com/cudnn)). First, let's check whether you have a GPU available:"
   ]
  },
  {
   "cell_type": "code",
   "execution_count": 45,
   "metadata": {
    "id": "SLvtgRbzxpSf",
    "outputId": "b587db48-53b0-44da-c84a-abbea9aee54a",
    "pycharm": {
     "is_executing": true
    }
   },
   "outputs": [
    {
     "name": "stdout",
     "output_type": "stream",
     "text": [
      "Is the GPU available? True\n"
     ]
    }
   ],
   "source": [
    "gpu_avail = torch.cuda.is_available()\n",
    "print(f\"Is the GPU available? {gpu_avail}\")"
   ]
  },
  {
   "cell_type": "markdown",
   "metadata": {
    "id": "-O0rJu-0xpSf"
   },
   "source": [
    "If you have a GPU on your computer but the command above returns False, make sure you have the correct CUDA-version installed. The `dl2021` environment comes with the CUDA-toolkit 11.3, which is selected for the Lisa supercomputer. Please change it if necessary (CUDA 11.1 is currently common on Colab). On Google Colab, make sure that you have selected a GPU in your runtime setup (in the menu, check under `Runtime -> Change runtime type`). \n",
    "\n",
    "By default, all tensors you create are stored on the CPU. We can push a tensor to the GPU by using the function `.to(...)`, or `.cuda()`. However, it is often a good practice to define a `device` object in your code which points to the GPU if you have one, and otherwise to the CPU. Then, you can write your code with respect to this device object, and it allows you to run the same code on both a CPU-only system, and one with a GPU. Let's try it below. We can specify the device as follows: "
   ]
  },
  {
   "cell_type": "code",
   "execution_count": 46,
   "metadata": {
    "colab": {
     "base_uri": "https://localhost:8080/"
    },
    "id": "8rGuEsR7xpSf",
    "outputId": "9419b0c5-711c-4b60-f009-7f946e8e75b6",
    "pycharm": {
     "is_executing": true
    }
   },
   "outputs": [
    {
     "name": "stdout",
     "output_type": "stream",
     "text": [
      "Device cuda\n"
     ]
    }
   ],
   "source": [
    "device = torch.device(\"cuda\") if torch.cuda.is_available() else torch.device(\"cpu\")\n",
    "print(\"Device\", device)"
   ]
  },
  {
   "cell_type": "markdown",
   "metadata": {
    "id": "e0sm_NKHxpSf"
   },
   "source": [
    "Now let's create a tensor and push it to the device:"
   ]
  },
  {
   "cell_type": "code",
   "execution_count": 47,
   "metadata": {
    "colab": {
     "base_uri": "https://localhost:8080/"
    },
    "id": "U6XM2LqMxpSf",
    "outputId": "ed4af123-8438-4990-d794-c8b7bb52d677",
    "pycharm": {
     "is_executing": true
    }
   },
   "outputs": [
    {
     "name": "stdout",
     "output_type": "stream",
     "text": [
      "X tensor([[0., 0., 0.],\n",
      "        [0., 0., 0.]], device='cuda:0')\n"
     ]
    }
   ],
   "source": [
    "x = torch.zeros(2, 3)\n",
    "x = x.to(device)\n",
    "print(\"X\", x)"
   ]
  },
  {
   "cell_type": "markdown",
   "metadata": {
    "id": "hLbX1FsfxpSf"
   },
   "source": [
    "In case you have a GPU, you should now see the attribute `device='cuda:0'` being printed next to your tensor. The zero next to cuda indicates that this is the zero-th GPU device on your computer. PyTorch also supports multi-GPU systems, but this you will only need once you have very big networks to train (if interested, see the [PyTorch documentation](https://pytorch.org/docs/stable/distributed.html#distributed-basics)). We can also compare the runtime of a large matrix multiplication on the CPU with a operation on the GPU:"
   ]
  },
  {
   "cell_type": "code",
   "execution_count": 52,
   "metadata": {
    "id": "mO8EvQFbxpSf",
    "pycharm": {
     "is_executing": true
    }
   },
   "outputs": [
    {
     "name": "stdout",
     "output_type": "stream",
     "text": [
      "CPU time: 0.49526s\n",
      "GPU time: 0.01992s\n",
      "Speedup: >24x\n"
     ]
    }
   ],
   "source": [
    "x = torch.randn(5000, 5000)\n",
    "\n",
    "## CPU version\n",
    "start_time = time.time()\n",
    "_ = torch.matmul(x, x)\n",
    "end_time = time.time()\n",
    "cpu_elapsed_time = end_time - start_time\n",
    "print(f\"CPU time: {(cpu_elapsed_time):6.5f}s\")\n",
    "\n",
    "## GPU version\n",
    "x = x.to(device)\n",
    "# CUDA is asynchronous, so we need to use different timing functions\n",
    "start = torch.cuda.Event(enable_timing=True)\n",
    "end = torch.cuda.Event(enable_timing=True)\n",
    "start.record()\n",
    "_ = torch.matmul(x, x)\n",
    "end.record()\n",
    "torch.cuda.synchronize()  # Waits for everything to finish running on the GPU\n",
    "gpu_elapsed_time = 0.001 * start.elapsed_time(end) # Milliseconds to seconds\n",
    "print(f\"GPU time: {gpu_elapsed_time:6.5f}s\")  \n",
    "print(f\"Speedup: >{int(cpu_elapsed_time/gpu_elapsed_time)}x\")"
   ]
  },
  {
   "cell_type": "markdown",
   "metadata": {
    "id": "TjqOmD_axpSf"
   },
   "source": [
    "Depending on the size of the operation and the CPU/GPU in your system, the speedup of this operation can be >50x. As `matmul` operations are very common in neural networks, we can already see the great benefit of training a NN on a GPU. The time estimate can be relatively noisy here because we haven't run it for multiple times. Feel free to extend this, but it also takes longer to run.\n",
    "\n",
    "When generating random numbers, the seed between CPU and GPU is not synchronized. Hence, we need to set the seed on the GPU separately to ensure a reproducible code. Note that due to different GPU architectures, running the same code on different GPUs does not guarantee the same random numbers. Still, we don't want that our code gives us a different output every time we run it on the exact same hardware. Hence, we also set the seed on the GPU:"
   ]
  },
  {
   "cell_type": "code",
   "execution_count": 54,
   "metadata": {
    "id": "T0HrQKsxxpSg",
    "pycharm": {
     "is_executing": true
    }
   },
   "outputs": [],
   "source": [
    "# VERY IMPORTANT!\n",
    "# GPU operations have a separate seed we also want to set\n",
    "if torch.cuda.is_available(): \n",
    "    torch.cuda.manual_seed(42)\n",
    "    torch.cuda.manual_seed_all(42)\n",
    "    \n",
    "# Additionally, some operations on a GPU are implemented stochastic for efficiency\n",
    "# We want to ensure that all operations are deterministic on GPU (if used) for reproducibility\n",
    "torch.backends.cudnn.determinstic = True\n",
    "torch.backends.cudnn.benchmark = False"
   ]
  },
  {
   "cell_type": "markdown",
   "metadata": {
    "id": "pJ73Hgx-xpSg"
   },
   "source": [
    "## Learning by example: Continuous XOR\n",
    "\n",
    "If we want to build a neural network in PyTorch, we could specify all our parameters (weight matrices, bias vectors) using `Tensors` (with `requires_grad=True`), ask PyTorch to calculate the gradients and then adjust the parameters. But things can quickly get cumbersome if we have a lot of parameters. In PyTorch, there is a package called `torch.nn` that makes building neural networks more convenient. \n",
    "\n",
    "We will introduce the libraries and all additional parts you might need to train a neural network in PyTorch, using a simple example classifier on a simple yet well known example: XOR. Given two binary inputs $x_1$ and $x_2$, the label to predict is $1$ if either $x_1$ or $x_2$ is $1$ while the other is $0$, or the label is $0$ in all other cases. The example became famous by the fact that a single neuron, i.e. a linear classifier, cannot learn this simple function.\n",
    "Hence, we will learn how to build a small neural network that can learn this function. \n",
    "To make it a little bit more interesting, we move the XOR into continuous space and introduce some gaussian noise on the binary inputs. Our desired separation of an XOR dataset could look as follows:\n",
    "\n",
    "<center style=\"width: 100%\"><img src=\"https://github.com/phlippe/uvadlc_notebooks/blob/master/docs/tutorial_notebooks/tutorial2/continuous_xor.svg?raw=1\" width=\"350px\"></center>"
   ]
  },
  {
   "cell_type": "markdown",
   "metadata": {
    "id": "oU7rfTWoxpSg"
   },
   "source": [
    "### The model\n",
    "\n",
    "The package `torch.nn` defines a series of useful classes like linear networks layers, activation functions, loss functions etc. A full list can be found [here](https://pytorch.org/docs/stable/nn.html). In case you need a certain network layer, check the documentation of the package first before writing the layer yourself as the package likely contains the code for it already. We import it below:"
   ]
  },
  {
   "cell_type": "code",
   "execution_count": 55,
   "metadata": {
    "id": "4o314IQyxpSg",
    "pycharm": {
     "is_executing": true
    }
   },
   "outputs": [],
   "source": [
    "import torch.nn as nn"
   ]
  },
  {
   "cell_type": "markdown",
   "metadata": {
    "id": "lDFxSMhGxpSg"
   },
   "source": [
    "Additionally to `torch.nn`, there is also `torch.nn.functional`. It contains functions that are used in network layers. This is in contrast to `torch.nn` which defines them as `nn.Modules` (more on it below), and `torch.nn` actually uses a lot of functionalities from `torch.nn.functional`. Hence, the functional package is useful in many situations, and so we import it as well here."
   ]
  },
  {
   "cell_type": "code",
   "execution_count": 56,
   "metadata": {
    "id": "nOf1FUYWxpSg",
    "pycharm": {
     "is_executing": true
    }
   },
   "outputs": [],
   "source": [
    "import torch.nn.functional as F"
   ]
  },
  {
   "cell_type": "markdown",
   "metadata": {
    "id": "cDARHc6TxpSg"
   },
   "source": [
    "#### nn.Module\n",
    "\n",
    "In PyTorch, a neural network is built up out of modules. Modules can contain other modules, and a neural network is considered to be a module itself as well. The basic template of a module is as follows:"
   ]
  },
  {
   "cell_type": "code",
   "execution_count": 57,
   "metadata": {
    "id": "XJ4vpp4kxpSg",
    "pycharm": {
     "is_executing": true
    }
   },
   "outputs": [],
   "source": [
    "class MyModule(nn.Module):\n",
    "    \n",
    "    def __init__(self):\n",
    "        super().__init__()\n",
    "        # Some init for my module\n",
    "        \n",
    "    def forward(self, x):\n",
    "        # Function for performing the calculation of the module.\n",
    "        pass"
   ]
  },
  {
   "cell_type": "markdown",
   "metadata": {
    "id": "yGmdt6PpxpSg"
   },
   "source": [
    "The forward function is where the computation of the module is taken place, and is executed when you call the module (`nn = MyModule(); nn(x)`). In the init function, we usually create the parameters of the module, using `nn.Parameter`, or defining other modules that are used in the forward function. The backward calculation is done automatically, but could be overwritten as well if wanted.\n",
    "\n",
    "#### Simple classifier\n",
    "We can now make use of the pre-defined modules in the `torch.nn` package, and define our own small neural network. We will use a minimal network with a input layer, one hidden layer with tanh as activation function, and a output layer. In other words, our networks should look something like this:\n",
    "\n",
    "<center width=\"100%\"><img src=\"https://github.com/phlippe/uvadlc_notebooks/blob/master/docs/tutorial_notebooks/tutorial2/small_neural_network.svg?raw=1\" width=\"300px\"></center>\n",
    "\n",
    "The input neurons are shown in blue, which represent the coordinates $x_1$ and $x_2$ of a data point. The hidden neurons including a tanh activation are shown in white, and the output neuron in red.\n",
    "In PyTorch, we can define this as follows:"
   ]
  },
  {
   "cell_type": "code",
   "execution_count": 58,
   "metadata": {
    "id": "iXkm0Xl8xpSg",
    "pycharm": {
     "is_executing": true
    }
   },
   "outputs": [],
   "source": [
    "class SimpleClassifier(nn.Module):\n",
    "\n",
    "    def __init__(self, num_inputs, num_hidden, num_outputs):\n",
    "        super().__init__()\n",
    "        # Initialize the modules we need to build the network\n",
    "        self.linear1 = nn.Linear(num_inputs, num_hidden)\n",
    "        self.act_fn = nn.Tanh()\n",
    "        self.linear2 = nn.Linear(num_hidden, num_outputs)\n",
    "\n",
    "    def forward(self, x):\n",
    "        # Perform the calculation of the model to determine the prediction\n",
    "        x = self.linear1(x)\n",
    "        x = self.act_fn(x)\n",
    "        x = self.linear2(x)\n",
    "        return x # Very Important: logits outputs!"
   ]
  },
  {
   "cell_type": "markdown",
   "metadata": {
    "id": "D-ZZRcEMxpSg"
   },
   "source": [
    "For the examples in this notebook, we will use a tiny neural network with two input neurons and four hidden neurons. As we perform binary classification, we will use a single output neuron. **Note that we do not apply a sigmoid on the output yet!** This is because other functions, especially the loss, are more efficient and precise to calculate on the original outputs instead of the sigmoid output. We will discuss the detailed reason later."
   ]
  },
  {
   "cell_type": "code",
   "execution_count": 59,
   "metadata": {
    "id": "E60TbuiYxpSg",
    "outputId": "452bf937-912a-4797-968c-e1381c300a5f",
    "pycharm": {
     "is_executing": true
    }
   },
   "outputs": [
    {
     "name": "stdout",
     "output_type": "stream",
     "text": [
      "SimpleClassifier(\n",
      "  (linear1): Linear(in_features=2, out_features=4, bias=True)\n",
      "  (act_fn): Tanh()\n",
      "  (linear2): Linear(in_features=4, out_features=1, bias=True)\n",
      ")\n"
     ]
    }
   ],
   "source": [
    "model = SimpleClassifier(num_inputs=2, num_hidden=4, num_outputs=1)\n",
    "# Printing a module shows all its submodules\n",
    "print(model)"
   ]
  },
  {
   "cell_type": "markdown",
   "metadata": {
    "id": "ifA1HapaxpSh"
   },
   "source": [
    "Printing the model lists all submodules it contains. The parameters of a module can be obtained by using its `parameters()` functions, or `named_parameters()` to get a name to each parameter object. For our small neural network, we have the following parameters:"
   ]
  },
  {
   "cell_type": "code",
   "execution_count": 60,
   "metadata": {
    "id": "sKejfdBIxpSh",
    "outputId": "1ac26937-86f7-4f3d-c8f1-3c5a9101cb0c",
    "pycharm": {
     "is_executing": true
    }
   },
   "outputs": [
    {
     "name": "stdout",
     "output_type": "stream",
     "text": [
      "Parameter linear1.weight, shape torch.Size([4, 2])\n",
      "Parameter linear1.bias, shape torch.Size([4])\n",
      "Parameter linear2.weight, shape torch.Size([1, 4])\n",
      "Parameter linear2.bias, shape torch.Size([1])\n"
     ]
    }
   ],
   "source": [
    "for name, param in model.named_parameters():\n",
    "    print(f\"Parameter {name}, shape {param.shape}\")"
   ]
  },
  {
   "cell_type": "markdown",
   "metadata": {
    "id": "SQvusZEkxpSh"
   },
   "source": [
    "Each linear layer has a weight matrix of the shape `[output, input]`, and a bias of the shape `[output]`. The tanh activation function does not have any parameters. Note that parameters are only registered for `nn.Module` objects that are direct object attributes, i.e. `self.a = ...`. If you define a list of modules, the parameters of those are not registered for the outer module and can cause some issues when you try to optimize your module. There are alternatives, like `nn.ModuleList`, `nn.ModuleDict` and `nn.Sequential`, that allow you to have different data structures of modules. We will use them in a few later tutorials and explain them there. "
   ]
  },
  {
   "cell_type": "markdown",
   "metadata": {
    "id": "KmTiOJ8axpSh"
   },
   "source": [
    "### The data\n",
    "\n",
    "PyTorch also provides a few functionalities to load the training and test data efficiently, summarized in the package `torch.utils.data`."
   ]
  },
  {
   "cell_type": "code",
   "execution_count": 61,
   "metadata": {
    "id": "zRPsgJeHxpSh",
    "pycharm": {
     "is_executing": true
    }
   },
   "outputs": [],
   "source": [
    "import torch.utils.data as data"
   ]
  },
  {
   "cell_type": "markdown",
   "metadata": {
    "id": "Q6Jx1WaXxpSh"
   },
   "source": [
    "The data package defines two classes which are the standard interface for handling data in PyTorch: `data.Dataset`, and `data.DataLoader`. The dataset class provides an uniform interface to access the training/test data, while the data loader makes sure to efficiently load and stack the data points from the dataset into batches during training."
   ]
  },
  {
   "cell_type": "markdown",
   "metadata": {
    "id": "0Iv864xfxpSh"
   },
   "source": [
    "#### The dataset class\n",
    "\n",
    "The dataset class summarizes the basic functionality of a dataset in a natural way. To define a dataset in PyTorch, we simply specify two functions: `__getitem__`, and `__len__`. The get-item function has to return the $i$-th data point in the dataset, while the len function returns the size of the dataset. For the XOR dataset, we can define the dataset class as follows:"
   ]
  },
  {
   "cell_type": "code",
   "execution_count": 62,
   "metadata": {
    "id": "Va4DiQAAxpSh",
    "pycharm": {
     "is_executing": true
    }
   },
   "outputs": [],
   "source": [
    "class XORDataset(data.Dataset):\n",
    "\n",
    "    def __init__(self, size, std=0.1):\n",
    "        \"\"\"\n",
    "        Inputs:\n",
    "            size - Number of data points we want to generate\n",
    "            std - Standard deviation of the noise (see generate_continuous_xor function)\n",
    "        \"\"\"\n",
    "        super().__init__()\n",
    "        self.size = size\n",
    "        self.std = std\n",
    "        self.generate_continuous_xor()\n",
    "\n",
    "    def generate_continuous_xor(self):\n",
    "        # Each data point in the XOR dataset has two variables, x and y, that can be either 0 or 1\n",
    "        # The label is their XOR combination, i.e. 1 if only x or only y is 1 while the other is 0.\n",
    "        # If x=y, the label is 0.\n",
    "        data = torch.randint(low=0, high=2, size=(self.size, 2), dtype=torch.float32)\n",
    "        label = (data.sum(dim=1) == 1).to(torch.long)\n",
    "        # To make it slightly more challenging, we add a bit of gaussian noise to the data points.\n",
    "        data += self.std * torch.randn(data.shape)\n",
    "\n",
    "        self.data = data\n",
    "        self.label = label\n",
    "\n",
    "    def __len__(self):\n",
    "        # Number of data point we have. Alternatively self.data.shape[0], or self.label.shape[0]\n",
    "        return self.size\n",
    "\n",
    "    def __getitem__(self, idx):\n",
    "        # Return the idx-th data point of the dataset\n",
    "        # If we have multiple things to return (data point and label), we can return them as tuple\n",
    "        data_point = self.data[idx]\n",
    "        data_label = self.label[idx]\n",
    "        return data_point, data_label"
   ]
  },
  {
   "cell_type": "markdown",
   "metadata": {
    "id": "aKfBXzNAxpSh"
   },
   "source": [
    "Let's try to create such a dataset and inspect it:"
   ]
  },
  {
   "cell_type": "code",
   "execution_count": 63,
   "metadata": {
    "id": "pvFwgBMexpSh",
    "outputId": "2e72e5f7-425e-4b61-b7f3-65d2263b939c",
    "pycharm": {
     "is_executing": true
    }
   },
   "outputs": [
    {
     "name": "stdout",
     "output_type": "stream",
     "text": [
      "Size of dataset: 200\n",
      "Data point 0: (tensor([ 0.1258, -0.0308]), tensor(0))\n"
     ]
    }
   ],
   "source": [
    "dataset = XORDataset(size=200)\n",
    "print(\"Size of dataset:\", len(dataset))\n",
    "print(\"Data point 0:\", dataset[0])"
   ]
  },
  {
   "cell_type": "markdown",
   "metadata": {
    "id": "89FokIQSxpSh"
   },
   "source": [
    "To better relate to the dataset, we visualize the samples below. "
   ]
  },
  {
   "cell_type": "code",
   "execution_count": 64,
   "metadata": {
    "id": "pszlFMNFxpSh",
    "pycharm": {
     "is_executing": true
    }
   },
   "outputs": [],
   "source": [
    "def visualize_samples(data, label):\n",
    "    if isinstance(data, torch.Tensor):\n",
    "        data = data.cpu().numpy()\n",
    "    if isinstance(label, torch.Tensor):\n",
    "        label = label.cpu().numpy()\n",
    "    data_0 = data[label == 0]\n",
    "    data_1 = data[label == 1]\n",
    "    \n",
    "    plt.figure(figsize=(4,4))\n",
    "    plt.scatter(data_0[:,0], data_0[:,1], edgecolor=\"#333\", label=\"Class 0\")\n",
    "    plt.scatter(data_1[:,0], data_1[:,1], edgecolor=\"#333\", label=\"Class 1\")\n",
    "    plt.title(\"Dataset samples\")\n",
    "    plt.ylabel(r\"$x_2$\")\n",
    "    plt.xlabel(r\"$x_1$\")\n",
    "    plt.legend()"
   ]
  },
  {
   "cell_type": "code",
   "execution_count": 65,
   "metadata": {
    "id": "ixVPkMQsxpSh",
    "outputId": "4a811867-2890-4de8-c8f3-26c59725928e",
    "pycharm": {
     "is_executing": true
    }
   },
   "outputs": [
    {
     "data": {
      "application/pdf": "[encoded data removed]",
      "image/svg+xml": [
       "<?xml version=\"1.0\" encoding=\"utf-8\" standalone=\"no\"?>\n",
       "<!DOCTYPE svg PUBLIC \"-//W3C//DTD SVG 1.1//EN\"\n",
       "  \"http://www.w3.org/Graphics/SVG/1.1/DTD/svg11.dtd\">\n",
       "<svg xmlns:xlink=\"http://www.w3.org/1999/xlink\" width=\"283.789062pt\" height=\"285.283594pt\" viewBox=\"0 0 283.789062 285.283594\" xmlns=\"http://www.w3.org/2000/svg\" version=\"1.1\">\n",
       " <metadata>\n",
       "  <rdf:RDF xmlns:dc=\"http://purl.org/dc/elements/1.1/\" xmlns:cc=\"http://creativecommons.org/ns#\" xmlns:rdf=\"http://www.w3.org/1999/02/22-rdf-syntax-ns#\">\n",
       "   <cc:Work>\n",
       "    <dc:type rdf:resource=\"http://purl.org/dc/dcmitype/StillImage\"/>\n",
       "    <dc:date>2023-04-27T12:22:19.214440</dc:date>\n",
       "    <dc:format>image/svg+xml</dc:format>\n",
       "    <dc:creator>\n",
       "     <cc:Agent>\n",
       "      <dc:title>Matplotlib v3.7.1, https://matplotlib.org/</dc:title>\n",
       "     </cc:Agent>\n",
       "    </dc:creator>\n",
       "   </cc:Work>\n",
       "  </rdf:RDF>\n",
       " </metadata>\n",
       " <defs>\n",
       "  <style type=\"text/css\">*{stroke-linejoin: round; stroke-linecap: butt}</style>\n",
       " </defs>\n",
       " <g id=\"figure_1\">\n",
       "  <g id=\"patch_1\">\n",
       "   <path d=\"M 0 285.283594 \n",
       "L 283.789062 285.283594 \n",
       "L 283.789062 0 \n",
       "L 0 0 \n",
       "z\n",
       "\" style=\"fill: #ffffff\"/>\n",
       "  </g>\n",
       "  <g id=\"axes_1\">\n",
       "   <g id=\"patch_2\">\n",
       "    <path d=\"M 53.389062 243.549375 \n",
       "L 276.589063 243.549375 \n",
       "L 276.589063 21.789375 \n",
       "L 53.389062 21.789375 \n",
       "z\n",
       "\" style=\"fill: #eaeaf2\"/>\n",
       "   </g>\n",
       "   <g id=\"matplotlib.axis_1\">\n",
       "    <g id=\"xtick_1\">\n",
       "     <g id=\"line2d_1\">\n",
       "      <path d=\"M 98.539232 243.549375 \n",
       "L 98.539232 21.789375 \n",
       "\" clip-path=\"url(#p15888276bd)\" style=\"fill: none; stroke: #ffffff; stroke-linecap: round\"/>\n",
       "     </g>\n",
       "     <g id=\"text_1\">\n",
       "      <!-- 0.0 -->\n",
       "      <g style=\"fill: #262626\" transform=\"translate(90.894232 260.922969) scale(0.11 -0.11)\">\n",
       "       <defs>\n",
       "        <path id=\"ArialMT-30\" d=\"M 266 2259 \n",
       "Q 266 3072 433 3567 \n",
       "Q 600 4063 929 4331 \n",
       "Q 1259 4600 1759 4600 \n",
       "Q 2128 4600 2406 4451 \n",
       "Q 2684 4303 2865 4023 \n",
       "Q 3047 3744 3150 3342 \n",
       "Q 3253 2941 3253 2259 \n",
       "Q 3253 1453 3087 958 \n",
       "Q 2922 463 2592 192 \n",
       "Q 2263 -78 1759 -78 \n",
       "Q 1097 -78 719 397 \n",
       "Q 266 969 266 2259 \n",
       "z\n",
       "M 844 2259 \n",
       "Q 844 1131 1108 757 \n",
       "Q 1372 384 1759 384 \n",
       "Q 2147 384 2411 759 \n",
       "Q 2675 1134 2675 2259 \n",
       "Q 2675 3391 2411 3762 \n",
       "Q 2147 4134 1753 4134 \n",
       "Q 1366 4134 1134 3806 \n",
       "Q 844 3388 844 2259 \n",
       "z\n",
       "\" transform=\"scale(0.015625)\"/>\n",
       "        <path id=\"ArialMT-2e\" d=\"M 581 0 \n",
       "L 581 641 \n",
       "L 1222 641 \n",
       "L 1222 0 \n",
       "L 581 0 \n",
       "z\n",
       "\" transform=\"scale(0.015625)\"/>\n",
       "       </defs>\n",
       "       <use xlink:href=\"#ArialMT-30\"/>\n",
       "       <use xlink:href=\"#ArialMT-2e\" x=\"55.615234\"/>\n",
       "       <use xlink:href=\"#ArialMT-30\" x=\"83.398438\"/>\n",
       "      </g>\n",
       "     </g>\n",
       "    </g>\n",
       "    <g id=\"xtick_2\">\n",
       "     <g id=\"line2d_2\">\n",
       "      <path d=\"M 168.968375 243.549375 \n",
       "L 168.968375 21.789375 \n",
       "\" clip-path=\"url(#p15888276bd)\" style=\"fill: none; stroke: #ffffff; stroke-linecap: round\"/>\n",
       "     </g>\n",
       "     <g id=\"text_2\">\n",
       "      <!-- 0.5 -->\n",
       "      <g style=\"fill: #262626\" transform=\"translate(161.323375 260.922969) scale(0.11 -0.11)\">\n",
       "       <defs>\n",
       "        <path id=\"ArialMT-35\" d=\"M 266 1200 \n",
       "L 856 1250 \n",
       "Q 922 819 1161 601 \n",
       "Q 1400 384 1738 384 \n",
       "Q 2144 384 2425 690 \n",
       "Q 2706 997 2706 1503 \n",
       "Q 2706 1984 2436 2262 \n",
       "Q 2166 2541 1728 2541 \n",
       "Q 1456 2541 1237 2417 \n",
       "Q 1019 2294 894 2097 \n",
       "L 366 2166 \n",
       "L 809 4519 \n",
       "L 3088 4519 \n",
       "L 3088 3981 \n",
       "L 1259 3981 \n",
       "L 1013 2750 \n",
       "Q 1425 3038 1878 3038 \n",
       "Q 2478 3038 2890 2622 \n",
       "Q 3303 2206 3303 1553 \n",
       "Q 3303 931 2941 478 \n",
       "Q 2500 -78 1738 -78 \n",
       "Q 1113 -78 717 272 \n",
       "Q 322 622 266 1200 \n",
       "z\n",
       "\" transform=\"scale(0.015625)\"/>\n",
       "       </defs>\n",
       "       <use xlink:href=\"#ArialMT-30\"/>\n",
       "       <use xlink:href=\"#ArialMT-2e\" x=\"55.615234\"/>\n",
       "       <use xlink:href=\"#ArialMT-35\" x=\"83.398438\"/>\n",
       "      </g>\n",
       "     </g>\n",
       "    </g>\n",
       "    <g id=\"xtick_3\">\n",
       "     <g id=\"line2d_3\">\n",
       "      <path d=\"M 239.397519 243.549375 \n",
       "L 239.397519 21.789375 \n",
       "\" clip-path=\"url(#p15888276bd)\" style=\"fill: none; stroke: #ffffff; stroke-linecap: round\"/>\n",
       "     </g>\n",
       "     <g id=\"text_3\">\n",
       "      <!-- 1.0 -->\n",
       "      <g style=\"fill: #262626\" transform=\"translate(231.752519 260.922969) scale(0.11 -0.11)\">\n",
       "       <defs>\n",
       "        <path id=\"ArialMT-31\" d=\"M 2384 0 \n",
       "L 1822 0 \n",
       "L 1822 3584 \n",
       "Q 1619 3391 1289 3197 \n",
       "Q 959 3003 697 2906 \n",
       "L 697 3450 \n",
       "Q 1169 3672 1522 3987 \n",
       "Q 1875 4303 2022 4600 \n",
       "L 2384 4600 \n",
       "L 2384 0 \n",
       "z\n",
       "\" transform=\"scale(0.015625)\"/>\n",
       "       </defs>\n",
       "       <use xlink:href=\"#ArialMT-31\"/>\n",
       "       <use xlink:href=\"#ArialMT-2e\" x=\"55.615234\"/>\n",
       "       <use xlink:href=\"#ArialMT-30\" x=\"83.398438\"/>\n",
       "      </g>\n",
       "     </g>\n",
       "    </g>\n",
       "    <g id=\"text_4\">\n",
       "     <!-- $x_1$ -->\n",
       "     <g style=\"fill: #262626\" transform=\"translate(158.569063 275.698594) scale(0.12 -0.12)\">\n",
       "      <defs>\n",
       "       <path id=\"DejaVuSans-Oblique-78\" d=\"M 3841 3500 \n",
       "L 2234 1784 \n",
       "L 3219 0 \n",
       "L 2559 0 \n",
       "L 1819 1388 \n",
       "L 531 0 \n",
       "L -166 0 \n",
       "L 1556 1844 \n",
       "L 641 3500 \n",
       "L 1300 3500 \n",
       "L 1972 2234 \n",
       "L 3144 3500 \n",
       "L 3841 3500 \n",
       "z\n",
       "\" transform=\"scale(0.015625)\"/>\n",
       "       <path id=\"DejaVuSans-31\" d=\"M 794 531 \n",
       "L 1825 531 \n",
       "L 1825 4091 \n",
       "L 703 3866 \n",
       "L 703 4441 \n",
       "L 1819 4666 \n",
       "L 2450 4666 \n",
       "L 2450 531 \n",
       "L 3481 531 \n",
       "L 3481 0 \n",
       "L 794 0 \n",
       "L 794 531 \n",
       "z\n",
       "\" transform=\"scale(0.015625)\"/>\n",
       "      </defs>\n",
       "      <use xlink:href=\"#DejaVuSans-Oblique-78\" transform=\"translate(0 0.3125)\"/>\n",
       "      <use xlink:href=\"#DejaVuSans-31\" transform=\"translate(59.179688 -16.09375) scale(0.7)\"/>\n",
       "     </g>\n",
       "    </g>\n",
       "   </g>\n",
       "   <g id=\"matplotlib.axis_2\">\n",
       "    <g id=\"ytick_1\">\n",
       "     <g id=\"line2d_4\">\n",
       "      <path d=\"M 53.389062 232.516877 \n",
       "L 276.589063 232.516877 \n",
       "\" clip-path=\"url(#p15888276bd)\" style=\"fill: none; stroke: #ffffff; stroke-linecap: round\"/>\n",
       "     </g>\n",
       "     <g id=\"text_5\">\n",
       "      <!-- −0.2 -->\n",
       "      <g style=\"fill: #262626\" transform=\"translate(22.174375 236.453674) scale(0.11 -0.11)\">\n",
       "       <defs>\n",
       "        <path id=\"ArialMT-2212\" d=\"M 3381 1997 \n",
       "L 356 1997 \n",
       "L 356 2522 \n",
       "L 3381 2522 \n",
       "L 3381 1997 \n",
       "z\n",
       "\" transform=\"scale(0.015625)\"/>\n",
       "        <path id=\"ArialMT-32\" d=\"M 3222 541 \n",
       "L 3222 0 \n",
       "L 194 0 \n",
       "Q 188 203 259 391 \n",
       "Q 375 700 629 1000 \n",
       "Q 884 1300 1366 1694 \n",
       "Q 2113 2306 2375 2664 \n",
       "Q 2638 3022 2638 3341 \n",
       "Q 2638 3675 2398 3904 \n",
       "Q 2159 4134 1775 4134 \n",
       "Q 1369 4134 1125 3890 \n",
       "Q 881 3647 878 3216 \n",
       "L 300 3275 \n",
       "Q 359 3922 746 4261 \n",
       "Q 1134 4600 1788 4600 \n",
       "Q 2447 4600 2831 4234 \n",
       "Q 3216 3869 3216 3328 \n",
       "Q 3216 3053 3103 2787 \n",
       "Q 2991 2522 2730 2228 \n",
       "Q 2469 1934 1863 1422 \n",
       "Q 1356 997 1212 845 \n",
       "Q 1069 694 975 541 \n",
       "L 3222 541 \n",
       "z\n",
       "\" transform=\"scale(0.015625)\"/>\n",
       "       </defs>\n",
       "       <use xlink:href=\"#ArialMT-2212\"/>\n",
       "       <use xlink:href=\"#ArialMT-30\" x=\"58.398438\"/>\n",
       "       <use xlink:href=\"#ArialMT-2e\" x=\"114.013672\"/>\n",
       "       <use xlink:href=\"#ArialMT-32\" x=\"141.796875\"/>\n",
       "      </g>\n",
       "     </g>\n",
       "    </g>\n",
       "    <g id=\"ytick_2\">\n",
       "     <g id=\"line2d_5\">\n",
       "      <path d=\"M 53.389062 204.644852 \n",
       "L 276.589063 204.644852 \n",
       "\" clip-path=\"url(#p15888276bd)\" style=\"fill: none; stroke: #ffffff; stroke-linecap: round\"/>\n",
       "     </g>\n",
       "     <g id=\"text_6\">\n",
       "      <!-- 0.0 -->\n",
       "      <g style=\"fill: #262626\" transform=\"translate(28.599062 208.581649) scale(0.11 -0.11)\">\n",
       "       <use xlink:href=\"#ArialMT-30\"/>\n",
       "       <use xlink:href=\"#ArialMT-2e\" x=\"55.615234\"/>\n",
       "       <use xlink:href=\"#ArialMT-30\" x=\"83.398438\"/>\n",
       "      </g>\n",
       "     </g>\n",
       "    </g>\n",
       "    <g id=\"ytick_3\">\n",
       "     <g id=\"line2d_6\">\n",
       "      <path d=\"M 53.389062 176.772826 \n",
       "L 276.589063 176.772826 \n",
       "\" clip-path=\"url(#p15888276bd)\" style=\"fill: none; stroke: #ffffff; stroke-linecap: round\"/>\n",
       "     </g>\n",
       "     <g id=\"text_7\">\n",
       "      <!-- 0.2 -->\n",
       "      <g style=\"fill: #262626\" transform=\"translate(28.599062 180.709623) scale(0.11 -0.11)\">\n",
       "       <use xlink:href=\"#ArialMT-30\"/>\n",
       "       <use xlink:href=\"#ArialMT-2e\" x=\"55.615234\"/>\n",
       "       <use xlink:href=\"#ArialMT-32\" x=\"83.398438\"/>\n",
       "      </g>\n",
       "     </g>\n",
       "    </g>\n",
       "    <g id=\"ytick_4\">\n",
       "     <g id=\"line2d_7\">\n",
       "      <path d=\"M 53.389062 148.900801 \n",
       "L 276.589063 148.900801 \n",
       "\" clip-path=\"url(#p15888276bd)\" style=\"fill: none; stroke: #ffffff; stroke-linecap: round\"/>\n",
       "     </g>\n",
       "     <g id=\"text_8\">\n",
       "      <!-- 0.4 -->\n",
       "      <g style=\"fill: #262626\" transform=\"translate(28.599062 152.837598) scale(0.11 -0.11)\">\n",
       "       <defs>\n",
       "        <path id=\"ArialMT-34\" d=\"M 2069 0 \n",
       "L 2069 1097 \n",
       "L 81 1097 \n",
       "L 81 1613 \n",
       "L 2172 4581 \n",
       "L 2631 4581 \n",
       "L 2631 1613 \n",
       "L 3250 1613 \n",
       "L 3250 1097 \n",
       "L 2631 1097 \n",
       "L 2631 0 \n",
       "L 2069 0 \n",
       "z\n",
       "M 2069 1613 \n",
       "L 2069 3678 \n",
       "L 634 1613 \n",
       "L 2069 1613 \n",
       "z\n",
       "\" transform=\"scale(0.015625)\"/>\n",
       "       </defs>\n",
       "       <use xlink:href=\"#ArialMT-30\"/>\n",
       "       <use xlink:href=\"#ArialMT-2e\" x=\"55.615234\"/>\n",
       "       <use xlink:href=\"#ArialMT-34\" x=\"83.398438\"/>\n",
       "      </g>\n",
       "     </g>\n",
       "    </g>\n",
       "    <g id=\"ytick_5\">\n",
       "     <g id=\"line2d_8\">\n",
       "      <path d=\"M 53.389062 121.028775 \n",
       "L 276.589063 121.028775 \n",
       "\" clip-path=\"url(#p15888276bd)\" style=\"fill: none; stroke: #ffffff; stroke-linecap: round\"/>\n",
       "     </g>\n",
       "     <g id=\"text_9\">\n",
       "      <!-- 0.6 -->\n",
       "      <g style=\"fill: #262626\" transform=\"translate(28.599062 124.965572) scale(0.11 -0.11)\">\n",
       "       <defs>\n",
       "        <path id=\"ArialMT-36\" d=\"M 3184 3459 \n",
       "L 2625 3416 \n",
       "Q 2550 3747 2413 3897 \n",
       "Q 2184 4138 1850 4138 \n",
       "Q 1581 4138 1378 3988 \n",
       "Q 1113 3794 959 3422 \n",
       "Q 806 3050 800 2363 \n",
       "Q 1003 2672 1297 2822 \n",
       "Q 1591 2972 1913 2972 \n",
       "Q 2475 2972 2870 2558 \n",
       "Q 3266 2144 3266 1488 \n",
       "Q 3266 1056 3080 686 \n",
       "Q 2894 316 2569 119 \n",
       "Q 2244 -78 1831 -78 \n",
       "Q 1128 -78 684 439 \n",
       "Q 241 956 241 2144 \n",
       "Q 241 3472 731 4075 \n",
       "Q 1159 4600 1884 4600 \n",
       "Q 2425 4600 2770 4297 \n",
       "Q 3116 3994 3184 3459 \n",
       "z\n",
       "M 888 1484 \n",
       "Q 888 1194 1011 928 \n",
       "Q 1134 663 1356 523 \n",
       "Q 1578 384 1822 384 \n",
       "Q 2178 384 2434 671 \n",
       "Q 2691 959 2691 1453 \n",
       "Q 2691 1928 2437 2201 \n",
       "Q 2184 2475 1800 2475 \n",
       "Q 1419 2475 1153 2201 \n",
       "Q 888 1928 888 1484 \n",
       "z\n",
       "\" transform=\"scale(0.015625)\"/>\n",
       "       </defs>\n",
       "       <use xlink:href=\"#ArialMT-30\"/>\n",
       "       <use xlink:href=\"#ArialMT-2e\" x=\"55.615234\"/>\n",
       "       <use xlink:href=\"#ArialMT-36\" x=\"83.398438\"/>\n",
       "      </g>\n",
       "     </g>\n",
       "    </g>\n",
       "    <g id=\"ytick_6\">\n",
       "     <g id=\"line2d_9\">\n",
       "      <path d=\"M 53.389062 93.15675 \n",
       "L 276.589063 93.15675 \n",
       "\" clip-path=\"url(#p15888276bd)\" style=\"fill: none; stroke: #ffffff; stroke-linecap: round\"/>\n",
       "     </g>\n",
       "     <g id=\"text_10\">\n",
       "      <!-- 0.8 -->\n",
       "      <g style=\"fill: #262626\" transform=\"translate(28.599062 97.093546) scale(0.11 -0.11)\">\n",
       "       <defs>\n",
       "        <path id=\"ArialMT-38\" d=\"M 1131 2484 \n",
       "Q 781 2613 612 2850 \n",
       "Q 444 3088 444 3419 \n",
       "Q 444 3919 803 4259 \n",
       "Q 1163 4600 1759 4600 \n",
       "Q 2359 4600 2725 4251 \n",
       "Q 3091 3903 3091 3403 \n",
       "Q 3091 3084 2923 2848 \n",
       "Q 2756 2613 2416 2484 \n",
       "Q 2838 2347 3058 2040 \n",
       "Q 3278 1734 3278 1309 \n",
       "Q 3278 722 2862 322 \n",
       "Q 2447 -78 1769 -78 \n",
       "Q 1091 -78 675 323 \n",
       "Q 259 725 259 1325 \n",
       "Q 259 1772 486 2073 \n",
       "Q 713 2375 1131 2484 \n",
       "z\n",
       "M 1019 3438 \n",
       "Q 1019 3113 1228 2906 \n",
       "Q 1438 2700 1772 2700 \n",
       "Q 2097 2700 2305 2904 \n",
       "Q 2513 3109 2513 3406 \n",
       "Q 2513 3716 2298 3927 \n",
       "Q 2084 4138 1766 4138 \n",
       "Q 1444 4138 1231 3931 \n",
       "Q 1019 3725 1019 3438 \n",
       "z\n",
       "M 838 1322 \n",
       "Q 838 1081 952 856 \n",
       "Q 1066 631 1291 507 \n",
       "Q 1516 384 1775 384 \n",
       "Q 2178 384 2440 643 \n",
       "Q 2703 903 2703 1303 \n",
       "Q 2703 1709 2433 1975 \n",
       "Q 2163 2241 1756 2241 \n",
       "Q 1359 2241 1098 1978 \n",
       "Q 838 1716 838 1322 \n",
       "z\n",
       "\" transform=\"scale(0.015625)\"/>\n",
       "       </defs>\n",
       "       <use xlink:href=\"#ArialMT-30\"/>\n",
       "       <use xlink:href=\"#ArialMT-2e\" x=\"55.615234\"/>\n",
       "       <use xlink:href=\"#ArialMT-38\" x=\"83.398438\"/>\n",
       "      </g>\n",
       "     </g>\n",
       "    </g>\n",
       "    <g id=\"ytick_7\">\n",
       "     <g id=\"line2d_10\">\n",
       "      <path d=\"M 53.389062 65.284724 \n",
       "L 276.589063 65.284724 \n",
       "\" clip-path=\"url(#p15888276bd)\" style=\"fill: none; stroke: #ffffff; stroke-linecap: round\"/>\n",
       "     </g>\n",
       "     <g id=\"text_11\">\n",
       "      <!-- 1.0 -->\n",
       "      <g style=\"fill: #262626\" transform=\"translate(28.599062 69.221521) scale(0.11 -0.11)\">\n",
       "       <use xlink:href=\"#ArialMT-31\"/>\n",
       "       <use xlink:href=\"#ArialMT-2e\" x=\"55.615234\"/>\n",
       "       <use xlink:href=\"#ArialMT-30\" x=\"83.398438\"/>\n",
       "      </g>\n",
       "     </g>\n",
       "    </g>\n",
       "    <g id=\"ytick_8\">\n",
       "     <g id=\"line2d_11\">\n",
       "      <path d=\"M 53.389062 37.412698 \n",
       "L 276.589063 37.412698 \n",
       "\" clip-path=\"url(#p15888276bd)\" style=\"fill: none; stroke: #ffffff; stroke-linecap: round\"/>\n",
       "     </g>\n",
       "     <g id=\"text_12\">\n",
       "      <!-- 1.2 -->\n",
       "      <g style=\"fill: #262626\" transform=\"translate(28.599062 41.349495) scale(0.11 -0.11)\">\n",
       "       <use xlink:href=\"#ArialMT-31\"/>\n",
       "       <use xlink:href=\"#ArialMT-2e\" x=\"55.615234\"/>\n",
       "       <use xlink:href=\"#ArialMT-32\" x=\"83.398438\"/>\n",
       "      </g>\n",
       "     </g>\n",
       "    </g>\n",
       "    <g id=\"text_13\">\n",
       "     <!-- $x_2$ -->\n",
       "     <g style=\"fill: #262626\" transform=\"translate(15.789375 139.089375) rotate(-90) scale(0.12 -0.12)\">\n",
       "      <defs>\n",
       "       <path id=\"DejaVuSans-32\" d=\"M 1228 531 \n",
       "L 3431 531 \n",
       "L 3431 0 \n",
       "L 469 0 \n",
       "L 469 531 \n",
       "Q 828 903 1448 1529 \n",
       "Q 2069 2156 2228 2338 \n",
       "Q 2531 2678 2651 2914 \n",
       "Q 2772 3150 2772 3378 \n",
       "Q 2772 3750 2511 3984 \n",
       "Q 2250 4219 1831 4219 \n",
       "Q 1534 4219 1204 4116 \n",
       "Q 875 4013 500 3803 \n",
       "L 500 4441 \n",
       "Q 881 4594 1212 4672 \n",
       "Q 1544 4750 1819 4750 \n",
       "Q 2544 4750 2975 4387 \n",
       "Q 3406 4025 3406 3419 \n",
       "Q 3406 3131 3298 2873 \n",
       "Q 3191 2616 2906 2266 \n",
       "Q 2828 2175 2409 1742 \n",
       "Q 1991 1309 1228 531 \n",
       "z\n",
       "\" transform=\"scale(0.015625)\"/>\n",
       "      </defs>\n",
       "      <use xlink:href=\"#DejaVuSans-Oblique-78\" transform=\"translate(0 0.3125)\"/>\n",
       "      <use xlink:href=\"#DejaVuSans-32\" transform=\"translate(59.179688 -16.09375) scale(0.7)\"/>\n",
       "     </g>\n",
       "    </g>\n",
       "   </g>\n",
       "   <g id=\"PathCollection_1\">\n",
       "    <defs>\n",
       "     <path id=\"mdcd3b9a9bf\" d=\"M 0 3 \n",
       "C 0.795609 3 1.55874 2.683901 2.12132 2.12132 \n",
       "C 2.683901 1.55874 3 0.795609 3 0 \n",
       "C 3 -0.795609 2.683901 -1.55874 2.12132 -2.12132 \n",
       "C 1.55874 -2.683901 0.795609 -3 0 -3 \n",
       "C -0.795609 -3 -1.55874 -2.683901 -2.12132 -2.12132 \n",
       "C -2.683901 -1.55874 -3 -0.795609 -3 0 \n",
       "C -3 0.795609 -2.683901 1.55874 -2.12132 2.12132 \n",
       "C -1.55874 2.683901 -0.795609 3 0 3 \n",
       "z\n",
       "\" style=\"stroke: #333333\"/>\n",
       "    </defs>\n",
       "    <g clip-path=\"url(#p15888276bd)\">\n",
       "     <use xlink:href=\"#mdcd3b9a9bf\" x=\"116.261704\" y=\"208.940317\" style=\"fill: #4c72b0; stroke: #333333\"/>\n",
       "     <use xlink:href=\"#mdcd3b9a9bf\" x=\"252.122592\" y=\"75.29299\" style=\"fill: #4c72b0; stroke: #333333\"/>\n",
       "     <use xlink:href=\"#mdcd3b9a9bf\" x=\"219.099578\" y=\"79.633516\" style=\"fill: #4c72b0; stroke: #333333\"/>\n",
       "     <use xlink:href=\"#mdcd3b9a9bf\" x=\"77.535449\" y=\"214.421357\" style=\"fill: #4c72b0; stroke: #333333\"/>\n",
       "     <use xlink:href=\"#mdcd3b9a9bf\" x=\"101.477634\" y=\"202.402339\" style=\"fill: #4c72b0; stroke: #333333\"/>\n",
       "     <use xlink:href=\"#mdcd3b9a9bf\" x=\"106.093638\" y=\"195.287272\" style=\"fill: #4c72b0; stroke: #333333\"/>\n",
       "     <use xlink:href=\"#mdcd3b9a9bf\" x=\"98.686032\" y=\"192.129738\" style=\"fill: #4c72b0; stroke: #333333\"/>\n",
       "     <use xlink:href=\"#mdcd3b9a9bf\" x=\"87.638321\" y=\"207.312495\" style=\"fill: #4c72b0; stroke: #333333\"/>\n",
       "     <use xlink:href=\"#mdcd3b9a9bf\" x=\"246.035883\" y=\"50.306972\" style=\"fill: #4c72b0; stroke: #333333\"/>\n",
       "     <use xlink:href=\"#mdcd3b9a9bf\" x=\"252.996378\" y=\"73.084812\" style=\"fill: #4c72b0; stroke: #333333\"/>\n",
       "     <use xlink:href=\"#mdcd3b9a9bf\" x=\"64.621203\" y=\"201.771055\" style=\"fill: #4c72b0; stroke: #333333\"/>\n",
       "     <use xlink:href=\"#mdcd3b9a9bf\" x=\"226.864861\" y=\"57.383803\" style=\"fill: #4c72b0; stroke: #333333\"/>\n",
       "     <use xlink:href=\"#mdcd3b9a9bf\" x=\"63.534517\" y=\"202.014413\" style=\"fill: #4c72b0; stroke: #333333\"/>\n",
       "     <use xlink:href=\"#mdcd3b9a9bf\" x=\"88.887391\" y=\"205.674062\" style=\"fill: #4c72b0; stroke: #333333\"/>\n",
       "     <use xlink:href=\"#mdcd3b9a9bf\" x=\"81.250564\" y=\"209.944505\" style=\"fill: #4c72b0; stroke: #333333\"/>\n",
       "     <use xlink:href=\"#mdcd3b9a9bf\" x=\"92.708236\" y=\"202.385671\" style=\"fill: #4c72b0; stroke: #333333\"/>\n",
       "     <use xlink:href=\"#mdcd3b9a9bf\" x=\"258.302629\" y=\"64.234914\" style=\"fill: #4c72b0; stroke: #333333\"/>\n",
       "     <use xlink:href=\"#mdcd3b9a9bf\" x=\"235.152683\" y=\"43.393014\" style=\"fill: #4c72b0; stroke: #333333\"/>\n",
       "     <use xlink:href=\"#mdcd3b9a9bf\" x=\"249.880945\" y=\"64.228053\" style=\"fill: #4c72b0; stroke: #333333\"/>\n",
       "     <use xlink:href=\"#mdcd3b9a9bf\" x=\"242.296038\" y=\"38.483052\" style=\"fill: #4c72b0; stroke: #333333\"/>\n",
       "     <use xlink:href=\"#mdcd3b9a9bf\" x=\"226.2395\" y=\"86.088397\" style=\"fill: #4c72b0; stroke: #333333\"/>\n",
       "     <use xlink:href=\"#mdcd3b9a9bf\" x=\"98.99208\" y=\"198.910444\" style=\"fill: #4c72b0; stroke: #333333\"/>\n",
       "     <use xlink:href=\"#mdcd3b9a9bf\" x=\"93.645259\" y=\"224.384478\" style=\"fill: #4c72b0; stroke: #333333\"/>\n",
       "     <use xlink:href=\"#mdcd3b9a9bf\" x=\"108.144833\" y=\"211.797073\" style=\"fill: #4c72b0; stroke: #333333\"/>\n",
       "     <use xlink:href=\"#mdcd3b9a9bf\" x=\"93.530714\" y=\"209.175609\" style=\"fill: #4c72b0; stroke: #333333\"/>\n",
       "     <use xlink:href=\"#mdcd3b9a9bf\" x=\"226.867313\" y=\"52.717006\" style=\"fill: #4c72b0; stroke: #333333\"/>\n",
       "     <use xlink:href=\"#mdcd3b9a9bf\" x=\"123.029156\" y=\"203.804991\" style=\"fill: #4c72b0; stroke: #333333\"/>\n",
       "     <use xlink:href=\"#mdcd3b9a9bf\" x=\"215.541939\" y=\"39.312258\" style=\"fill: #4c72b0; stroke: #333333\"/>\n",
       "     <use xlink:href=\"#mdcd3b9a9bf\" x=\"94.727787\" y=\"218.922614\" style=\"fill: #4c72b0; stroke: #333333\"/>\n",
       "     <use xlink:href=\"#mdcd3b9a9bf\" x=\"92.727379\" y=\"219.567019\" style=\"fill: #4c72b0; stroke: #333333\"/>\n",
       "     <use xlink:href=\"#mdcd3b9a9bf\" x=\"235.051001\" y=\"38.978469\" style=\"fill: #4c72b0; stroke: #333333\"/>\n",
       "     <use xlink:href=\"#mdcd3b9a9bf\" x=\"230.721535\" y=\"54.087647\" style=\"fill: #4c72b0; stroke: #333333\"/>\n",
       "     <use xlink:href=\"#mdcd3b9a9bf\" x=\"224.120523\" y=\"39.174935\" style=\"fill: #4c72b0; stroke: #333333\"/>\n",
       "     <use xlink:href=\"#mdcd3b9a9bf\" x=\"76.588725\" y=\"195.502265\" style=\"fill: #4c72b0; stroke: #333333\"/>\n",
       "     <use xlink:href=\"#mdcd3b9a9bf\" x=\"108.668042\" y=\"200.439897\" style=\"fill: #4c72b0; stroke: #333333\"/>\n",
       "     <use xlink:href=\"#mdcd3b9a9bf\" x=\"88.062389\" y=\"201.618179\" style=\"fill: #4c72b0; stroke: #333333\"/>\n",
       "     <use xlink:href=\"#mdcd3b9a9bf\" x=\"84.06913\" y=\"213.004362\" style=\"fill: #4c72b0; stroke: #333333\"/>\n",
       "     <use xlink:href=\"#mdcd3b9a9bf\" x=\"263.978498\" y=\"72.316235\" style=\"fill: #4c72b0; stroke: #333333\"/>\n",
       "     <use xlink:href=\"#mdcd3b9a9bf\" x=\"98.283026\" y=\"162.927349\" style=\"fill: #4c72b0; stroke: #333333\"/>\n",
       "     <use xlink:href=\"#mdcd3b9a9bf\" x=\"241.741847\" y=\"53.273011\" style=\"fill: #4c72b0; stroke: #333333\"/>\n",
       "     <use xlink:href=\"#mdcd3b9a9bf\" x=\"72.153715\" y=\"207.744632\" style=\"fill: #4c72b0; stroke: #333333\"/>\n",
       "     <use xlink:href=\"#mdcd3b9a9bf\" x=\"112.0648\" y=\"196.80382\" style=\"fill: #4c72b0; stroke: #333333\"/>\n",
       "     <use xlink:href=\"#mdcd3b9a9bf\" x=\"238.289113\" y=\"76.925884\" style=\"fill: #4c72b0; stroke: #333333\"/>\n",
       "     <use xlink:href=\"#mdcd3b9a9bf\" x=\"88.813368\" y=\"210.395866\" style=\"fill: #4c72b0; stroke: #333333\"/>\n",
       "     <use xlink:href=\"#mdcd3b9a9bf\" x=\"242.835149\" y=\"69.343443\" style=\"fill: #4c72b0; stroke: #333333\"/>\n",
       "     <use xlink:href=\"#mdcd3b9a9bf\" x=\"247.313205\" y=\"81.179656\" style=\"fill: #4c72b0; stroke: #333333\"/>\n",
       "     <use xlink:href=\"#mdcd3b9a9bf\" x=\"105.195233\" y=\"216.102643\" style=\"fill: #4c72b0; stroke: #333333\"/>\n",
       "     <use xlink:href=\"#mdcd3b9a9bf\" x=\"240.071233\" y=\"42.553575\" style=\"fill: #4c72b0; stroke: #333333\"/>\n",
       "     <use xlink:href=\"#mdcd3b9a9bf\" x=\"81.556603\" y=\"213.477234\" style=\"fill: #4c72b0; stroke: #333333\"/>\n",
       "     <use xlink:href=\"#mdcd3b9a9bf\" x=\"105.808469\" y=\"214.983313\" style=\"fill: #4c72b0; stroke: #333333\"/>\n",
       "     <use xlink:href=\"#mdcd3b9a9bf\" x=\"253.843229\" y=\"78.030284\" style=\"fill: #4c72b0; stroke: #333333\"/>\n",
       "     <use xlink:href=\"#mdcd3b9a9bf\" x=\"88.113756\" y=\"174.555214\" style=\"fill: #4c72b0; stroke: #333333\"/>\n",
       "     <use xlink:href=\"#mdcd3b9a9bf\" x=\"244.531203\" y=\"62.036264\" style=\"fill: #4c72b0; stroke: #333333\"/>\n",
       "     <use xlink:href=\"#mdcd3b9a9bf\" x=\"234.495761\" y=\"83.945201\" style=\"fill: #4c72b0; stroke: #333333\"/>\n",
       "     <use xlink:href=\"#mdcd3b9a9bf\" x=\"239.246537\" y=\"66.562332\" style=\"fill: #4c72b0; stroke: #333333\"/>\n",
       "     <use xlink:href=\"#mdcd3b9a9bf\" x=\"111.802061\" y=\"198.547961\" style=\"fill: #4c72b0; stroke: #333333\"/>\n",
       "     <use xlink:href=\"#mdcd3b9a9bf\" x=\"94.024066\" y=\"201.179149\" style=\"fill: #4c72b0; stroke: #333333\"/>\n",
       "     <use xlink:href=\"#mdcd3b9a9bf\" x=\"91.515456\" y=\"219.863357\" style=\"fill: #4c72b0; stroke: #333333\"/>\n",
       "     <use xlink:href=\"#mdcd3b9a9bf\" x=\"77.314599\" y=\"230.194298\" style=\"fill: #4c72b0; stroke: #333333\"/>\n",
       "     <use xlink:href=\"#mdcd3b9a9bf\" x=\"89.486335\" y=\"207.449126\" style=\"fill: #4c72b0; stroke: #333333\"/>\n",
       "     <use xlink:href=\"#mdcd3b9a9bf\" x=\"106.05409\" y=\"195.601399\" style=\"fill: #4c72b0; stroke: #333333\"/>\n",
       "     <use xlink:href=\"#mdcd3b9a9bf\" x=\"224.052836\" y=\"53.885001\" style=\"fill: #4c72b0; stroke: #333333\"/>\n",
       "     <use xlink:href=\"#mdcd3b9a9bf\" x=\"107.107386\" y=\"190.183327\" style=\"fill: #4c72b0; stroke: #333333\"/>\n",
       "     <use xlink:href=\"#mdcd3b9a9bf\" x=\"106.34864\" y=\"211.843902\" style=\"fill: #4c72b0; stroke: #333333\"/>\n",
       "     <use xlink:href=\"#mdcd3b9a9bf\" x=\"254.5\" y=\"31.869375\" style=\"fill: #4c72b0; stroke: #333333\"/>\n",
       "     <use xlink:href=\"#mdcd3b9a9bf\" x=\"233.613639\" y=\"61.676924\" style=\"fill: #4c72b0; stroke: #333333\"/>\n",
       "     <use xlink:href=\"#mdcd3b9a9bf\" x=\"116.747981\" y=\"187.868876\" style=\"fill: #4c72b0; stroke: #333333\"/>\n",
       "     <use xlink:href=\"#mdcd3b9a9bf\" x=\"255.937765\" y=\"61.036791\" style=\"fill: #4c72b0; stroke: #333333\"/>\n",
       "     <use xlink:href=\"#mdcd3b9a9bf\" x=\"86.381128\" y=\"175.709715\" style=\"fill: #4c72b0; stroke: #333333\"/>\n",
       "     <use xlink:href=\"#mdcd3b9a9bf\" x=\"109.541791\" y=\"211.77704\" style=\"fill: #4c72b0; stroke: #333333\"/>\n",
       "     <use xlink:href=\"#mdcd3b9a9bf\" x=\"227.354177\" y=\"67.398498\" style=\"fill: #4c72b0; stroke: #333333\"/>\n",
       "     <use xlink:href=\"#mdcd3b9a9bf\" x=\"104.02564\" y=\"197.710988\" style=\"fill: #4c72b0; stroke: #333333\"/>\n",
       "     <use xlink:href=\"#mdcd3b9a9bf\" x=\"72.899888\" y=\"191.546628\" style=\"fill: #4c72b0; stroke: #333333\"/>\n",
       "     <use xlink:href=\"#mdcd3b9a9bf\" x=\"250.689361\" y=\"61.707276\" style=\"fill: #4c72b0; stroke: #333333\"/>\n",
       "     <use xlink:href=\"#mdcd3b9a9bf\" x=\"237.615988\" y=\"69.928977\" style=\"fill: #4c72b0; stroke: #333333\"/>\n",
       "     <use xlink:href=\"#mdcd3b9a9bf\" x=\"225.565837\" y=\"44.26156\" style=\"fill: #4c72b0; stroke: #333333\"/>\n",
       "     <use xlink:href=\"#mdcd3b9a9bf\" x=\"217.555514\" y=\"50.811393\" style=\"fill: #4c72b0; stroke: #333333\"/>\n",
       "     <use xlink:href=\"#mdcd3b9a9bf\" x=\"235.809428\" y=\"56.306914\" style=\"fill: #4c72b0; stroke: #333333\"/>\n",
       "     <use xlink:href=\"#mdcd3b9a9bf\" x=\"90.412686\" y=\"174.92995\" style=\"fill: #4c72b0; stroke: #333333\"/>\n",
       "     <use xlink:href=\"#mdcd3b9a9bf\" x=\"105.311869\" y=\"210.426515\" style=\"fill: #4c72b0; stroke: #333333\"/>\n",
       "     <use xlink:href=\"#mdcd3b9a9bf\" x=\"95.772255\" y=\"167.655116\" style=\"fill: #4c72b0; stroke: #333333\"/>\n",
       "     <use xlink:href=\"#mdcd3b9a9bf\" x=\"236.797111\" y=\"70.456864\" style=\"fill: #4c72b0; stroke: #333333\"/>\n",
       "     <use xlink:href=\"#mdcd3b9a9bf\" x=\"111.47459\" y=\"226.416848\" style=\"fill: #4c72b0; stroke: #333333\"/>\n",
       "     <use xlink:href=\"#mdcd3b9a9bf\" x=\"223.806722\" y=\"67.381105\" style=\"fill: #4c72b0; stroke: #333333\"/>\n",
       "     <use xlink:href=\"#mdcd3b9a9bf\" x=\"122.694154\" y=\"177.874701\" style=\"fill: #4c72b0; stroke: #333333\"/>\n",
       "     <use xlink:href=\"#mdcd3b9a9bf\" x=\"214.517087\" y=\"59.860788\" style=\"fill: #4c72b0; stroke: #333333\"/>\n",
       "     <use xlink:href=\"#mdcd3b9a9bf\" x=\"229.181676\" y=\"67.195579\" style=\"fill: #4c72b0; stroke: #333333\"/>\n",
       "     <use xlink:href=\"#mdcd3b9a9bf\" x=\"222.943574\" y=\"79.692932\" style=\"fill: #4c72b0; stroke: #333333\"/>\n",
       "     <use xlink:href=\"#mdcd3b9a9bf\" x=\"106.882261\" y=\"206.354011\" style=\"fill: #4c72b0; stroke: #333333\"/>\n",
       "     <use xlink:href=\"#mdcd3b9a9bf\" x=\"238.594393\" y=\"62.958336\" style=\"fill: #4c72b0; stroke: #333333\"/>\n",
       "     <use xlink:href=\"#mdcd3b9a9bf\" x=\"214.522494\" y=\"45.029397\" style=\"fill: #4c72b0; stroke: #333333\"/>\n",
       "     <use xlink:href=\"#mdcd3b9a9bf\" x=\"241.535629\" y=\"80.451067\" style=\"fill: #4c72b0; stroke: #333333\"/>\n",
       "     <use xlink:href=\"#mdcd3b9a9bf\" x=\"98.20643\" y=\"215.967214\" style=\"fill: #4c72b0; stroke: #333333\"/>\n",
       "     <use xlink:href=\"#mdcd3b9a9bf\" x=\"110.096838\" y=\"182.762069\" style=\"fill: #4c72b0; stroke: #333333\"/>\n",
       "     <use xlink:href=\"#mdcd3b9a9bf\" x=\"233.164639\" y=\"54.151242\" style=\"fill: #4c72b0; stroke: #333333\"/>\n",
       "     <use xlink:href=\"#mdcd3b9a9bf\" x=\"236.124825\" y=\"59.912721\" style=\"fill: #4c72b0; stroke: #333333\"/>\n",
       "     <use xlink:href=\"#mdcd3b9a9bf\" x=\"221.12406\" y=\"53.107529\" style=\"fill: #4c72b0; stroke: #333333\"/>\n",
       "     <use xlink:href=\"#mdcd3b9a9bf\" x=\"82.50064\" y=\"228.597195\" style=\"fill: #4c72b0; stroke: #333333\"/>\n",
       "     <use xlink:href=\"#mdcd3b9a9bf\" x=\"254.892286\" y=\"53.100119\" style=\"fill: #4c72b0; stroke: #333333\"/>\n",
       "     <use xlink:href=\"#mdcd3b9a9bf\" x=\"243.366722\" y=\"44.19215\" style=\"fill: #4c72b0; stroke: #333333\"/>\n",
       "     <use xlink:href=\"#mdcd3b9a9bf\" x=\"72.51541\" y=\"199.118664\" style=\"fill: #4c72b0; stroke: #333333\"/>\n",
       "     <use xlink:href=\"#mdcd3b9a9bf\" x=\"84.474806\" y=\"192.664098\" style=\"fill: #4c72b0; stroke: #333333\"/>\n",
       "     <use xlink:href=\"#mdcd3b9a9bf\" x=\"233.485628\" y=\"73.56389\" style=\"fill: #4c72b0; stroke: #333333\"/>\n",
       "    </g>\n",
       "   </g>\n",
       "   <g id=\"PathCollection_2\">\n",
       "    <defs>\n",
       "     <path id=\"m65ac81314d\" d=\"M 0 3 \n",
       "C 0.795609 3 1.55874 2.683901 2.12132 2.12132 \n",
       "C 2.683901 1.55874 3 0.795609 3 0 \n",
       "C 3 -0.795609 2.683901 -1.55874 2.12132 -2.12132 \n",
       "C 1.55874 -2.683901 0.795609 -3 0 -3 \n",
       "C -0.795609 -3 -1.55874 -2.683901 -2.12132 -2.12132 \n",
       "C -2.683901 -1.55874 -3 -0.795609 -3 0 \n",
       "C -3 0.795609 -2.683901 1.55874 -2.12132 2.12132 \n",
       "C -1.55874 2.683901 -0.795609 3 0 3 \n",
       "z\n",
       "\" style=\"stroke: #333333\"/>\n",
       "    </defs>\n",
       "    <g clip-path=\"url(#p15888276bd)\">\n",
       "     <use xlink:href=\"#m65ac81314d\" x=\"66.226677\" y=\"76.997685\" style=\"fill: #dd8452; stroke: #333333\"/>\n",
       "     <use xlink:href=\"#m65ac81314d\" x=\"133.445759\" y=\"92.335026\" style=\"fill: #dd8452; stroke: #333333\"/>\n",
       "     <use xlink:href=\"#m65ac81314d\" x=\"127.785738\" y=\"68.448034\" style=\"fill: #dd8452; stroke: #333333\"/>\n",
       "     <use xlink:href=\"#m65ac81314d\" x=\"247.614396\" y=\"203.735647\" style=\"fill: #dd8452; stroke: #333333\"/>\n",
       "     <use xlink:href=\"#m65ac81314d\" x=\"240.516026\" y=\"189.134464\" style=\"fill: #dd8452; stroke: #333333\"/>\n",
       "     <use xlink:href=\"#m65ac81314d\" x=\"238.479169\" y=\"192.393452\" style=\"fill: #dd8452; stroke: #333333\"/>\n",
       "     <use xlink:href=\"#m65ac81314d\" x=\"233.712827\" y=\"219.506537\" style=\"fill: #dd8452; stroke: #333333\"/>\n",
       "     <use xlink:href=\"#m65ac81314d\" x=\"84.565054\" y=\"41.815791\" style=\"fill: #dd8452; stroke: #333333\"/>\n",
       "     <use xlink:href=\"#m65ac81314d\" x=\"110.430654\" y=\"75.319936\" style=\"fill: #dd8452; stroke: #333333\"/>\n",
       "     <use xlink:href=\"#m65ac81314d\" x=\"113.901733\" y=\"67.529069\" style=\"fill: #dd8452; stroke: #333333\"/>\n",
       "     <use xlink:href=\"#m65ac81314d\" x=\"99.095569\" y=\"68.973878\" style=\"fill: #dd8452; stroke: #333333\"/>\n",
       "     <use xlink:href=\"#m65ac81314d\" x=\"247.943797\" y=\"216.180082\" style=\"fill: #dd8452; stroke: #333333\"/>\n",
       "     <use xlink:href=\"#m65ac81314d\" x=\"245.76223\" y=\"217.099156\" style=\"fill: #dd8452; stroke: #333333\"/>\n",
       "     <use xlink:href=\"#m65ac81314d\" x=\"90.365072\" y=\"38.028154\" style=\"fill: #dd8452; stroke: #333333\"/>\n",
       "     <use xlink:href=\"#m65ac81314d\" x=\"246.572073\" y=\"197.15904\" style=\"fill: #dd8452; stroke: #333333\"/>\n",
       "     <use xlink:href=\"#m65ac81314d\" x=\"236.503199\" y=\"213.110924\" style=\"fill: #dd8452; stroke: #333333\"/>\n",
       "     <use xlink:href=\"#m65ac81314d\" x=\"246.699639\" y=\"193.452801\" style=\"fill: #dd8452; stroke: #333333\"/>\n",
       "     <use xlink:href=\"#m65ac81314d\" x=\"237.583437\" y=\"192.28632\" style=\"fill: #dd8452; stroke: #333333\"/>\n",
       "     <use xlink:href=\"#m65ac81314d\" x=\"254.426301\" y=\"212.141184\" style=\"fill: #dd8452; stroke: #333333\"/>\n",
       "     <use xlink:href=\"#m65ac81314d\" x=\"233.124306\" y=\"206.854376\" style=\"fill: #dd8452; stroke: #333333\"/>\n",
       "     <use xlink:href=\"#m65ac81314d\" x=\"97.302266\" y=\"78.685626\" style=\"fill: #dd8452; stroke: #333333\"/>\n",
       "     <use xlink:href=\"#m65ac81314d\" x=\"106.913254\" y=\"46.899392\" style=\"fill: #dd8452; stroke: #333333\"/>\n",
       "     <use xlink:href=\"#m65ac81314d\" x=\"239.6592\" y=\"197.80552\" style=\"fill: #dd8452; stroke: #333333\"/>\n",
       "     <use xlink:href=\"#m65ac81314d\" x=\"253.312681\" y=\"209.969038\" style=\"fill: #dd8452; stroke: #333333\"/>\n",
       "     <use xlink:href=\"#m65ac81314d\" x=\"140.686785\" y=\"64.12565\" style=\"fill: #dd8452; stroke: #333333\"/>\n",
       "     <use xlink:href=\"#m65ac81314d\" x=\"228.541991\" y=\"193.933231\" style=\"fill: #dd8452; stroke: #333333\"/>\n",
       "     <use xlink:href=\"#m65ac81314d\" x=\"66.783185\" y=\"54.58519\" style=\"fill: #dd8452; stroke: #333333\"/>\n",
       "     <use xlink:href=\"#m65ac81314d\" x=\"238.588256\" y=\"187.697723\" style=\"fill: #dd8452; stroke: #333333\"/>\n",
       "     <use xlink:href=\"#m65ac81314d\" x=\"250.631144\" y=\"207.674064\" style=\"fill: #dd8452; stroke: #333333\"/>\n",
       "     <use xlink:href=\"#m65ac81314d\" x=\"93.080164\" y=\"86.033641\" style=\"fill: #dd8452; stroke: #333333\"/>\n",
       "     <use xlink:href=\"#m65ac81314d\" x=\"108.29137\" y=\"70.292944\" style=\"fill: #dd8452; stroke: #333333\"/>\n",
       "     <use xlink:href=\"#m65ac81314d\" x=\"243.867935\" y=\"197.513013\" style=\"fill: #dd8452; stroke: #333333\"/>\n",
       "     <use xlink:href=\"#m65ac81314d\" x=\"93.475254\" y=\"76.435633\" style=\"fill: #dd8452; stroke: #333333\"/>\n",
       "     <use xlink:href=\"#m65ac81314d\" x=\"97.388672\" y=\"86.232357\" style=\"fill: #dd8452; stroke: #333333\"/>\n",
       "     <use xlink:href=\"#m65ac81314d\" x=\"121.43048\" y=\"53.338483\" style=\"fill: #dd8452; stroke: #333333\"/>\n",
       "     <use xlink:href=\"#m65ac81314d\" x=\"88.556903\" y=\"67.844101\" style=\"fill: #dd8452; stroke: #333333\"/>\n",
       "     <use xlink:href=\"#m65ac81314d\" x=\"75.26475\" y=\"37.584819\" style=\"fill: #dd8452; stroke: #333333\"/>\n",
       "     <use xlink:href=\"#m65ac81314d\" x=\"257.311655\" y=\"196.731379\" style=\"fill: #dd8452; stroke: #333333\"/>\n",
       "     <use xlink:href=\"#m65ac81314d\" x=\"207.290882\" y=\"217.504741\" style=\"fill: #dd8452; stroke: #333333\"/>\n",
       "     <use xlink:href=\"#m65ac81314d\" x=\"225.304274\" y=\"202.029847\" style=\"fill: #dd8452; stroke: #333333\"/>\n",
       "     <use xlink:href=\"#m65ac81314d\" x=\"104.327512\" y=\"70.240579\" style=\"fill: #dd8452; stroke: #333333\"/>\n",
       "     <use xlink:href=\"#m65ac81314d\" x=\"119.516568\" y=\"53.149294\" style=\"fill: #dd8452; stroke: #333333\"/>\n",
       "     <use xlink:href=\"#m65ac81314d\" x=\"91.73314\" y=\"74.132687\" style=\"fill: #dd8452; stroke: #333333\"/>\n",
       "     <use xlink:href=\"#m65ac81314d\" x=\"101.060609\" y=\"77.412172\" style=\"fill: #dd8452; stroke: #333333\"/>\n",
       "     <use xlink:href=\"#m65ac81314d\" x=\"230.212472\" y=\"217.492074\" style=\"fill: #dd8452; stroke: #333333\"/>\n",
       "     <use xlink:href=\"#m65ac81314d\" x=\"257.838744\" y=\"205.024512\" style=\"fill: #dd8452; stroke: #333333\"/>\n",
       "     <use xlink:href=\"#m65ac81314d\" x=\"115.440351\" y=\"66.633934\" style=\"fill: #dd8452; stroke: #333333\"/>\n",
       "     <use xlink:href=\"#m65ac81314d\" x=\"91.98095\" y=\"86.406869\" style=\"fill: #dd8452; stroke: #333333\"/>\n",
       "     <use xlink:href=\"#m65ac81314d\" x=\"122.579864\" y=\"42.806973\" style=\"fill: #dd8452; stroke: #333333\"/>\n",
       "     <use xlink:href=\"#m65ac81314d\" x=\"99.197464\" y=\"83.085544\" style=\"fill: #dd8452; stroke: #333333\"/>\n",
       "     <use xlink:href=\"#m65ac81314d\" x=\"236.762075\" y=\"233.469375\" style=\"fill: #dd8452; stroke: #333333\"/>\n",
       "     <use xlink:href=\"#m65ac81314d\" x=\"83.478142\" y=\"73.970045\" style=\"fill: #dd8452; stroke: #333333\"/>\n",
       "     <use xlink:href=\"#m65ac81314d\" x=\"84.370427\" y=\"71.269565\" style=\"fill: #dd8452; stroke: #333333\"/>\n",
       "     <use xlink:href=\"#m65ac81314d\" x=\"100.274551\" y=\"85.223066\" style=\"fill: #dd8452; stroke: #333333\"/>\n",
       "     <use xlink:href=\"#m65ac81314d\" x=\"82.330351\" y=\"71.350329\" style=\"fill: #dd8452; stroke: #333333\"/>\n",
       "     <use xlink:href=\"#m65ac81314d\" x=\"70.024223\" y=\"57.182038\" style=\"fill: #dd8452; stroke: #333333\"/>\n",
       "     <use xlink:href=\"#m65ac81314d\" x=\"225.852327\" y=\"208.538063\" style=\"fill: #dd8452; stroke: #333333\"/>\n",
       "     <use xlink:href=\"#m65ac81314d\" x=\"121.94095\" y=\"78.805714\" style=\"fill: #dd8452; stroke: #333333\"/>\n",
       "     <use xlink:href=\"#m65ac81314d\" x=\"98.76894\" y=\"82.723795\" style=\"fill: #dd8452; stroke: #333333\"/>\n",
       "     <use xlink:href=\"#m65ac81314d\" x=\"248.257448\" y=\"221.813631\" style=\"fill: #dd8452; stroke: #333333\"/>\n",
       "     <use xlink:href=\"#m65ac81314d\" x=\"266.443608\" y=\"210.144961\" style=\"fill: #dd8452; stroke: #333333\"/>\n",
       "     <use xlink:href=\"#m65ac81314d\" x=\"263.701084\" y=\"223.495934\" style=\"fill: #dd8452; stroke: #333333\"/>\n",
       "     <use xlink:href=\"#m65ac81314d\" x=\"111.185416\" y=\"48.441728\" style=\"fill: #dd8452; stroke: #333333\"/>\n",
       "     <use xlink:href=\"#m65ac81314d\" x=\"116.148146\" y=\"61.360479\" style=\"fill: #dd8452; stroke: #333333\"/>\n",
       "     <use xlink:href=\"#m65ac81314d\" x=\"244.521716\" y=\"188.331025\" style=\"fill: #dd8452; stroke: #333333\"/>\n",
       "     <use xlink:href=\"#m65ac81314d\" x=\"215.095651\" y=\"221.477323\" style=\"fill: #dd8452; stroke: #333333\"/>\n",
       "     <use xlink:href=\"#m65ac81314d\" x=\"70.931281\" y=\"35.977377\" style=\"fill: #dd8452; stroke: #333333\"/>\n",
       "     <use xlink:href=\"#m65ac81314d\" x=\"94.822147\" y=\"62.299497\" style=\"fill: #dd8452; stroke: #333333\"/>\n",
       "     <use xlink:href=\"#m65ac81314d\" x=\"119.543814\" y=\"62.409874\" style=\"fill: #dd8452; stroke: #333333\"/>\n",
       "     <use xlink:href=\"#m65ac81314d\" x=\"238.181009\" y=\"202.085816\" style=\"fill: #dd8452; stroke: #333333\"/>\n",
       "     <use xlink:href=\"#m65ac81314d\" x=\"255.225448\" y=\"195.973429\" style=\"fill: #dd8452; stroke: #333333\"/>\n",
       "     <use xlink:href=\"#m65ac81314d\" x=\"110.336762\" y=\"64.00195\" style=\"fill: #dd8452; stroke: #333333\"/>\n",
       "     <use xlink:href=\"#m65ac81314d\" x=\"106.972873\" y=\"71.935249\" style=\"fill: #dd8452; stroke: #333333\"/>\n",
       "     <use xlink:href=\"#m65ac81314d\" x=\"241.229518\" y=\"194.696371\" style=\"fill: #dd8452; stroke: #333333\"/>\n",
       "     <use xlink:href=\"#m65ac81314d\" x=\"118.019234\" y=\"60.246676\" style=\"fill: #dd8452; stroke: #333333\"/>\n",
       "     <use xlink:href=\"#m65ac81314d\" x=\"108.688278\" y=\"53.010708\" style=\"fill: #dd8452; stroke: #333333\"/>\n",
       "     <use xlink:href=\"#m65ac81314d\" x=\"85.841327\" y=\"46.349717\" style=\"fill: #dd8452; stroke: #333333\"/>\n",
       "     <use xlink:href=\"#m65ac81314d\" x=\"110.752237\" y=\"60.045741\" style=\"fill: #dd8452; stroke: #333333\"/>\n",
       "     <use xlink:href=\"#m65ac81314d\" x=\"127.667428\" y=\"65.072659\" style=\"fill: #dd8452; stroke: #333333\"/>\n",
       "     <use xlink:href=\"#m65ac81314d\" x=\"96.449323\" y=\"77.378082\" style=\"fill: #dd8452; stroke: #333333\"/>\n",
       "     <use xlink:href=\"#m65ac81314d\" x=\"98.064204\" y=\"67.882801\" style=\"fill: #dd8452; stroke: #333333\"/>\n",
       "     <use xlink:href=\"#m65ac81314d\" x=\"98.985107\" y=\"50.50867\" style=\"fill: #dd8452; stroke: #333333\"/>\n",
       "     <use xlink:href=\"#m65ac81314d\" x=\"74.104779\" y=\"52.52059\" style=\"fill: #dd8452; stroke: #333333\"/>\n",
       "     <use xlink:href=\"#m65ac81314d\" x=\"223.574855\" y=\"199.402439\" style=\"fill: #dd8452; stroke: #333333\"/>\n",
       "     <use xlink:href=\"#m65ac81314d\" x=\"219.869499\" y=\"218.685909\" style=\"fill: #dd8452; stroke: #333333\"/>\n",
       "     <use xlink:href=\"#m65ac81314d\" x=\"223.112892\" y=\"212.826596\" style=\"fill: #dd8452; stroke: #333333\"/>\n",
       "     <use xlink:href=\"#m65ac81314d\" x=\"235.96088\" y=\"230.623737\" style=\"fill: #dd8452; stroke: #333333\"/>\n",
       "     <use xlink:href=\"#m65ac81314d\" x=\"241.666302\" y=\"227.244033\" style=\"fill: #dd8452; stroke: #333333\"/>\n",
       "     <use xlink:href=\"#m65ac81314d\" x=\"241.921652\" y=\"231.633323\" style=\"fill: #dd8452; stroke: #333333\"/>\n",
       "     <use xlink:href=\"#m65ac81314d\" x=\"244.014106\" y=\"219.46434\" style=\"fill: #dd8452; stroke: #333333\"/>\n",
       "     <use xlink:href=\"#m65ac81314d\" x=\"230.167168\" y=\"202.644843\" style=\"fill: #dd8452; stroke: #333333\"/>\n",
       "     <use xlink:href=\"#m65ac81314d\" x=\"93.591623\" y=\"67.135739\" style=\"fill: #dd8452; stroke: #333333\"/>\n",
       "     <use xlink:href=\"#m65ac81314d\" x=\"132.795611\" y=\"50.352658\" style=\"fill: #dd8452; stroke: #333333\"/>\n",
       "     <use xlink:href=\"#m65ac81314d\" x=\"226.738555\" y=\"216.703216\" style=\"fill: #dd8452; stroke: #333333\"/>\n",
       "     <use xlink:href=\"#m65ac81314d\" x=\"96.388755\" y=\"62.114378\" style=\"fill: #dd8452; stroke: #333333\"/>\n",
       "     <use xlink:href=\"#m65ac81314d\" x=\"237.72766\" y=\"224.92731\" style=\"fill: #dd8452; stroke: #333333\"/>\n",
       "     <use xlink:href=\"#m65ac81314d\" x=\"87.621344\" y=\"52.193563\" style=\"fill: #dd8452; stroke: #333333\"/>\n",
       "    </g>\n",
       "   </g>\n",
       "   <g id=\"patch_3\">\n",
       "    <path d=\"M 53.389062 243.549375 \n",
       "L 53.389062 21.789375 \n",
       "\" style=\"fill: none; stroke: #ffffff; stroke-width: 1.25; stroke-linejoin: miter; stroke-linecap: square\"/>\n",
       "   </g>\n",
       "   <g id=\"patch_4\">\n",
       "    <path d=\"M 276.589063 243.549375 \n",
       "L 276.589063 21.789375 \n",
       "\" style=\"fill: none; stroke: #ffffff; stroke-width: 1.25; stroke-linejoin: miter; stroke-linecap: square\"/>\n",
       "   </g>\n",
       "   <g id=\"patch_5\">\n",
       "    <path d=\"M 53.389062 243.549375 \n",
       "L 276.589062 243.549375 \n",
       "\" style=\"fill: none; stroke: #ffffff; stroke-width: 1.25; stroke-linejoin: miter; stroke-linecap: square\"/>\n",
       "   </g>\n",
       "   <g id=\"patch_6\">\n",
       "    <path d=\"M 53.389062 21.789375 \n",
       "L 276.589062 21.789375 \n",
       "\" style=\"fill: none; stroke: #ffffff; stroke-width: 1.25; stroke-linejoin: miter; stroke-linecap: square\"/>\n",
       "   </g>\n",
       "   <g id=\"text_14\">\n",
       "    <!-- Dataset samples -->\n",
       "    <g style=\"fill: #262626\" transform=\"translate(120.305 15.789375) scale(0.12 -0.12)\">\n",
       "     <defs>\n",
       "      <path id=\"ArialMT-44\" d=\"M 494 0 \n",
       "L 494 4581 \n",
       "L 2072 4581 \n",
       "Q 2606 4581 2888 4516 \n",
       "Q 3281 4425 3559 4188 \n",
       "Q 3922 3881 4101 3404 \n",
       "Q 4281 2928 4281 2316 \n",
       "Q 4281 1794 4159 1391 \n",
       "Q 4038 988 3847 723 \n",
       "Q 3656 459 3429 307 \n",
       "Q 3203 156 2883 78 \n",
       "Q 2563 0 2147 0 \n",
       "L 494 0 \n",
       "z\n",
       "M 1100 541 \n",
       "L 2078 541 \n",
       "Q 2531 541 2789 625 \n",
       "Q 3047 709 3200 863 \n",
       "Q 3416 1078 3536 1442 \n",
       "Q 3656 1806 3656 2325 \n",
       "Q 3656 3044 3420 3430 \n",
       "Q 3184 3816 2847 3947 \n",
       "Q 2603 4041 2063 4041 \n",
       "L 1100 4041 \n",
       "L 1100 541 \n",
       "z\n",
       "\" transform=\"scale(0.015625)\"/>\n",
       "      <path id=\"ArialMT-61\" d=\"M 2588 409 \n",
       "Q 2275 144 1986 34 \n",
       "Q 1697 -75 1366 -75 \n",
       "Q 819 -75 525 192 \n",
       "Q 231 459 231 875 \n",
       "Q 231 1119 342 1320 \n",
       "Q 453 1522 633 1644 \n",
       "Q 813 1766 1038 1828 \n",
       "Q 1203 1872 1538 1913 \n",
       "Q 2219 1994 2541 2106 \n",
       "Q 2544 2222 2544 2253 \n",
       "Q 2544 2597 2384 2738 \n",
       "Q 2169 2928 1744 2928 \n",
       "Q 1347 2928 1158 2789 \n",
       "Q 969 2650 878 2297 \n",
       "L 328 2372 \n",
       "Q 403 2725 575 2942 \n",
       "Q 747 3159 1072 3276 \n",
       "Q 1397 3394 1825 3394 \n",
       "Q 2250 3394 2515 3294 \n",
       "Q 2781 3194 2906 3042 \n",
       "Q 3031 2891 3081 2659 \n",
       "Q 3109 2516 3109 2141 \n",
       "L 3109 1391 \n",
       "Q 3109 606 3145 398 \n",
       "Q 3181 191 3288 0 \n",
       "L 2700 0 \n",
       "Q 2613 175 2588 409 \n",
       "z\n",
       "M 2541 1666 \n",
       "Q 2234 1541 1622 1453 \n",
       "Q 1275 1403 1131 1340 \n",
       "Q 988 1278 909 1158 \n",
       "Q 831 1038 831 891 \n",
       "Q 831 666 1001 516 \n",
       "Q 1172 366 1500 366 \n",
       "Q 1825 366 2078 508 \n",
       "Q 2331 650 2450 897 \n",
       "Q 2541 1088 2541 1459 \n",
       "L 2541 1666 \n",
       "z\n",
       "\" transform=\"scale(0.015625)\"/>\n",
       "      <path id=\"ArialMT-74\" d=\"M 1650 503 \n",
       "L 1731 6 \n",
       "Q 1494 -44 1306 -44 \n",
       "Q 1000 -44 831 53 \n",
       "Q 663 150 594 308 \n",
       "Q 525 466 525 972 \n",
       "L 525 2881 \n",
       "L 113 2881 \n",
       "L 113 3319 \n",
       "L 525 3319 \n",
       "L 525 4141 \n",
       "L 1084 4478 \n",
       "L 1084 3319 \n",
       "L 1650 3319 \n",
       "L 1650 2881 \n",
       "L 1084 2881 \n",
       "L 1084 941 \n",
       "Q 1084 700 1114 631 \n",
       "Q 1144 563 1211 522 \n",
       "Q 1278 481 1403 481 \n",
       "Q 1497 481 1650 503 \n",
       "z\n",
       "\" transform=\"scale(0.015625)\"/>\n",
       "      <path id=\"ArialMT-73\" d=\"M 197 991 \n",
       "L 753 1078 \n",
       "Q 800 744 1014 566 \n",
       "Q 1228 388 1613 388 \n",
       "Q 2000 388 2187 545 \n",
       "Q 2375 703 2375 916 \n",
       "Q 2375 1106 2209 1216 \n",
       "Q 2094 1291 1634 1406 \n",
       "Q 1016 1563 777 1677 \n",
       "Q 538 1791 414 1992 \n",
       "Q 291 2194 291 2438 \n",
       "Q 291 2659 392 2848 \n",
       "Q 494 3038 669 3163 \n",
       "Q 800 3259 1026 3326 \n",
       "Q 1253 3394 1513 3394 \n",
       "Q 1903 3394 2198 3281 \n",
       "Q 2494 3169 2634 2976 \n",
       "Q 2775 2784 2828 2463 \n",
       "L 2278 2388 \n",
       "Q 2241 2644 2061 2787 \n",
       "Q 1881 2931 1553 2931 \n",
       "Q 1166 2931 1000 2803 \n",
       "Q 834 2675 834 2503 \n",
       "Q 834 2394 903 2306 \n",
       "Q 972 2216 1119 2156 \n",
       "Q 1203 2125 1616 2013 \n",
       "Q 2213 1853 2448 1751 \n",
       "Q 2684 1650 2818 1456 \n",
       "Q 2953 1263 2953 975 \n",
       "Q 2953 694 2789 445 \n",
       "Q 2625 197 2315 61 \n",
       "Q 2006 -75 1616 -75 \n",
       "Q 969 -75 630 194 \n",
       "Q 291 463 197 991 \n",
       "z\n",
       "\" transform=\"scale(0.015625)\"/>\n",
       "      <path id=\"ArialMT-65\" d=\"M 2694 1069 \n",
       "L 3275 997 \n",
       "Q 3138 488 2766 206 \n",
       "Q 2394 -75 1816 -75 \n",
       "Q 1088 -75 661 373 \n",
       "Q 234 822 234 1631 \n",
       "Q 234 2469 665 2931 \n",
       "Q 1097 3394 1784 3394 \n",
       "Q 2450 3394 2872 2941 \n",
       "Q 3294 2488 3294 1666 \n",
       "Q 3294 1616 3291 1516 \n",
       "L 816 1516 \n",
       "Q 847 969 1125 678 \n",
       "Q 1403 388 1819 388 \n",
       "Q 2128 388 2347 550 \n",
       "Q 2566 713 2694 1069 \n",
       "z\n",
       "M 847 1978 \n",
       "L 2700 1978 \n",
       "Q 2663 2397 2488 2606 \n",
       "Q 2219 2931 1791 2931 \n",
       "Q 1403 2931 1139 2672 \n",
       "Q 875 2413 847 1978 \n",
       "z\n",
       "\" transform=\"scale(0.015625)\"/>\n",
       "      <path id=\"ArialMT-20\" transform=\"scale(0.015625)\"/>\n",
       "      <path id=\"ArialMT-6d\" d=\"M 422 0 \n",
       "L 422 3319 \n",
       "L 925 3319 \n",
       "L 925 2853 \n",
       "Q 1081 3097 1340 3245 \n",
       "Q 1600 3394 1931 3394 \n",
       "Q 2300 3394 2536 3241 \n",
       "Q 2772 3088 2869 2813 \n",
       "Q 3263 3394 3894 3394 \n",
       "Q 4388 3394 4653 3120 \n",
       "Q 4919 2847 4919 2278 \n",
       "L 4919 0 \n",
       "L 4359 0 \n",
       "L 4359 2091 \n",
       "Q 4359 2428 4304 2576 \n",
       "Q 4250 2725 4106 2815 \n",
       "Q 3963 2906 3769 2906 \n",
       "Q 3419 2906 3187 2673 \n",
       "Q 2956 2441 2956 1928 \n",
       "L 2956 0 \n",
       "L 2394 0 \n",
       "L 2394 2156 \n",
       "Q 2394 2531 2256 2718 \n",
       "Q 2119 2906 1806 2906 \n",
       "Q 1569 2906 1367 2781 \n",
       "Q 1166 2656 1075 2415 \n",
       "Q 984 2175 984 1722 \n",
       "L 984 0 \n",
       "L 422 0 \n",
       "z\n",
       "\" transform=\"scale(0.015625)\"/>\n",
       "      <path id=\"ArialMT-70\" d=\"M 422 -1272 \n",
       "L 422 3319 \n",
       "L 934 3319 \n",
       "L 934 2888 \n",
       "Q 1116 3141 1344 3267 \n",
       "Q 1572 3394 1897 3394 \n",
       "Q 2322 3394 2647 3175 \n",
       "Q 2972 2956 3137 2557 \n",
       "Q 3303 2159 3303 1684 \n",
       "Q 3303 1175 3120 767 \n",
       "Q 2938 359 2589 142 \n",
       "Q 2241 -75 1856 -75 \n",
       "Q 1575 -75 1351 44 \n",
       "Q 1128 163 984 344 \n",
       "L 984 -1272 \n",
       "L 422 -1272 \n",
       "z\n",
       "M 931 1641 \n",
       "Q 931 1000 1190 694 \n",
       "Q 1450 388 1819 388 \n",
       "Q 2194 388 2461 705 \n",
       "Q 2728 1022 2728 1688 \n",
       "Q 2728 2322 2467 2637 \n",
       "Q 2206 2953 1844 2953 \n",
       "Q 1484 2953 1207 2617 \n",
       "Q 931 2281 931 1641 \n",
       "z\n",
       "\" transform=\"scale(0.015625)\"/>\n",
       "      <path id=\"ArialMT-6c\" d=\"M 409 0 \n",
       "L 409 4581 \n",
       "L 972 4581 \n",
       "L 972 0 \n",
       "L 409 0 \n",
       "z\n",
       "\" transform=\"scale(0.015625)\"/>\n",
       "     </defs>\n",
       "     <use xlink:href=\"#ArialMT-44\"/>\n",
       "     <use xlink:href=\"#ArialMT-61\" x=\"72.216797\"/>\n",
       "     <use xlink:href=\"#ArialMT-74\" x=\"127.832031\"/>\n",
       "     <use xlink:href=\"#ArialMT-61\" x=\"155.615234\"/>\n",
       "     <use xlink:href=\"#ArialMT-73\" x=\"211.230469\"/>\n",
       "     <use xlink:href=\"#ArialMT-65\" x=\"261.230469\"/>\n",
       "     <use xlink:href=\"#ArialMT-74\" x=\"316.845703\"/>\n",
       "     <use xlink:href=\"#ArialMT-20\" x=\"344.628906\"/>\n",
       "     <use xlink:href=\"#ArialMT-73\" x=\"372.412109\"/>\n",
       "     <use xlink:href=\"#ArialMT-61\" x=\"422.412109\"/>\n",
       "     <use xlink:href=\"#ArialMT-6d\" x=\"478.027344\"/>\n",
       "     <use xlink:href=\"#ArialMT-70\" x=\"561.328125\"/>\n",
       "     <use xlink:href=\"#ArialMT-6c\" x=\"616.943359\"/>\n",
       "     <use xlink:href=\"#ArialMT-65\" x=\"639.160156\"/>\n",
       "     <use xlink:href=\"#ArialMT-73\" x=\"694.775391\"/>\n",
       "    </g>\n",
       "   </g>\n",
       "   <g id=\"legend_1\">\n",
       "    <g id=\"patch_7\">\n",
       "     <path d=\"M 197.010937 149.879219 \n",
       "L 268.889063 149.879219 \n",
       "Q 271.089063 149.879219 271.089063 147.679219 \n",
       "L 271.089063 117.659531 \n",
       "Q 271.089063 115.459531 268.889063 115.459531 \n",
       "L 197.010937 115.459531 \n",
       "Q 194.810937 115.459531 194.810937 117.659531 \n",
       "L 194.810937 147.679219 \n",
       "Q 194.810937 149.879219 197.010937 149.879219 \n",
       "z\n",
       "\" style=\"fill: #eaeaf2; opacity: 0.8; stroke: #cccccc; stroke-linejoin: miter\"/>\n",
       "    </g>\n",
       "    <g id=\"PathCollection_3\">\n",
       "     <g>\n",
       "      <use xlink:href=\"#mdcd3b9a9bf\" x=\"210.210938\" y=\"124.845625\" style=\"fill: #4c72b0; stroke: #333333\"/>\n",
       "     </g>\n",
       "    </g>\n",
       "    <g id=\"text_15\">\n",
       "     <!-- Class 0 -->\n",
       "     <g style=\"fill: #262626\" transform=\"translate(230.010938 127.733125) scale(0.11 -0.11)\">\n",
       "      <defs>\n",
       "       <path id=\"ArialMT-43\" d=\"M 3763 1606 \n",
       "L 4369 1453 \n",
       "Q 4178 706 3683 314 \n",
       "Q 3188 -78 2472 -78 \n",
       "Q 1731 -78 1267 223 \n",
       "Q 803 525 561 1097 \n",
       "Q 319 1669 319 2325 \n",
       "Q 319 3041 592 3573 \n",
       "Q 866 4106 1370 4382 \n",
       "Q 1875 4659 2481 4659 \n",
       "Q 3169 4659 3637 4309 \n",
       "Q 4106 3959 4291 3325 \n",
       "L 3694 3184 \n",
       "Q 3534 3684 3231 3912 \n",
       "Q 2928 4141 2469 4141 \n",
       "Q 1941 4141 1586 3887 \n",
       "Q 1231 3634 1087 3207 \n",
       "Q 944 2781 944 2328 \n",
       "Q 944 1744 1114 1308 \n",
       "Q 1284 872 1643 656 \n",
       "Q 2003 441 2422 441 \n",
       "Q 2931 441 3284 734 \n",
       "Q 3638 1028 3763 1606 \n",
       "z\n",
       "\" transform=\"scale(0.015625)\"/>\n",
       "      </defs>\n",
       "      <use xlink:href=\"#ArialMT-43\"/>\n",
       "      <use xlink:href=\"#ArialMT-6c\" x=\"72.216797\"/>\n",
       "      <use xlink:href=\"#ArialMT-61\" x=\"94.433594\"/>\n",
       "      <use xlink:href=\"#ArialMT-73\" x=\"150.048828\"/>\n",
       "      <use xlink:href=\"#ArialMT-73\" x=\"200.048828\"/>\n",
       "      <use xlink:href=\"#ArialMT-20\" x=\"250.048828\"/>\n",
       "      <use xlink:href=\"#ArialMT-30\" x=\"277.832031\"/>\n",
       "     </g>\n",
       "    </g>\n",
       "    <g id=\"PathCollection_4\">\n",
       "     <g>\n",
       "      <use xlink:href=\"#m65ac81314d\" x=\"210.210938\" y=\"140.405469\" style=\"fill: #dd8452; stroke: #333333\"/>\n",
       "     </g>\n",
       "    </g>\n",
       "    <g id=\"text_16\">\n",
       "     <!-- Class 1 -->\n",
       "     <g style=\"fill: #262626\" transform=\"translate(230.010938 143.292969) scale(0.11 -0.11)\">\n",
       "      <use xlink:href=\"#ArialMT-43\"/>\n",
       "      <use xlink:href=\"#ArialMT-6c\" x=\"72.216797\"/>\n",
       "      <use xlink:href=\"#ArialMT-61\" x=\"94.433594\"/>\n",
       "      <use xlink:href=\"#ArialMT-73\" x=\"150.048828\"/>\n",
       "      <use xlink:href=\"#ArialMT-73\" x=\"200.048828\"/>\n",
       "      <use xlink:href=\"#ArialMT-20\" x=\"250.048828\"/>\n",
       "      <use xlink:href=\"#ArialMT-31\" x=\"277.832031\"/>\n",
       "     </g>\n",
       "    </g>\n",
       "   </g>\n",
       "  </g>\n",
       " </g>\n",
       " <defs>\n",
       "  <clipPath id=\"p15888276bd\">\n",
       "   <rect x=\"53.389062\" y=\"21.789375\" width=\"223.2\" height=\"221.76\"/>\n",
       "  </clipPath>\n",
       " </defs>\n",
       "</svg>\n"
      ],
      "text/plain": [
       "<Figure size 400x400 with 1 Axes>"
      ]
     },
     "metadata": {},
     "output_type": "display_data"
    }
   ],
   "source": [
    "visualize_samples(dataset.data, dataset.label)\n",
    "plt.show()"
   ]
  },
  {
   "cell_type": "markdown",
   "metadata": {
    "id": "weRvxijrxpSi"
   },
   "source": [
    "#### The data loader class\n",
    "\n",
    "The class `torch.utils.data.DataLoader` represents a Python iterable over a dataset with support for automatic batching, multi-process data loading and many more features. The data loader communicates with the dataset using the function `__getitem__`, and stacks its outputs as tensors over the first dimension to form a batch.\n",
    "In contrast to the dataset class, we usually don't have to define our own data loader class, but can just create an object of it with the dataset as input. Additionally, we can configure our data loader with the following input arguments (only a selection, see full list [here](https://pytorch.org/docs/stable/data.html#torch.utils.data.DataLoader)):\n",
    "\n",
    "* `batch_size`: Number of samples to stack per batch\n",
    "* `shuffle`: If True, the data is returned in a random order. This is important during training for introducing stochasticity. \n",
    "* `num_workers`: Number of subprocesses to use for data loading. The default, 0, means that the data will be loaded in the main process which can slow down training for datasets where loading a data point takes a considerable amount of time (e.g. large images). More workers are recommended for those, but can cause issues on Windows computers. For tiny datasets as ours, 0 workers are usually faster.\n",
    "* `pin_memory`: If True, the data loader will copy Tensors into CUDA pinned memory before returning them. This can save some time for large data points on GPUs. Usually a good practice to use for a training set, but not necessarily for validation and test to save memory on the GPU.\n",
    "* `drop_last`: If True, the last batch is dropped in case it is smaller than the specified batch size. This occurs when the dataset size is not a multiple of the batch size. Only potentially helpful during training to keep a consistent batch size.\n",
    "\n",
    "Let's create a simple data loader below:"
   ]
  },
  {
   "cell_type": "code",
   "execution_count": 66,
   "metadata": {
    "id": "Bcxic1SnxpSi",
    "pycharm": {
     "is_executing": true
    }
   },
   "outputs": [],
   "source": [
    "data_loader = data.DataLoader(dataset, batch_size=8, shuffle=True)"
   ]
  },
  {
   "cell_type": "code",
   "execution_count": 67,
   "metadata": {
    "id": "6oCM3SKBxpSi",
    "outputId": "b399812c-8e8e-497d-ab8b-0b14b2b614e6",
    "pycharm": {
     "is_executing": true
    }
   },
   "outputs": [
    {
     "name": "stdout",
     "output_type": "stream",
     "text": [
      "Data inputs torch.Size([8, 2]) \n",
      " tensor([[ 0.9871,  0.0887],\n",
      "        [ 0.9652,  0.8661],\n",
      "        [ 0.0599,  0.9523],\n",
      "        [ 0.0032,  0.0411],\n",
      "        [ 0.1739,  0.0060],\n",
      "        [-0.0580,  1.1956],\n",
      "        [ 0.9558,  1.0799],\n",
      "        [ 0.9589,  1.0259]])\n",
      "Data labels torch.Size([8]) \n",
      " tensor([1, 0, 1, 0, 0, 1, 0, 0])\n"
     ]
    }
   ],
   "source": [
    "# next(iter(...)) catches the first batch of the data loader\n",
    "# If shuffle is True, this will return a different batch every time we run this cell\n",
    "# For iterating over the whole dataset, we can simple use \"for batch in data_loader: ...\"\n",
    "data_inputs, data_labels = next(iter(data_loader))\n",
    "\n",
    "# The shape of the outputs are [batch_size, d_1,...,d_N] where d_1,...,d_N are the \n",
    "# dimensions of the data point returned from the dataset class\n",
    "print(\"Data inputs\", data_inputs.shape, \"\\n\", data_inputs)\n",
    "print(\"Data labels\", data_labels.shape, \"\\n\", data_labels)"
   ]
  },
  {
   "cell_type": "markdown",
   "metadata": {
    "id": "Z2-DEkdxxpSi"
   },
   "source": [
    "### Optimization\n",
    "\n",
    "After defining the model and the dataset, it is time to prepare the optimization of the model. During training, we will perform the following steps:\n",
    "\n",
    "1. Get a batch from the data loader\n",
    "2. Obtain the predictions from the model for the batch\n",
    "3. Calculate the loss based on the difference between predictions and labels\n",
    "4. Backpropagation: calculate the gradients for every parameter with respect to the loss\n",
    "5. Update the parameters of the model in the direction of the gradients\n",
    "\n",
    "We have seen how we can do step 1, 2 and 4 in PyTorch. Now, we will look at step 3 and 5."
   ]
  },
  {
   "cell_type": "markdown",
   "metadata": {
    "id": "ce3VBa-JxpSi"
   },
   "source": [
    "#### Loss modules\n",
    "\n",
    "We can calculate the loss for a batch by simply performing a few tensor operations as those are automatically added to the computation graph. For instance, for binary classification, we can use Binary Cross Entropy (BCE) which is defined as follows:\n",
    "\n",
    "$$\\mathcal{L}_{BCE} = -\\sum_i \\left[ y_i \\log x_i + (1 - y_i) \\log (1 - x_i) \\right]$$\n",
    "\n",
    "where $y$ are our labels, and $x$ our predictions, both in the range of $[0,1]$. However, PyTorch already provides a list of predefined loss functions which we can use (see [here](https://pytorch.org/docs/stable/nn.html#loss-functions) for a full list). For instance, for BCE, PyTorch has two modules: `nn.BCELoss()`, `nn.BCEWithLogitsLoss()`. While `nn.BCELoss` expects the inputs $x$ to be in the range $[0,1]$, i.e. the output of a sigmoid, `nn.BCEWithLogitsLoss` combines a sigmoid layer and the BCE loss in a single class. This version is numerically more stable than using a plain Sigmoid followed by a BCE loss because of the logarithms applied in the loss function. Hence, it is adviced to use loss functions applied on [\"logits\"](https://it.wikipedia.org/wiki/Logit) where possible (remember to not apply a sigmoid on the output of the model in this case!). For our model defined above, we therefore use the module `nn.BCEWithLogitsLoss`. "
   ]
  },
  {
   "cell_type": "code",
   "execution_count": 68,
   "metadata": {
    "id": "fGS6CeBGxpSi",
    "pycharm": {
     "is_executing": true
    }
   },
   "outputs": [],
   "source": [
    "loss_module = nn.BCEWithLogitsLoss()"
   ]
  },
  {
   "cell_type": "markdown",
   "metadata": {
    "id": "yA-ZlHwoxpSi"
   },
   "source": [
    "#### Stochastic Gradient Descent\n",
    "\n",
    "For updating the parameters, PyTorch provides the package `torch.optim` that has most popular optimizers implemented. We will discuss the specific optimizers and their differences later in the course, but will for now use the simplest of them: `torch.optim.SGD`. Stochastic Gradient Descent updates parameters by multiplying the gradients with a small constant, called learning rate, and subtracting those from the parameters (hence minimizing the loss). Therefore, we slowly move towards the direction of minimizing the loss. A good default value of the learning rate for a small network as ours is 0.1. "
   ]
  },
  {
   "cell_type": "code",
   "execution_count": 69,
   "metadata": {
    "id": "bI5fFw6kxpSi",
    "pycharm": {
     "is_executing": true
    }
   },
   "outputs": [],
   "source": [
    "# Input to the optimizer are the parameters of the model: model.parameters()\n",
    "optimizer = torch.optim.SGD(model.parameters(), lr=0.1)"
   ]
  },
  {
   "cell_type": "markdown",
   "metadata": {
    "id": "BslwcdCzxpSi"
   },
   "source": [
    "The optimizer provides two useful functions: `optimizer.step()`, and `optimizer.zero_grad()`. The step function updates the parameters based on the gradients as explained above. The function `optimizer.zero_grad()` sets the gradients of all parameters to zero. While this function seems less relevant at first, it is a crucial pre-step before performing backpropagation. If we would call the `backward` function on the loss while the parameter gradients are non-zero from the previous batch, the new gradients would actually be added to the previous ones instead of overwriting them. This is done because a parameter might occur multiple times in a computation graph, and we need to sum the gradients in this case instead of replacing them. Hence, remember to call `optimizer.zero_grad()` before calculating the gradients of a batch."
   ]
  },
  {
   "cell_type": "markdown",
   "metadata": {
    "id": "65AQzfJvxpSj"
   },
   "source": [
    "### Training\n",
    "\n",
    "Finally, we are ready to train our model. As a first step, we create a slightly larger dataset and specify a data loader with a larger batch size. "
   ]
  },
  {
   "cell_type": "code",
   "execution_count": 70,
   "metadata": {
    "id": "VWg5sw-IxpSj",
    "pycharm": {
     "is_executing": true
    }
   },
   "outputs": [],
   "source": [
    "train_dataset = XORDataset(size=2500)\n",
    "train_data_loader = data.DataLoader(train_dataset, batch_size=128, shuffle=True)"
   ]
  },
  {
   "cell_type": "markdown",
   "metadata": {
    "id": "rOlDFJuGxpSj"
   },
   "source": [
    "Now, we can write a small training function. Remember our five steps: load a batch, obtain the predictions, calculate the loss, backpropagate, and update. Additionally, we have to push all data and model parameters to the device of our choice (GPU if available). For the tiny neural network we have, communicating the data to the GPU actually takes much more time than we could save from running the operation on GPU. For large networks, the communication time is significantly smaller than the actual runtime making a GPU crucial in these cases. Still, to practice, we will push the data to GPU here. "
   ]
  },
  {
   "cell_type": "code",
   "execution_count": 71,
   "metadata": {
    "id": "5SeM6U-axpSj",
    "outputId": "e107f374-e9ed-4c5f-8e76-594c91617303",
    "pycharm": {
     "is_executing": true
    }
   },
   "outputs": [
    {
     "data": {
      "text/plain": [
       "SimpleClassifier(\n",
       "  (linear1): Linear(in_features=2, out_features=4, bias=True)\n",
       "  (act_fn): Tanh()\n",
       "  (linear2): Linear(in_features=4, out_features=1, bias=True)\n",
       ")"
      ]
     },
     "execution_count": 71,
     "metadata": {},
     "output_type": "execute_result"
    }
   ],
   "source": [
    "# Push model to device. Has to be only done once\n",
    "model.to(device)"
   ]
  },
  {
   "cell_type": "markdown",
   "metadata": {
    "id": "j7XEcq7NxpSj"
   },
   "source": [
    "In addition, we set our model to training mode. This is done by calling `model.train()`. There exist certain modules that need to perform a different forward step during training than during testing (e.g. BatchNorm and Dropout), and we can switch between them using `model.train()` and `model.eval()`."
   ]
  },
  {
   "cell_type": "code",
   "execution_count": 72,
   "metadata": {
    "id": "JpH6LBNBxpSj",
    "pycharm": {
     "is_executing": true
    }
   },
   "outputs": [],
   "source": [
    "def train_model(model, optimizer, data_loader, loss_module, num_epochs=100):\n",
    "    # Set model to train mode\n",
    "    model.train() \n",
    "    \n",
    "    # Training loop\n",
    "    for epoch in tqdm(range(num_epochs)):\n",
    "        for data_inputs, data_labels in data_loader:\n",
    "            \n",
    "            ## Step 1: Move input data to device (only strictly necessary if we use GPU)\n",
    "            data_inputs = data_inputs.to(device)\n",
    "            data_labels = data_labels.to(device)\n",
    "            \n",
    "            ## Step 2: Run the model on the input data\n",
    "            preds = model(data_inputs)\n",
    "            preds = preds.squeeze(dim=1) # Output is [Batch size, 1], but we want [Batch size]\n",
    "            \n",
    "            ## Step 3: Calculate the loss\n",
    "            loss = loss_module(preds, data_labels.float())\n",
    "            \n",
    "            ## Step 4: Perform backpropagation\n",
    "            # Before calculating the gradients, we need to ensure that they are all zero. \n",
    "            # The gradients would not be overwritten, but actually added to the existing ones.\n",
    "            optimizer.zero_grad() \n",
    "            # Perform backpropagation\n",
    "            loss.backward()\n",
    "            \n",
    "            ## Step 5: Update the parameters\n",
    "            optimizer.step()"
   ]
  },
  {
   "cell_type": "code",
   "execution_count": 73,
   "metadata": {
    "colab": {
     "referenced_widgets": [
      "0c981b6159ea4efda9227d7aeef11afa"
     ]
    },
    "id": "x30Awk6xxpSj",
    "outputId": "b2dffd43-a73d-4017-a767-4db8cda5ec2d",
    "pycharm": {
     "is_executing": true
    }
   },
   "outputs": [
    {
     "data": {
      "application/vnd.jupyter.widget-view+json": {
       "model_id": "9d438ab0e3ba4226a325e6a6cef48fdc",
       "version_major": 2,
       "version_minor": 0
      },
      "text/plain": [
       "  0%|          | 0/100 [00:00<?, ?it/s]"
      ]
     },
     "metadata": {},
     "output_type": "display_data"
    }
   ],
   "source": [
    "train_model(model, optimizer, train_data_loader, loss_module)"
   ]
  },
  {
   "cell_type": "markdown",
   "metadata": {
    "id": "Lk9Gm3EMxpSj"
   },
   "source": [
    "#### Saving a model\n",
    "\n",
    "After finish training a model, we save the model to disk so that we can load the same weights at a later time. For this, we extract the so-called `state_dict` from the model which contains all learnable parameters. For our simple model, the state dict contains the following entries:"
   ]
  },
  {
   "cell_type": "code",
   "execution_count": 74,
   "metadata": {
    "id": "PTpl2-5yxpSj",
    "outputId": "9e96c17c-0957-466e-cba7-a887a8e78236",
    "pycharm": {
     "is_executing": true
    }
   },
   "outputs": [
    {
     "name": "stdout",
     "output_type": "stream",
     "text": [
      "OrderedDict([('linear1.weight', tensor([[ 3.4347,  3.2753],\n",
      "        [-0.7376, -1.4254],\n",
      "        [-1.7557, -2.0183],\n",
      "        [ 1.5134, -0.9147]], device='cuda:0')), ('linear1.bias', tensor([-1.6222,  1.4294,  2.7884,  0.8184], device='cuda:0')), ('linear2.weight', tensor([[ 5.0293,  1.9231,  3.4224, -2.1416]], device='cuda:0')), ('linear2.bias', tensor([-2.7164], device='cuda:0'))])\n"
     ]
    }
   ],
   "source": [
    "state_dict = model.state_dict()\n",
    "print(state_dict)"
   ]
  },
  {
   "cell_type": "markdown",
   "metadata": {
    "id": "Dg2xXRpuxpSk"
   },
   "source": [
    "To save the state dictionary, we can use `torch.save`:"
   ]
  },
  {
   "cell_type": "code",
   "execution_count": 75,
   "metadata": {
    "id": "k6PjH_vSxpSk",
    "pycharm": {
     "is_executing": true
    }
   },
   "outputs": [],
   "source": [
    "# torch.save(object, filename). For the filename, any extension can be used\n",
    "torch.save(state_dict, \"our_model.tar\")"
   ]
  },
  {
   "cell_type": "markdown",
   "metadata": {
    "id": "ZI2IOVULxpSk"
   },
   "source": [
    "To load a model from a state dict, we use the function `torch.load` to load the state dict from the disk, and the module function `load_state_dict` to overwrite our parameters with the new values:"
   ]
  },
  {
   "cell_type": "code",
   "execution_count": 76,
   "metadata": {
    "id": "LL1S0ATXxpSk",
    "outputId": "3d84f9a6-2915-491a-cfe3-fdc5cf76abc7",
    "pycharm": {
     "is_executing": true
    }
   },
   "outputs": [
    {
     "name": "stdout",
     "output_type": "stream",
     "text": [
      "Original model\n",
      " OrderedDict([('linear1.weight', tensor([[ 3.4347,  3.2753],\n",
      "        [-0.7376, -1.4254],\n",
      "        [-1.7557, -2.0183],\n",
      "        [ 1.5134, -0.9147]], device='cuda:0')), ('linear1.bias', tensor([-1.6222,  1.4294,  2.7884,  0.8184], device='cuda:0')), ('linear2.weight', tensor([[ 5.0293,  1.9231,  3.4224, -2.1416]], device='cuda:0')), ('linear2.bias', tensor([-2.7164], device='cuda:0'))])\n",
      "\n",
      "Loaded model\n",
      " OrderedDict([('linear1.weight', tensor([[ 3.4347,  3.2753],\n",
      "        [-0.7376, -1.4254],\n",
      "        [-1.7557, -2.0183],\n",
      "        [ 1.5134, -0.9147]])), ('linear1.bias', tensor([-1.6222,  1.4294,  2.7884,  0.8184])), ('linear2.weight', tensor([[ 5.0293,  1.9231,  3.4224, -2.1416]])), ('linear2.bias', tensor([-2.7164]))])\n"
     ]
    }
   ],
   "source": [
    "# Load state dict from the disk (make sure it is the same name as above)\n",
    "state_dict = torch.load(\"our_model.tar\")\n",
    "\n",
    "# Create a new model and load the state\n",
    "new_model = SimpleClassifier(num_inputs=2, num_hidden=4, num_outputs=1)\n",
    "new_model.load_state_dict(state_dict)\n",
    "\n",
    "# Verify that the parameters are the same\n",
    "print(\"Original model\\n\", model.state_dict())\n",
    "print(\"\\nLoaded model\\n\", new_model.state_dict())"
   ]
  },
  {
   "cell_type": "markdown",
   "metadata": {
    "id": "obT5XnPHxpSk"
   },
   "source": [
    "A detailed tutorial on saving and loading models in PyTorch can be found [here](https://pytorch.org/tutorials/beginner/saving_loading_models.html)."
   ]
  },
  {
   "cell_type": "markdown",
   "metadata": {
    "id": "_6VTNVKAxpSk"
   },
   "source": [
    "### Evaluation\n",
    "\n",
    "Once we have trained a model, it is time to evaluate it on a held-out test set. As our dataset consist of randomly generated data points, we need to first create a test set with a corresponding data loader."
   ]
  },
  {
   "cell_type": "code",
   "execution_count": 77,
   "metadata": {
    "id": "fTiu-p37xpSk",
    "pycharm": {
     "is_executing": true
    }
   },
   "outputs": [],
   "source": [
    "test_dataset = XORDataset(size=500)\n",
    "# drop_last -> Don't drop the last batch although it is smaller than 128\n",
    "test_data_loader = data.DataLoader(test_dataset, batch_size=128, shuffle=False, drop_last=False) "
   ]
  },
  {
   "cell_type": "markdown",
   "metadata": {
    "id": "oJyGn878xpSk"
   },
   "source": [
    "As metric, we will use accuracy which is calculated as follows:\n",
    "\n",
    "$$acc = \\frac{\\#\\text{correct predictions}}{\\#\\text{all predictions}} = \\frac{TP+TN}{TP+TN+FP+FN}$$\n",
    "\n",
    "where TP are the true positives, TN true negatives, FP false positives, and FN the fale negatives. \n",
    "\n",
    "When evaluating the model, we don't need to keep track of the computation graph as we don't intend to calculate the gradients. This reduces the required memory and speed up the model. In PyTorch, we can deactivate the computation graph using `with torch.no_grad(): ...`. Remember to additionally set the model to eval mode."
   ]
  },
  {
   "cell_type": "code",
   "execution_count": 78,
   "metadata": {
    "id": "XzfxJ0WPxpSk",
    "pycharm": {
     "is_executing": true
    }
   },
   "outputs": [],
   "source": [
    "def eval_model(model, data_loader):\n",
    "    model.eval() # Set model to eval mode\n",
    "    true_preds, num_preds = 0., 0.\n",
    "    \n",
    "    with torch.no_grad(): # Deactivate gradients for the following code\n",
    "        for data_inputs, data_labels in data_loader:\n",
    "            \n",
    "            # Determine prediction of model on dev set\n",
    "            data_inputs, data_labels = data_inputs.to(device), data_labels.to(device)\n",
    "            preds = model(data_inputs)\n",
    "            preds = preds.squeeze(dim=1)\n",
    "            preds = torch.sigmoid(preds) # Sigmoid to map predictions between 0 and 1\n",
    "            pred_labels = (preds >= 0.5).long() # Binarize predictions to 0 and 1\n",
    "            \n",
    "            # Keep records of predictions for the accuracy metric (true_preds=TP+TN, num_preds=TP+TN+FP+FN)\n",
    "            true_preds += (pred_labels == data_labels).sum()\n",
    "            num_preds += data_labels.shape[0]\n",
    "            \n",
    "    acc = true_preds / num_preds\n",
    "    print(f\"Accuracy of the model: {100.0*acc:4.2f}%\")"
   ]
  },
  {
   "cell_type": "code",
   "execution_count": 79,
   "metadata": {
    "id": "78uja8-3xpSl",
    "outputId": "79737d31-0f5b-4220-84e9-526e6f22dd25",
    "pycharm": {
     "is_executing": true
    }
   },
   "outputs": [
    {
     "name": "stdout",
     "output_type": "stream",
     "text": [
      "Accuracy of the model: 100.00%\n"
     ]
    }
   ],
   "source": [
    "eval_model(model, test_data_loader)"
   ]
  },
  {
   "cell_type": "markdown",
   "metadata": {
    "id": "5JwrMMKcxpSl"
   },
   "source": [
    "If we trained our model correctly, we should see a score close to 100% accuracy. However, this is only possible because of our simple task, and unfortunately, we usually don't get such high scores on test sets of more complex tasks."
   ]
  },
  {
   "cell_type": "markdown",
   "metadata": {
    "id": "vSmAavukxpSl"
   },
   "source": [
    "#### Visualizing classification boundaries\n",
    "\n",
    "To visualize what our model has learned, we can perform a prediction for every data point in a range of $[-0.5, 1.5]$, and visualize the predicted class as in the sample figure at the beginning of this section. This shows where the model has created decision boundaries, and which points would be classified as $0$, and which as $1$. We therefore get a background image out of blue (class 0) and orange (class 1) (For the color coding in matplitlib see [here](https://matplotlib.org/2.0.2/users/colors.html)). The spots where the model is uncertain we will see a blurry overlap. The specific code is less relevant compared to the output figure which should hopefully show us a clear separation of classes:"
   ]
  },
  {
   "cell_type": "code",
   "execution_count": 81,
   "metadata": {
    "id": "Hrpc9rczxpSl",
    "outputId": "520c81e7-05b6-48d7-f23e-3809b4b04e1b",
    "pycharm": {
     "is_executing": true
    }
   },
   "outputs": [
    {
     "data": {
      "application/pdf": "[encoded data removed]",
      "image/svg+xml": [
       "<?xml version=\"1.0\" encoding=\"utf-8\" standalone=\"no\"?>\n",
       "<!DOCTYPE svg PUBLIC \"-//W3C//DTD SVG 1.1//EN\"\n",
       "  \"http://www.w3.org/Graphics/SVG/1.1/DTD/svg11.dtd\">\n",
       "<svg xmlns:xlink=\"http://www.w3.org/1999/xlink\" width=\"296.111094pt\" height=\"285.283594pt\" viewBox=\"0 0 296.111094 285.283594\" xmlns=\"http://www.w3.org/2000/svg\" version=\"1.1\">\n",
       " <metadata>\n",
       "  <rdf:RDF xmlns:dc=\"http://purl.org/dc/elements/1.1/\" xmlns:cc=\"http://creativecommons.org/ns#\" xmlns:rdf=\"http://www.w3.org/1999/02/22-rdf-syntax-ns#\">\n",
       "   <cc:Work>\n",
       "    <dc:type rdf:resource=\"http://purl.org/dc/dcmitype/StillImage\"/>\n",
       "    <dc:date>2023-04-27T13:12:03.398856</dc:date>\n",
       "    <dc:format>image/svg+xml</dc:format>\n",
       "    <dc:creator>\n",
       "     <cc:Agent>\n",
       "      <dc:title>Matplotlib v3.7.1, https://matplotlib.org/</dc:title>\n",
       "     </cc:Agent>\n",
       "    </dc:creator>\n",
       "   </cc:Work>\n",
       "  </rdf:RDF>\n",
       " </metadata>\n",
       " <defs>\n",
       "  <style type=\"text/css\">*{stroke-linejoin: round; stroke-linecap: butt}</style>\n",
       " </defs>\n",
       " <g id=\"figure_1\">\n",
       "  <g id=\"patch_1\">\n",
       "   <path d=\"M 0 285.283594 \n",
       "L 296.111094 285.283594 \n",
       "L 296.111094 0 \n",
       "L 0 0 \n",
       "z\n",
       "\" style=\"fill: #ffffff\"/>\n",
       "  </g>\n",
       "  <g id=\"axes_1\">\n",
       "   <g id=\"patch_2\">\n",
       "    <path d=\"M 59.506094 243.549375 \n",
       "L 281.266094 243.549375 \n",
       "L 281.266094 21.789375 \n",
       "L 59.506094 21.789375 \n",
       "z\n",
       "\" style=\"fill: #eaeaf2\"/>\n",
       "   </g>\n",
       "   <g clip-path=\"url(#pb8bb20c086)\">\n",
       "    <image xlink:href=\"data:image/png;base64,\n",
       "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\" id=\"imagefbd373ac4f\" transform=\"scale(1 -1) translate(0 -221.904)\" x=\"59.506094\" y=\"-21.645375\" width=\"221.904\" height=\"221.904\"/>\n",
       "   </g>\n",
       "   <g id=\"matplotlib.axis_1\">\n",
       "    <g id=\"xtick_1\">\n",
       "     <g id=\"text_1\">\n",
       "      <!-- −0.5 -->\n",
       "      <g style=\"fill: #262626\" transform=\"translate(48.64875 260.922969) scale(0.11 -0.11)\">\n",
       "       <defs>\n",
       "        <path id=\"ArialMT-2212\" d=\"M 3381 1997 \n",
       "L 356 1997 \n",
       "L 356 2522 \n",
       "L 3381 2522 \n",
       "L 3381 1997 \n",
       "z\n",
       "\" transform=\"scale(0.015625)\"/>\n",
       "        <path id=\"ArialMT-30\" d=\"M 266 2259 \n",
       "Q 266 3072 433 3567 \n",
       "Q 600 4063 929 4331 \n",
       "Q 1259 4600 1759 4600 \n",
       "Q 2128 4600 2406 4451 \n",
       "Q 2684 4303 2865 4023 \n",
       "Q 3047 3744 3150 3342 \n",
       "Q 3253 2941 3253 2259 \n",
       "Q 3253 1453 3087 958 \n",
       "Q 2922 463 2592 192 \n",
       "Q 2263 -78 1759 -78 \n",
       "Q 1097 -78 719 397 \n",
       "Q 266 969 266 2259 \n",
       "z\n",
       "M 844 2259 \n",
       "Q 844 1131 1108 757 \n",
       "Q 1372 384 1759 384 \n",
       "Q 2147 384 2411 759 \n",
       "Q 2675 1134 2675 2259 \n",
       "Q 2675 3391 2411 3762 \n",
       "Q 2147 4134 1753 4134 \n",
       "Q 1366 4134 1134 3806 \n",
       "Q 844 3388 844 2259 \n",
       "z\n",
       "\" transform=\"scale(0.015625)\"/>\n",
       "        <path id=\"ArialMT-2e\" d=\"M 581 0 \n",
       "L 581 641 \n",
       "L 1222 641 \n",
       "L 1222 0 \n",
       "L 581 0 \n",
       "z\n",
       "\" transform=\"scale(0.015625)\"/>\n",
       "        <path id=\"ArialMT-35\" d=\"M 266 1200 \n",
       "L 856 1250 \n",
       "Q 922 819 1161 601 \n",
       "Q 1400 384 1738 384 \n",
       "Q 2144 384 2425 690 \n",
       "Q 2706 997 2706 1503 \n",
       "Q 2706 1984 2436 2262 \n",
       "Q 2166 2541 1728 2541 \n",
       "Q 1456 2541 1237 2417 \n",
       "Q 1019 2294 894 2097 \n",
       "L 366 2166 \n",
       "L 809 4519 \n",
       "L 3088 4519 \n",
       "L 3088 3981 \n",
       "L 1259 3981 \n",
       "L 1013 2750 \n",
       "Q 1425 3038 1878 3038 \n",
       "Q 2478 3038 2890 2622 \n",
       "Q 3303 2206 3303 1553 \n",
       "Q 3303 931 2941 478 \n",
       "Q 2500 -78 1738 -78 \n",
       "Q 1113 -78 717 272 \n",
       "Q 322 622 266 1200 \n",
       "z\n",
       "\" transform=\"scale(0.015625)\"/>\n",
       "       </defs>\n",
       "       <use xlink:href=\"#ArialMT-2212\"/>\n",
       "       <use xlink:href=\"#ArialMT-30\" x=\"58.398438\"/>\n",
       "       <use xlink:href=\"#ArialMT-2e\" x=\"114.013672\"/>\n",
       "       <use xlink:href=\"#ArialMT-35\" x=\"141.796875\"/>\n",
       "      </g>\n",
       "     </g>\n",
       "    </g>\n",
       "    <g id=\"xtick_2\">\n",
       "     <g id=\"text_2\">\n",
       "      <!-- 0.0 -->\n",
       "      <g style=\"fill: #262626\" transform=\"translate(107.301094 260.922969) scale(0.11 -0.11)\">\n",
       "       <use xlink:href=\"#ArialMT-30\"/>\n",
       "       <use xlink:href=\"#ArialMT-2e\" x=\"55.615234\"/>\n",
       "       <use xlink:href=\"#ArialMT-30\" x=\"83.398438\"/>\n",
       "      </g>\n",
       "     </g>\n",
       "    </g>\n",
       "    <g id=\"xtick_3\">\n",
       "     <g id=\"text_3\">\n",
       "      <!-- 0.5 -->\n",
       "      <g style=\"fill: #262626\" transform=\"translate(162.741094 260.922969) scale(0.11 -0.11)\">\n",
       "       <use xlink:href=\"#ArialMT-30\"/>\n",
       "       <use xlink:href=\"#ArialMT-2e\" x=\"55.615234\"/>\n",
       "       <use xlink:href=\"#ArialMT-35\" x=\"83.398438\"/>\n",
       "      </g>\n",
       "     </g>\n",
       "    </g>\n",
       "    <g id=\"xtick_4\">\n",
       "     <g id=\"text_4\">\n",
       "      <!-- 1.0 -->\n",
       "      <g style=\"fill: #262626\" transform=\"translate(218.181094 260.922969) scale(0.11 -0.11)\">\n",
       "       <defs>\n",
       "        <path id=\"ArialMT-31\" d=\"M 2384 0 \n",
       "L 1822 0 \n",
       "L 1822 3584 \n",
       "Q 1619 3391 1289 3197 \n",
       "Q 959 3003 697 2906 \n",
       "L 697 3450 \n",
       "Q 1169 3672 1522 3987 \n",
       "Q 1875 4303 2022 4600 \n",
       "L 2384 4600 \n",
       "L 2384 0 \n",
       "z\n",
       "\" transform=\"scale(0.015625)\"/>\n",
       "       </defs>\n",
       "       <use xlink:href=\"#ArialMT-31\"/>\n",
       "       <use xlink:href=\"#ArialMT-2e\" x=\"55.615234\"/>\n",
       "       <use xlink:href=\"#ArialMT-30\" x=\"83.398438\"/>\n",
       "      </g>\n",
       "     </g>\n",
       "    </g>\n",
       "    <g id=\"xtick_5\">\n",
       "     <g id=\"text_5\">\n",
       "      <!-- 1.5 -->\n",
       "      <g style=\"fill: #262626\" transform=\"translate(273.621094 260.922969) scale(0.11 -0.11)\">\n",
       "       <use xlink:href=\"#ArialMT-31\"/>\n",
       "       <use xlink:href=\"#ArialMT-2e\" x=\"55.615234\"/>\n",
       "       <use xlink:href=\"#ArialMT-35\" x=\"83.398438\"/>\n",
       "      </g>\n",
       "     </g>\n",
       "    </g>\n",
       "    <g id=\"text_6\">\n",
       "     <!-- $x_1$ -->\n",
       "     <g style=\"fill: #262626\" transform=\"translate(163.966094 275.698594) scale(0.12 -0.12)\">\n",
       "      <defs>\n",
       "       <path id=\"DejaVuSans-Oblique-78\" d=\"M 3841 3500 \n",
       "L 2234 1784 \n",
       "L 3219 0 \n",
       "L 2559 0 \n",
       "L 1819 1388 \n",
       "L 531 0 \n",
       "L -166 0 \n",
       "L 1556 1844 \n",
       "L 641 3500 \n",
       "L 1300 3500 \n",
       "L 1972 2234 \n",
       "L 3144 3500 \n",
       "L 3841 3500 \n",
       "z\n",
       "\" transform=\"scale(0.015625)\"/>\n",
       "       <path id=\"DejaVuSans-31\" d=\"M 794 531 \n",
       "L 1825 531 \n",
       "L 1825 4091 \n",
       "L 703 3866 \n",
       "L 703 4441 \n",
       "L 1819 4666 \n",
       "L 2450 4666 \n",
       "L 2450 531 \n",
       "L 3481 531 \n",
       "L 3481 0 \n",
       "L 794 0 \n",
       "L 794 531 \n",
       "z\n",
       "\" transform=\"scale(0.015625)\"/>\n",
       "      </defs>\n",
       "      <use xlink:href=\"#DejaVuSans-Oblique-78\" transform=\"translate(0 0.3125)\"/>\n",
       "      <use xlink:href=\"#DejaVuSans-31\" transform=\"translate(59.179688 -16.09375) scale(0.7)\"/>\n",
       "     </g>\n",
       "    </g>\n",
       "   </g>\n",
       "   <g id=\"matplotlib.axis_2\">\n",
       "    <g id=\"ytick_1\">\n",
       "     <g id=\"text_7\">\n",
       "      <!-- −0.50 -->\n",
       "      <g style=\"fill: #262626\" transform=\"translate(22.174375 247.486172) scale(0.11 -0.11)\">\n",
       "       <use xlink:href=\"#ArialMT-2212\"/>\n",
       "       <use xlink:href=\"#ArialMT-30\" x=\"58.398438\"/>\n",
       "       <use xlink:href=\"#ArialMT-2e\" x=\"114.013672\"/>\n",
       "       <use xlink:href=\"#ArialMT-35\" x=\"141.796875\"/>\n",
       "       <use xlink:href=\"#ArialMT-30\" x=\"197.412109\"/>\n",
       "      </g>\n",
       "     </g>\n",
       "    </g>\n",
       "    <g id=\"ytick_2\">\n",
       "     <g id=\"text_8\">\n",
       "      <!-- −0.25 -->\n",
       "      <g style=\"fill: #262626\" transform=\"translate(22.174375 219.766172) scale(0.11 -0.11)\">\n",
       "       <defs>\n",
       "        <path id=\"ArialMT-32\" d=\"M 3222 541 \n",
       "L 3222 0 \n",
       "L 194 0 \n",
       "Q 188 203 259 391 \n",
       "Q 375 700 629 1000 \n",
       "Q 884 1300 1366 1694 \n",
       "Q 2113 2306 2375 2664 \n",
       "Q 2638 3022 2638 3341 \n",
       "Q 2638 3675 2398 3904 \n",
       "Q 2159 4134 1775 4134 \n",
       "Q 1369 4134 1125 3890 \n",
       "Q 881 3647 878 3216 \n",
       "L 300 3275 \n",
       "Q 359 3922 746 4261 \n",
       "Q 1134 4600 1788 4600 \n",
       "Q 2447 4600 2831 4234 \n",
       "Q 3216 3869 3216 3328 \n",
       "Q 3216 3053 3103 2787 \n",
       "Q 2991 2522 2730 2228 \n",
       "Q 2469 1934 1863 1422 \n",
       "Q 1356 997 1212 845 \n",
       "Q 1069 694 975 541 \n",
       "L 3222 541 \n",
       "z\n",
       "\" transform=\"scale(0.015625)\"/>\n",
       "       </defs>\n",
       "       <use xlink:href=\"#ArialMT-2212\"/>\n",
       "       <use xlink:href=\"#ArialMT-30\" x=\"58.398438\"/>\n",
       "       <use xlink:href=\"#ArialMT-2e\" x=\"114.013672\"/>\n",
       "       <use xlink:href=\"#ArialMT-32\" x=\"141.796875\"/>\n",
       "       <use xlink:href=\"#ArialMT-35\" x=\"197.412109\"/>\n",
       "      </g>\n",
       "     </g>\n",
       "    </g>\n",
       "    <g id=\"ytick_3\">\n",
       "     <g id=\"text_9\">\n",
       "      <!-- 0.00 -->\n",
       "      <g style=\"fill: #262626\" transform=\"translate(28.599062 192.046172) scale(0.11 -0.11)\">\n",
       "       <use xlink:href=\"#ArialMT-30\"/>\n",
       "       <use xlink:href=\"#ArialMT-2e\" x=\"55.615234\"/>\n",
       "       <use xlink:href=\"#ArialMT-30\" x=\"83.398438\"/>\n",
       "       <use xlink:href=\"#ArialMT-30\" x=\"139.013672\"/>\n",
       "      </g>\n",
       "     </g>\n",
       "    </g>\n",
       "    <g id=\"ytick_4\">\n",
       "     <g id=\"text_10\">\n",
       "      <!-- 0.25 -->\n",
       "      <g style=\"fill: #262626\" transform=\"translate(28.599062 164.326172) scale(0.11 -0.11)\">\n",
       "       <use xlink:href=\"#ArialMT-30\"/>\n",
       "       <use xlink:href=\"#ArialMT-2e\" x=\"55.615234\"/>\n",
       "       <use xlink:href=\"#ArialMT-32\" x=\"83.398438\"/>\n",
       "       <use xlink:href=\"#ArialMT-35\" x=\"139.013672\"/>\n",
       "      </g>\n",
       "     </g>\n",
       "    </g>\n",
       "    <g id=\"ytick_5\">\n",
       "     <g id=\"text_11\">\n",
       "      <!-- 0.50 -->\n",
       "      <g style=\"fill: #262626\" transform=\"translate(28.599062 136.606172) scale(0.11 -0.11)\">\n",
       "       <use xlink:href=\"#ArialMT-30\"/>\n",
       "       <use xlink:href=\"#ArialMT-2e\" x=\"55.615234\"/>\n",
       "       <use xlink:href=\"#ArialMT-35\" x=\"83.398438\"/>\n",
       "       <use xlink:href=\"#ArialMT-30\" x=\"139.013672\"/>\n",
       "      </g>\n",
       "     </g>\n",
       "    </g>\n",
       "    <g id=\"ytick_6\">\n",
       "     <g id=\"text_12\">\n",
       "      <!-- 0.75 -->\n",
       "      <g style=\"fill: #262626\" transform=\"translate(28.599062 108.886172) scale(0.11 -0.11)\">\n",
       "       <defs>\n",
       "        <path id=\"ArialMT-37\" d=\"M 303 3981 \n",
       "L 303 4522 \n",
       "L 3269 4522 \n",
       "L 3269 4084 \n",
       "Q 2831 3619 2401 2847 \n",
       "Q 1972 2075 1738 1259 \n",
       "Q 1569 684 1522 0 \n",
       "L 944 0 \n",
       "Q 953 541 1156 1306 \n",
       "Q 1359 2072 1739 2783 \n",
       "Q 2119 3494 2547 3981 \n",
       "L 303 3981 \n",
       "z\n",
       "\" transform=\"scale(0.015625)\"/>\n",
       "       </defs>\n",
       "       <use xlink:href=\"#ArialMT-30\"/>\n",
       "       <use xlink:href=\"#ArialMT-2e\" x=\"55.615234\"/>\n",
       "       <use xlink:href=\"#ArialMT-37\" x=\"83.398438\"/>\n",
       "       <use xlink:href=\"#ArialMT-35\" x=\"139.013672\"/>\n",
       "      </g>\n",
       "     </g>\n",
       "    </g>\n",
       "    <g id=\"ytick_7\">\n",
       "     <g id=\"text_13\">\n",
       "      <!-- 1.00 -->\n",
       "      <g style=\"fill: #262626\" transform=\"translate(28.599062 81.166172) scale(0.11 -0.11)\">\n",
       "       <use xlink:href=\"#ArialMT-31\"/>\n",
       "       <use xlink:href=\"#ArialMT-2e\" x=\"55.615234\"/>\n",
       "       <use xlink:href=\"#ArialMT-30\" x=\"83.398438\"/>\n",
       "       <use xlink:href=\"#ArialMT-30\" x=\"139.013672\"/>\n",
       "      </g>\n",
       "     </g>\n",
       "    </g>\n",
       "    <g id=\"ytick_8\">\n",
       "     <g id=\"text_14\">\n",
       "      <!-- 1.25 -->\n",
       "      <g style=\"fill: #262626\" transform=\"translate(28.599062 53.446172) scale(0.11 -0.11)\">\n",
       "       <use xlink:href=\"#ArialMT-31\"/>\n",
       "       <use xlink:href=\"#ArialMT-2e\" x=\"55.615234\"/>\n",
       "       <use xlink:href=\"#ArialMT-32\" x=\"83.398438\"/>\n",
       "       <use xlink:href=\"#ArialMT-35\" x=\"139.013672\"/>\n",
       "      </g>\n",
       "     </g>\n",
       "    </g>\n",
       "    <g id=\"ytick_9\">\n",
       "     <g id=\"text_15\">\n",
       "      <!-- 1.50 -->\n",
       "      <g style=\"fill: #262626\" transform=\"translate(28.599062 25.726172) scale(0.11 -0.11)\">\n",
       "       <use xlink:href=\"#ArialMT-31\"/>\n",
       "       <use xlink:href=\"#ArialMT-2e\" x=\"55.615234\"/>\n",
       "       <use xlink:href=\"#ArialMT-35\" x=\"83.398438\"/>\n",
       "       <use xlink:href=\"#ArialMT-30\" x=\"139.013672\"/>\n",
       "      </g>\n",
       "     </g>\n",
       "    </g>\n",
       "    <g id=\"text_16\">\n",
       "     <!-- $x_2$ -->\n",
       "     <g style=\"fill: #262626\" transform=\"translate(15.789375 139.089375) rotate(-90) scale(0.12 -0.12)\">\n",
       "      <defs>\n",
       "       <path id=\"DejaVuSans-32\" d=\"M 1228 531 \n",
       "L 3431 531 \n",
       "L 3431 0 \n",
       "L 469 0 \n",
       "L 469 531 \n",
       "Q 828 903 1448 1529 \n",
       "Q 2069 2156 2228 2338 \n",
       "Q 2531 2678 2651 2914 \n",
       "Q 2772 3150 2772 3378 \n",
       "Q 2772 3750 2511 3984 \n",
       "Q 2250 4219 1831 4219 \n",
       "Q 1534 4219 1204 4116 \n",
       "Q 875 4013 500 3803 \n",
       "L 500 4441 \n",
       "Q 881 4594 1212 4672 \n",
       "Q 1544 4750 1819 4750 \n",
       "Q 2544 4750 2975 4387 \n",
       "Q 3406 4025 3406 3419 \n",
       "Q 3406 3131 3298 2873 \n",
       "Q 3191 2616 2906 2266 \n",
       "Q 2828 2175 2409 1742 \n",
       "Q 1991 1309 1228 531 \n",
       "z\n",
       "\" transform=\"scale(0.015625)\"/>\n",
       "      </defs>\n",
       "      <use xlink:href=\"#DejaVuSans-Oblique-78\" transform=\"translate(0 0.3125)\"/>\n",
       "      <use xlink:href=\"#DejaVuSans-32\" transform=\"translate(59.179688 -16.09375) scale(0.7)\"/>\n",
       "     </g>\n",
       "    </g>\n",
       "   </g>\n",
       "   <g id=\"PathCollection_1\">\n",
       "    <defs>\n",
       "     <path id=\"m076edd1f82\" d=\"M 0 3 \n",
       "C 0.795609 3 1.55874 2.683901 2.12132 2.12132 \n",
       "C 2.683901 1.55874 3 0.795609 3 0 \n",
       "C 3 -0.795609 2.683901 -1.55874 2.12132 -2.12132 \n",
       "C 1.55874 -2.683901 0.795609 -3 0 -3 \n",
       "C -0.795609 -3 -1.55874 -2.683901 -2.12132 -2.12132 \n",
       "C -2.683901 -1.55874 -3 -0.795609 -3 0 \n",
       "C -3 0.795609 -2.683901 1.55874 -2.12132 2.12132 \n",
       "C -1.55874 2.683901 -0.795609 3 0 3 \n",
       "z\n",
       "\" style=\"stroke: #333333\"/>\n",
       "    </defs>\n",
       "    <g clip-path=\"url(#pb8bb20c086)\">\n",
       "     <use xlink:href=\"#m076edd1f82\" x=\"128.896765\" y=\"191.527004\" style=\"fill: #4c72b0; stroke: #333333\"/>\n",
       "     <use xlink:href=\"#m076edd1f82\" x=\"235.842942\" y=\"85.192316\" style=\"fill: #4c72b0; stroke: #333333\"/>\n",
       "     <use xlink:href=\"#m076edd1f82\" x=\"209.84808\" y=\"88.645797\" style=\"fill: #4c72b0; stroke: #333333\"/>\n",
       "     <use xlink:href=\"#m076edd1f82\" x=\"98.412459\" y=\"195.887919\" style=\"fill: #4c72b0; stroke: #333333\"/>\n",
       "     <use xlink:href=\"#m076edd1f82\" x=\"117.259128\" y=\"186.32515\" style=\"fill: #4c72b0; stroke: #333333\"/>\n",
       "     <use xlink:href=\"#m076edd1f82\" x=\"120.892727\" y=\"180.664144\" style=\"fill: #4c72b0; stroke: #333333\"/>\n",
       "     <use xlink:href=\"#m076edd1f82\" x=\"115.061651\" y=\"178.151894\" style=\"fill: #4c72b0; stroke: #333333\"/>\n",
       "     <use xlink:href=\"#m076edd1f82\" x=\"106.365179\" y=\"190.231849\" style=\"fill: #4c72b0; stroke: #333333\"/>\n",
       "     <use xlink:href=\"#m076edd1f82\" x=\"231.051642\" y=\"65.312529\" style=\"fill: #4c72b0; stroke: #333333\"/>\n",
       "     <use xlink:href=\"#m076edd1f82\" x=\"236.530763\" y=\"83.435409\" style=\"fill: #4c72b0; stroke: #333333\"/>\n",
       "     <use xlink:href=\"#m076edd1f82\" x=\"88.246699\" y=\"185.822877\" style=\"fill: #4c72b0; stroke: #333333\"/>\n",
       "     <use xlink:href=\"#m076edd1f82\" x=\"215.96071\" y=\"70.943114\" style=\"fill: #4c72b0; stroke: #333333\"/>\n",
       "     <use xlink:href=\"#m076edd1f82\" x=\"87.391288\" y=\"186.016502\" style=\"fill: #4c72b0; stroke: #333333\"/>\n",
       "     <use xlink:href=\"#m076edd1f82\" x=\"107.348414\" y=\"188.928252\" style=\"fill: #4c72b0; stroke: #333333\"/>\n",
       "     <use xlink:href=\"#m076edd1f82\" x=\"101.336902\" y=\"192.325972\" style=\"fill: #4c72b0; stroke: #333333\"/>\n",
       "     <use xlink:href=\"#m076edd1f82\" x=\"110.356085\" y=\"186.311888\" style=\"fill: #4c72b0; stroke: #333333\"/>\n",
       "     <use xlink:href=\"#m076edd1f82\" x=\"240.707707\" y=\"76.394108\" style=\"fill: #4c72b0; stroke: #333333\"/>\n",
       "     <use xlink:href=\"#m076edd1f82\" x=\"222.484668\" y=\"59.811532\" style=\"fill: #4c72b0; stroke: #333333\"/>\n",
       "     <use xlink:href=\"#m076edd1f82\" x=\"234.078375\" y=\"76.388649\" style=\"fill: #4c72b0; stroke: #333333\"/>\n",
       "     <use xlink:href=\"#m076edd1f82\" x=\"228.107732\" y=\"55.904987\" style=\"fill: #4c72b0; stroke: #333333\"/>\n",
       "     <use xlink:href=\"#m076edd1f82\" x=\"215.468441\" y=\"93.781536\" style=\"fill: #4c72b0; stroke: #333333\"/>\n",
       "     <use xlink:href=\"#m076edd1f82\" x=\"115.302564\" y=\"183.546871\" style=\"fill: #4c72b0; stroke: #333333\"/>\n",
       "     <use xlink:href=\"#m076edd1f82\" x=\"111.093685\" y=\"203.814941\" style=\"fill: #4c72b0; stroke: #333333\"/>\n",
       "     <use xlink:href=\"#m076edd1f82\" x=\"122.507374\" y=\"193.799943\" style=\"fill: #4c72b0; stroke: #333333\"/>\n",
       "     <use xlink:href=\"#m076edd1f82\" x=\"111.003518\" y=\"191.71421\" style=\"fill: #4c72b0; stroke: #333333\"/>\n",
       "     <use xlink:href=\"#m076edd1f82\" x=\"215.962639\" y=\"67.23004\" style=\"fill: #4c72b0; stroke: #333333\"/>\n",
       "     <use xlink:href=\"#m076edd1f82\" x=\"134.223928\" y=\"187.441151\" style=\"fill: #4c72b0; stroke: #333333\"/>\n",
       "     <use xlink:href=\"#m076edd1f82\" x=\"207.047598\" y=\"56.564734\" style=\"fill: #4c72b0; stroke: #333333\"/>\n",
       "     <use xlink:href=\"#m076edd1f82\" x=\"111.945823\" y=\"199.469284\" style=\"fill: #4c72b0; stroke: #333333\"/>\n",
       "     <use xlink:href=\"#m076edd1f82\" x=\"110.371154\" y=\"199.981995\" style=\"fill: #4c72b0; stroke: #333333\"/>\n",
       "     <use xlink:href=\"#m076edd1f82\" x=\"222.404627\" y=\"56.299159\" style=\"fill: #4c72b0; stroke: #333333\"/>\n",
       "     <use xlink:href=\"#m076edd1f82\" x=\"218.996583\" y=\"68.320572\" style=\"fill: #4c72b0; stroke: #333333\"/>\n",
       "     <use xlink:href=\"#m076edd1f82\" x=\"213.800438\" y=\"56.455474\" style=\"fill: #4c72b0; stroke: #333333\"/>\n",
       "     <use xlink:href=\"#m076edd1f82\" x=\"97.667223\" y=\"180.835199\" style=\"fill: #4c72b0; stroke: #333333\"/>\n",
       "     <use xlink:href=\"#m076edd1f82\" x=\"122.919231\" y=\"184.76376\" style=\"fill: #4c72b0; stroke: #333333\"/>\n",
       "     <use xlink:href=\"#m076edd1f82\" x=\"106.698994\" y=\"185.701244\" style=\"fill: #4c72b0; stroke: #333333\"/>\n",
       "     <use xlink:href=\"#m076edd1f82\" x=\"103.555604\" y=\"194.760507\" style=\"fill: #4c72b0; stroke: #333333\"/>\n",
       "     <use xlink:href=\"#m076edd1f82\" x=\"245.175604\" y=\"82.823902\" style=\"fill: #4c72b0; stroke: #333333\"/>\n",
       "     <use xlink:href=\"#m076edd1f82\" x=\"114.744416\" y=\"154.917408\" style=\"fill: #4c72b0; stroke: #333333\"/>\n",
       "     <use xlink:href=\"#m076edd1f82\" x=\"227.671488\" y=\"67.672418\" style=\"fill: #4c72b0; stroke: #333333\"/>\n",
       "     <use xlink:href=\"#m076edd1f82\" x=\"94.176097\" y=\"190.575673\" style=\"fill: #4c72b0; stroke: #333333\"/>\n",
       "     <use xlink:href=\"#m076edd1f82\" x=\"125.593071\" y=\"181.870764\" style=\"fill: #4c72b0; stroke: #333333\"/>\n",
       "     <use xlink:href=\"#m076edd1f82\" x=\"224.953585\" y=\"86.491506\" style=\"fill: #4c72b0; stroke: #333333\"/>\n",
       "     <use xlink:href=\"#m076edd1f82\" x=\"107.290145\" y=\"192.685092\" style=\"fill: #4c72b0; stroke: #333333\"/>\n",
       "     <use xlink:href=\"#m076edd1f82\" x=\"228.532107\" y=\"80.45864\" style=\"fill: #4c72b0; stroke: #333333\"/>\n",
       "     <use xlink:href=\"#m076edd1f82\" x=\"232.057117\" y=\"89.875963\" style=\"fill: #4c72b0; stroke: #333333\"/>\n",
       "     <use xlink:href=\"#m076edd1f82\" x=\"120.185526\" y=\"197.225612\" style=\"fill: #4c72b0; stroke: #333333\"/>\n",
       "     <use xlink:href=\"#m076edd1f82\" x=\"226.356423\" y=\"59.143644\" style=\"fill: #4c72b0; stroke: #333333\"/>\n",
       "     <use xlink:href=\"#m076edd1f82\" x=\"101.577808\" y=\"195.136741\" style=\"fill: #4c72b0; stroke: #333333\"/>\n",
       "     <use xlink:href=\"#m076edd1f82\" x=\"120.668249\" y=\"196.335032\" style=\"fill: #4c72b0; stroke: #333333\"/>\n",
       "     <use xlink:href=\"#m076edd1f82\" x=\"237.197383\" y=\"87.370208\" style=\"fill: #4c72b0; stroke: #333333\"/>\n",
       "     <use xlink:href=\"#m076edd1f82\" x=\"106.739429\" y=\"164.168962\" style=\"fill: #4c72b0; stroke: #333333\"/>\n",
       "     <use xlink:href=\"#m076edd1f82\" x=\"229.867197\" y=\"74.644781\" style=\"fill: #4c72b0; stroke: #333333\"/>\n",
       "     <use xlink:href=\"#m076edd1f82\" x=\"221.967556\" y=\"92.076331\" style=\"fill: #4c72b0; stroke: #333333\"/>\n",
       "     <use xlink:href=\"#m076edd1f82\" x=\"225.707245\" y=\"78.245886\" style=\"fill: #4c72b0; stroke: #333333\"/>\n",
       "     <use xlink:href=\"#m076edd1f82\" x=\"125.38625\" y=\"183.258466\" style=\"fill: #4c72b0; stroke: #333333\"/>\n",
       "     <use xlink:href=\"#m076edd1f82\" x=\"111.391872\" y=\"185.351936\" style=\"fill: #4c72b0; stroke: #333333\"/>\n",
       "     <use xlink:href=\"#m076edd1f82\" x=\"109.41716\" y=\"200.217773\" style=\"fill: #4c72b0; stroke: #333333\"/>\n",
       "     <use xlink:href=\"#m076edd1f82\" x=\"98.238612\" y=\"208.437446\" style=\"fill: #4c72b0; stroke: #333333\"/>\n",
       "     <use xlink:href=\"#m076edd1f82\" x=\"107.819888\" y=\"190.340558\" style=\"fill: #4c72b0; stroke: #333333\"/>\n",
       "     <use xlink:href=\"#m076edd1f82\" x=\"120.861596\" y=\"180.914074\" style=\"fill: #4c72b0; stroke: #333333\"/>\n",
       "     <use xlink:href=\"#m076edd1f82\" x=\"213.747156\" y=\"68.15934\" style=\"fill: #4c72b0; stroke: #333333\"/>\n",
       "     <use xlink:href=\"#m076edd1f82\" x=\"121.690723\" y=\"176.603259\" style=\"fill: #4c72b0; stroke: #333333\"/>\n",
       "     <use xlink:href=\"#m076edd1f82\" x=\"121.093458\" y=\"193.837202\" style=\"fill: #4c72b0; stroke: #333333\"/>\n",
       "     <use xlink:href=\"#m076edd1f82\" x=\"237.714376\" y=\"50.642905\" style=\"fill: #4c72b0; stroke: #333333\"/>\n",
       "     <use xlink:href=\"#m076edd1f82\" x=\"221.273173\" y=\"74.358878\" style=\"fill: #4c72b0; stroke: #333333\"/>\n",
       "     <use xlink:href=\"#m076edd1f82\" x=\"129.27955\" y=\"174.761797\" style=\"fill: #4c72b0; stroke: #333333\"/>\n",
       "     <use xlink:href=\"#m076edd1f82\" x=\"238.846147\" y=\"73.849565\" style=\"fill: #4c72b0; stroke: #333333\"/>\n",
       "     <use xlink:href=\"#m076edd1f82\" x=\"105.375549\" y=\"165.087525\" style=\"fill: #4c72b0; stroke: #333333\"/>\n",
       "     <use xlink:href=\"#m076edd1f82\" x=\"123.607024\" y=\"193.784004\" style=\"fill: #4c72b0; stroke: #333333\"/>\n",
       "     <use xlink:href=\"#m076edd1f82\" x=\"216.345887\" y=\"78.911171\" style=\"fill: #4c72b0; stroke: #333333\"/>\n",
       "     <use xlink:href=\"#m076edd1f82\" x=\"119.264853\" y=\"182.59254\" style=\"fill: #4c72b0; stroke: #333333\"/>\n",
       "     <use xlink:href=\"#m076edd1f82\" x=\"94.763466\" y=\"177.687951\" style=\"fill: #4c72b0; stroke: #333333\"/>\n",
       "     <use xlink:href=\"#m076edd1f82\" x=\"234.714739\" y=\"74.383027\" style=\"fill: #4c72b0; stroke: #333333\"/>\n",
       "     <use xlink:href=\"#m076edd1f82\" x=\"224.423718\" y=\"80.924512\" style=\"fill: #4c72b0; stroke: #333333\"/>\n",
       "     <use xlink:href=\"#m076edd1f82\" x=\"214.938151\" y=\"60.502579\" style=\"fill: #4c72b0; stroke: #333333\"/>\n",
       "     <use xlink:href=\"#m076edd1f82\" x=\"208.632632\" y=\"65.713865\" style=\"fill: #4c72b0; stroke: #333333\"/>\n",
       "     <use xlink:href=\"#m076edd1f82\" x=\"223.001641\" y=\"70.086302\" style=\"fill: #4c72b0; stroke: #333333\"/>\n",
       "     <use xlink:href=\"#m076edd1f82\" x=\"108.549087\" y=\"164.467115\" style=\"fill: #4c72b0; stroke: #333333\"/>\n",
       "     <use xlink:href=\"#m076edd1f82\" x=\"120.277339\" y=\"192.709477\" style=\"fill: #4c72b0; stroke: #333333\"/>\n",
       "     <use xlink:href=\"#m076edd1f82\" x=\"112.768002\" y=\"158.678992\" style=\"fill: #4c72b0; stroke: #333333\"/>\n",
       "     <use xlink:href=\"#m076edd1f82\" x=\"223.779119\" y=\"81.344519\" style=\"fill: #4c72b0; stroke: #333333\"/>\n",
       "     <use xlink:href=\"#m076edd1f82\" x=\"125.128473\" y=\"205.431969\" style=\"fill: #4c72b0; stroke: #333333\"/>\n",
       "     <use xlink:href=\"#m076edd1f82\" x=\"213.553421\" y=\"78.897332\" style=\"fill: #4c72b0; stroke: #333333\"/>\n",
       "     <use xlink:href=\"#m076edd1f82\" x=\"133.960224\" y=\"166.810067\" style=\"fill: #4c72b0; stroke: #333333\"/>\n",
       "     <use xlink:href=\"#m076edd1f82\" x=\"206.240861\" y=\"72.913894\" style=\"fill: #4c72b0; stroke: #333333\"/>\n",
       "     <use xlink:href=\"#m076edd1f82\" x=\"217.784446\" y=\"78.749721\" style=\"fill: #4c72b0; stroke: #333333\"/>\n",
       "     <use xlink:href=\"#m076edd1f82\" x=\"212.873974\" y=\"88.693071\" style=\"fill: #4c72b0; stroke: #333333\"/>\n",
       "     <use xlink:href=\"#m076edd1f82\" x=\"121.51351\" y=\"189.469244\" style=\"fill: #4c72b0; stroke: #333333\"/>\n",
       "     <use xlink:href=\"#m076edd1f82\" x=\"225.193894\" y=\"75.378416\" style=\"fill: #4c72b0; stroke: #333333\"/>\n",
       "     <use xlink:href=\"#m076edd1f82\" x=\"206.245118\" y=\"61.113498\" style=\"fill: #4c72b0; stroke: #333333\"/>\n",
       "     <use xlink:href=\"#m076edd1f82\" x=\"227.509159\" y=\"89.296271\" style=\"fill: #4c72b0; stroke: #333333\"/>\n",
       "     <use xlink:href=\"#m076edd1f82\" x=\"114.684121\" y=\"197.117859\" style=\"fill: #4c72b0; stroke: #333333\"/>\n",
       "     <use xlink:href=\"#m076edd1f82\" x=\"124.043943\" y=\"170.698635\" style=\"fill: #4c72b0; stroke: #333333\"/>\n",
       "     <use xlink:href=\"#m076edd1f82\" x=\"220.919732\" y=\"68.37117\" style=\"fill: #4c72b0; stroke: #333333\"/>\n",
       "     <use xlink:href=\"#m076edd1f82\" x=\"223.249913\" y=\"72.955213\" style=\"fill: #4c72b0; stroke: #333333\"/>\n",
       "     <use xlink:href=\"#m076edd1f82\" x=\"211.441699\" y=\"67.540754\" style=\"fill: #4c72b0; stroke: #333333\"/>\n",
       "     <use xlink:href=\"#m076edd1f82\" x=\"102.32093\" y=\"207.166733\" style=\"fill: #4c72b0; stroke: #333333\"/>\n",
       "     <use xlink:href=\"#m076edd1f82\" x=\"238.023173\" y=\"67.534859\" style=\"fill: #4c72b0; stroke: #333333\"/>\n",
       "     <use xlink:href=\"#m076edd1f82\" x=\"228.950547\" y=\"60.447354\" style=\"fill: #4c72b0; stroke: #333333\"/>\n",
       "     <use xlink:href=\"#m076edd1f82\" x=\"94.460815\" y=\"183.712538\" style=\"fill: #4c72b0; stroke: #333333\"/>\n",
       "     <use xlink:href=\"#m076edd1f82\" x=\"103.874941\" y=\"178.57705\" style=\"fill: #4c72b0; stroke: #333333\"/>\n",
       "     <use xlink:href=\"#m076edd1f82\" x=\"221.172406\" y=\"83.816581\" style=\"fill: #4c72b0; stroke: #333333\"/>\n",
       "    </g>\n",
       "   </g>\n",
       "   <g id=\"PathCollection_2\">\n",
       "    <defs>\n",
       "     <path id=\"m7108e1ad59\" d=\"M 0 3 \n",
       "C 0.795609 3 1.55874 2.683901 2.12132 2.12132 \n",
       "C 2.683901 1.55874 3 0.795609 3 0 \n",
       "C 3 -0.795609 2.683901 -1.55874 2.12132 -2.12132 \n",
       "C 1.55874 -2.683901 0.795609 -3 0 -3 \n",
       "C -0.795609 -3 -1.55874 -2.683901 -2.12132 -2.12132 \n",
       "C -2.683901 -1.55874 -3 -0.795609 -3 0 \n",
       "C -3 0.795609 -2.683901 1.55874 -2.12132 2.12132 \n",
       "C -1.55874 2.683901 -0.795609 3 0 3 \n",
       "z\n",
       "\" style=\"stroke: #333333\"/>\n",
       "    </defs>\n",
       "    <g clip-path=\"url(#pb8bb20c086)\">\n",
       "     <use xlink:href=\"#m7108e1ad59\" x=\"89.510487\" y=\"86.548634\" style=\"fill: #dd8452; stroke: #333333\"/>\n",
       "     <use xlink:href=\"#m7108e1ad59\" x=\"142.423609\" y=\"98.751582\" style=\"fill: #dd8452; stroke: #333333\"/>\n",
       "     <use xlink:href=\"#m7108e1ad59\" x=\"137.968187\" y=\"79.74622\" style=\"fill: #dd8452; stroke: #333333\"/>\n",
       "     <use xlink:href=\"#m7108e1ad59\" x=\"232.294207\" y=\"187.385979\" style=\"fill: #dd8452; stroke: #333333\"/>\n",
       "     <use xlink:href=\"#m7108e1ad59\" x=\"226.706553\" y=\"175.768745\" style=\"fill: #dd8452; stroke: #333333\"/>\n",
       "     <use xlink:href=\"#m7108e1ad59\" x=\"225.103192\" y=\"178.361715\" style=\"fill: #dd8452; stroke: #333333\"/>\n",
       "     <use xlink:href=\"#m7108e1ad59\" x=\"221.351251\" y=\"199.933874\" style=\"fill: #dd8452; stroke: #333333\"/>\n",
       "     <use xlink:href=\"#m7108e1ad59\" x=\"103.945983\" y=\"58.556636\" style=\"fill: #dd8452; stroke: #333333\"/>\n",
       "     <use xlink:href=\"#m7108e1ad59\" x=\"124.306714\" y=\"85.213756\" style=\"fill: #dd8452; stroke: #333333\"/>\n",
       "     <use xlink:href=\"#m7108e1ad59\" x=\"127.039058\" y=\"79.015057\" style=\"fill: #dd8452; stroke: #333333\"/>\n",
       "     <use xlink:href=\"#m7108e1ad59\" x=\"115.384029\" y=\"80.164601\" style=\"fill: #dd8452; stroke: #333333\"/>\n",
       "     <use xlink:href=\"#m7108e1ad59\" x=\"232.553503\" y=\"197.287225\" style=\"fill: #dd8452; stroke: #333333\"/>\n",
       "     <use xlink:href=\"#m7108e1ad59\" x=\"230.83623\" y=\"198.018473\" style=\"fill: #dd8452; stroke: #333333\"/>\n",
       "     <use xlink:href=\"#m7108e1ad59\" x=\"108.511607\" y=\"55.543054\" style=\"fill: #dd8452; stroke: #333333\"/>\n",
       "     <use xlink:href=\"#m7108e1ad59\" x=\"231.473717\" y=\"182.15339\" style=\"fill: #dd8452; stroke: #333333\"/>\n",
       "     <use xlink:href=\"#m7108e1ad59\" x=\"223.547759\" y=\"194.84529\" style=\"fill: #dd8452; stroke: #333333\"/>\n",
       "     <use xlink:href=\"#m7108e1ad59\" x=\"231.574134\" y=\"179.204571\" style=\"fill: #dd8452; stroke: #333333\"/>\n",
       "     <use xlink:href=\"#m7108e1ad59\" x=\"224.398095\" y=\"178.276476\" style=\"fill: #dd8452; stroke: #333333\"/>\n",
       "     <use xlink:href=\"#m7108e1ad59\" x=\"237.656362\" y=\"194.07373\" style=\"fill: #dd8452; stroke: #333333\"/>\n",
       "     <use xlink:href=\"#m7108e1ad59\" x=\"220.887982\" y=\"189.867353\" style=\"fill: #dd8452; stroke: #333333\"/>\n",
       "     <use xlink:href=\"#m7108e1ad59\" x=\"113.972386\" y=\"87.891622\" style=\"fill: #dd8452; stroke: #333333\"/>\n",
       "     <use xlink:href=\"#m7108e1ad59\" x=\"121.537907\" y=\"62.601334\" style=\"fill: #dd8452; stroke: #333333\"/>\n",
       "     <use xlink:href=\"#m7108e1ad59\" x=\"226.032082\" y=\"182.667754\" style=\"fill: #dd8452; stroke: #333333\"/>\n",
       "     <use xlink:href=\"#m7108e1ad59\" x=\"236.779749\" y=\"192.345492\" style=\"fill: #dd8452; stroke: #333333\"/>\n",
       "     <use xlink:href=\"#m7108e1ad59\" x=\"148.123557\" y=\"76.307174\" style=\"fill: #dd8452; stroke: #333333\"/>\n",
       "     <use xlink:href=\"#m7108e1ad59\" x=\"217.280903\" y=\"179.586819\" style=\"fill: #dd8452; stroke: #333333\"/>\n",
       "     <use xlink:href=\"#m7108e1ad59\" x=\"89.948555\" y=\"68.716436\" style=\"fill: #dd8452; stroke: #333333\"/>\n",
       "     <use xlink:href=\"#m7108e1ad59\" x=\"225.189062\" y=\"174.625622\" style=\"fill: #dd8452; stroke: #333333\"/>\n",
       "     <use xlink:href=\"#m7108e1ad59\" x=\"234.668913\" y=\"190.519527\" style=\"fill: #dd8452; stroke: #333333\"/>\n",
       "     <use xlink:href=\"#m7108e1ad59\" x=\"110.648857\" y=\"93.73797\" style=\"fill: #dd8452; stroke: #333333\"/>\n",
       "     <use xlink:href=\"#m7108e1ad59\" x=\"122.622725\" y=\"81.214097\" style=\"fill: #dd8452; stroke: #333333\"/>\n",
       "     <use xlink:href=\"#m7108e1ad59\" x=\"229.345089\" y=\"182.435024\" style=\"fill: #dd8452; stroke: #333333\"/>\n",
       "     <use xlink:href=\"#m7108e1ad59\" x=\"110.959862\" y=\"86.101445\" style=\"fill: #dd8452; stroke: #333333\"/>\n",
       "     <use xlink:href=\"#m7108e1ad59\" x=\"114.040403\" y=\"93.896076\" style=\"fill: #dd8452; stroke: #333333\"/>\n",
       "     <use xlink:href=\"#m7108e1ad59\" x=\"132.965493\" y=\"67.72451\" style=\"fill: #dd8452; stroke: #333333\"/>\n",
       "     <use xlink:href=\"#m7108e1ad59\" x=\"107.088263\" y=\"79.265709\" style=\"fill: #dd8452; stroke: #333333\"/>\n",
       "     <use xlink:href=\"#m7108e1ad59\" x=\"96.625024\" y=\"55.190321\" style=\"fill: #dd8452; stroke: #333333\"/>\n",
       "     <use xlink:href=\"#m7108e1ad59\" x=\"239.927638\" y=\"181.813127\" style=\"fill: #dd8452; stroke: #333333\"/>\n",
       "     <use xlink:href=\"#m7108e1ad59\" x=\"200.55258\" y=\"198.341172\" style=\"fill: #dd8452; stroke: #333333\"/>\n",
       "     <use xlink:href=\"#m7108e1ad59\" x=\"214.732255\" y=\"186.028782\" style=\"fill: #dd8452; stroke: #333333\"/>\n",
       "     <use xlink:href=\"#m7108e1ad59\" x=\"119.502478\" y=\"81.172434\" style=\"fill: #dd8452; stroke: #333333\"/>\n",
       "     <use xlink:href=\"#m7108e1ad59\" x=\"131.45891\" y=\"67.573984\" style=\"fill: #dd8452; stroke: #333333\"/>\n",
       "     <use xlink:href=\"#m7108e1ad59\" x=\"109.588515\" y=\"84.269137\" style=\"fill: #dd8452; stroke: #333333\"/>\n",
       "     <use xlink:href=\"#m7108e1ad59\" x=\"116.930857\" y=\"86.878415\" style=\"fill: #dd8452; stroke: #333333\"/>\n",
       "     <use xlink:href=\"#m7108e1ad59\" x=\"218.595862\" y=\"198.331094\" style=\"fill: #dd8452; stroke: #333333\"/>\n",
       "     <use xlink:href=\"#m7108e1ad59\" x=\"240.342549\" y=\"188.411446\" style=\"fill: #dd8452; stroke: #333333\"/>\n",
       "     <use xlink:href=\"#m7108e1ad59\" x=\"128.250218\" y=\"78.302856\" style=\"fill: #dd8452; stroke: #333333\"/>\n",
       "     <use xlink:href=\"#m7108e1ad59\" x=\"109.783584\" y=\"94.034924\" style=\"fill: #dd8452; stroke: #333333\"/>\n",
       "     <use xlink:href=\"#m7108e1ad59\" x=\"133.870258\" y=\"59.345257\" style=\"fill: #dd8452; stroke: #333333\"/>\n",
       "     <use xlink:href=\"#m7108e1ad59\" x=\"115.464237\" y=\"91.392356\" style=\"fill: #dd8452; stroke: #333333\"/>\n",
       "     <use xlink:href=\"#m7108e1ad59\" x=\"223.75154\" y=\"211.043217\" style=\"fill: #dd8452; stroke: #333333\"/>\n",
       "     <use xlink:href=\"#m7108e1ad59\" x=\"103.090394\" y=\"84.139733\" style=\"fill: #dd8452; stroke: #333333\"/>\n",
       "     <use xlink:href=\"#m7108e1ad59\" x=\"103.792777\" y=\"81.991133\" style=\"fill: #dd8452; stroke: #333333\"/>\n",
       "     <use xlink:href=\"#m7108e1ad59\" x=\"116.312092\" y=\"93.093047\" style=\"fill: #dd8452; stroke: #333333\"/>\n",
       "     <use xlink:href=\"#m7108e1ad59\" x=\"102.186883\" y=\"82.055392\" style=\"fill: #dd8452; stroke: #333333\"/>\n",
       "     <use xlink:href=\"#m7108e1ad59\" x=\"92.499817\" y=\"70.782583\" style=\"fill: #dd8452; stroke: #333333\"/>\n",
       "     <use xlink:href=\"#m7108e1ad59\" x=\"215.163669\" y=\"191.206956\" style=\"fill: #dd8452; stroke: #333333\"/>\n",
       "     <use xlink:href=\"#m7108e1ad59\" x=\"133.367321\" y=\"87.987167\" style=\"fill: #dd8452; stroke: #333333\"/>\n",
       "     <use xlink:href=\"#m7108e1ad59\" x=\"115.126914\" y=\"91.104536\" style=\"fill: #dd8452; stroke: #333333\"/>\n",
       "     <use xlink:href=\"#m7108e1ad59\" x=\"232.8004\" y=\"201.769482\" style=\"fill: #dd8452; stroke: #333333\"/>\n",
       "     <use xlink:href=\"#m7108e1ad59\" x=\"247.116075\" y=\"192.485463\" style=\"fill: #dd8452; stroke: #333333\"/>\n",
       "     <use xlink:href=\"#m7108e1ad59\" x=\"244.957231\" y=\"203.107984\" style=\"fill: #dd8452; stroke: #333333\"/>\n",
       "     <use xlink:href=\"#m7108e1ad59\" x=\"124.900843\" y=\"63.828473\" style=\"fill: #dd8452; stroke: #333333\"/>\n",
       "     <use xlink:href=\"#m7108e1ad59\" x=\"128.807376\" y=\"74.107103\" style=\"fill: #dd8452; stroke: #333333\"/>\n",
       "     <use xlink:href=\"#m7108e1ad59\" x=\"229.859729\" y=\"175.1295\" style=\"fill: #dd8452; stroke: #333333\"/>\n",
       "     <use xlink:href=\"#m7108e1ad59\" x=\"206.696292\" y=\"201.501903\" style=\"fill: #dd8452; stroke: #333333\"/>\n",
       "     <use xlink:href=\"#m7108e1ad59\" x=\"93.213829\" y=\"53.911381\" style=\"fill: #dd8452; stroke: #333333\"/>\n",
       "     <use xlink:href=\"#m7108e1ad59\" x=\"112.020101\" y=\"74.854219\" style=\"fill: #dd8452; stroke: #333333\"/>\n",
       "     <use xlink:href=\"#m7108e1ad59\" x=\"131.480358\" y=\"74.942039\" style=\"fill: #dd8452; stroke: #333333\"/>\n",
       "     <use xlink:href=\"#m7108e1ad59\" x=\"224.868488\" y=\"186.073313\" style=\"fill: #dd8452; stroke: #333333\"/>\n",
       "     <use xlink:href=\"#m7108e1ad59\" x=\"238.28543\" y=\"181.210075\" style=\"fill: #dd8452; stroke: #333333\"/>\n",
       "     <use xlink:href=\"#m7108e1ad59\" x=\"124.232805\" y=\"76.208753\" style=\"fill: #dd8452; stroke: #333333\"/>\n",
       "     <use xlink:href=\"#m7108e1ad59\" x=\"121.584838\" y=\"82.520775\" style=\"fill: #dd8452; stroke: #333333\"/>\n",
       "     <use xlink:href=\"#m7108e1ad59\" x=\"227.268196\" y=\"180.194001\" style=\"fill: #dd8452; stroke: #333333\"/>\n",
       "     <use xlink:href=\"#m7108e1ad59\" x=\"130.280248\" y=\"73.22092\" style=\"fill: #dd8452; stroke: #333333\"/>\n",
       "     <use xlink:href=\"#m7108e1ad59\" x=\"122.93516\" y=\"67.46372\" style=\"fill: #dd8452; stroke: #333333\"/>\n",
       "     <use xlink:href=\"#m7108e1ad59\" x=\"104.950632\" y=\"62.163993\" style=\"fill: #dd8452; stroke: #333333\"/>\n",
       "     <use xlink:href=\"#m7108e1ad59\" x=\"124.559856\" y=\"73.061049\" style=\"fill: #dd8452; stroke: #333333\"/>\n",
       "     <use xlink:href=\"#m7108e1ad59\" x=\"137.875057\" y=\"77.060648\" style=\"fill: #dd8452; stroke: #333333\"/>\n",
       "     <use xlink:href=\"#m7108e1ad59\" x=\"113.300972\" y=\"86.851292\" style=\"fill: #dd8452; stroke: #333333\"/>\n",
       "     <use xlink:href=\"#m7108e1ad59\" x=\"114.572164\" y=\"79.2965\" style=\"fill: #dd8452; stroke: #333333\"/>\n",
       "     <use xlink:href=\"#m7108e1ad59\" x=\"115.297075\" y=\"65.473008\" style=\"fill: #dd8452; stroke: #333333\"/>\n",
       "     <use xlink:href=\"#m7108e1ad59\" x=\"95.711925\" y=\"67.073765\" style=\"fill: #dd8452; stroke: #333333\"/>\n",
       "     <use xlink:href=\"#m7108e1ad59\" x=\"213.370902\" y=\"183.93832\" style=\"fill: #dd8452; stroke: #333333\"/>\n",
       "     <use xlink:href=\"#m7108e1ad59\" x=\"210.454141\" y=\"199.280952\" style=\"fill: #dd8452; stroke: #333333\"/>\n",
       "     <use xlink:href=\"#m7108e1ad59\" x=\"213.007257\" y=\"194.619069\" style=\"fill: #dd8452; stroke: #333333\"/>\n",
       "     <use xlink:href=\"#m7108e1ad59\" x=\"223.12086\" y=\"208.779123\" style=\"fill: #dd8452; stroke: #333333\"/>\n",
       "     <use xlink:href=\"#m7108e1ad59\" x=\"227.612021\" y=\"206.090108\" style=\"fill: #dd8452; stroke: #333333\"/>\n",
       "     <use xlink:href=\"#m7108e1ad59\" x=\"227.813026\" y=\"209.582387\" style=\"fill: #dd8452; stroke: #333333\"/>\n",
       "     <use xlink:href=\"#m7108e1ad59\" x=\"229.460151\" y=\"199.9003\" style=\"fill: #dd8452; stroke: #333333\"/>\n",
       "     <use xlink:href=\"#m7108e1ad59\" x=\"218.5602\" y=\"186.518095\" style=\"fill: #dd8452; stroke: #333333\"/>\n",
       "     <use xlink:href=\"#m7108e1ad59\" x=\"111.051464\" y=\"78.70211\" style=\"fill: #dd8452; stroke: #333333\"/>\n",
       "     <use xlink:href=\"#m7108e1ad59\" x=\"141.911829\" y=\"65.348878\" style=\"fill: #dd8452; stroke: #333333\"/>\n",
       "     <use xlink:href=\"#m7108e1ad59\" x=\"215.861284\" y=\"197.70345\" style=\"fill: #dd8452; stroke: #333333\"/>\n",
       "     <use xlink:href=\"#m7108e1ad59\" x=\"113.253294\" y=\"74.706932\" style=\"fill: #dd8452; stroke: #333333\"/>\n",
       "     <use xlink:href=\"#m7108e1ad59\" x=\"224.511624\" y=\"204.246839\" style=\"fill: #dd8452; stroke: #333333\"/>\n",
       "     <use xlink:href=\"#m7108e1ad59\" x=\"106.351815\" y=\"66.81357\" style=\"fill: #dd8452; stroke: #333333\"/>\n",
       "    </g>\n",
       "   </g>\n",
       "   <g id=\"patch_3\">\n",
       "    <path d=\"M 59.506094 243.549375 \n",
       "L 59.506094 21.789375 \n",
       "\" style=\"fill: none; stroke: #ffffff; stroke-width: 1.25; stroke-linejoin: miter; stroke-linecap: square\"/>\n",
       "   </g>\n",
       "   <g id=\"patch_4\">\n",
       "    <path d=\"M 281.266094 243.549375 \n",
       "L 281.266094 21.789375 \n",
       "\" style=\"fill: none; stroke: #ffffff; stroke-width: 1.25; stroke-linejoin: miter; stroke-linecap: square\"/>\n",
       "   </g>\n",
       "   <g id=\"patch_5\">\n",
       "    <path d=\"M 59.506094 243.549375 \n",
       "L 281.266094 243.549375 \n",
       "\" style=\"fill: none; stroke: #ffffff; stroke-width: 1.25; stroke-linejoin: miter; stroke-linecap: square\"/>\n",
       "   </g>\n",
       "   <g id=\"patch_6\">\n",
       "    <path d=\"M 59.506094 21.789375 \n",
       "L 281.266094 21.789375 \n",
       "\" style=\"fill: none; stroke: #ffffff; stroke-width: 1.25; stroke-linejoin: miter; stroke-linecap: square\"/>\n",
       "   </g>\n",
       "   <g id=\"text_17\">\n",
       "    <!-- Dataset samples -->\n",
       "    <g style=\"fill: #262626\" transform=\"translate(125.702031 15.789375) scale(0.12 -0.12)\">\n",
       "     <defs>\n",
       "      <path id=\"ArialMT-44\" d=\"M 494 0 \n",
       "L 494 4581 \n",
       "L 2072 4581 \n",
       "Q 2606 4581 2888 4516 \n",
       "Q 3281 4425 3559 4188 \n",
       "Q 3922 3881 4101 3404 \n",
       "Q 4281 2928 4281 2316 \n",
       "Q 4281 1794 4159 1391 \n",
       "Q 4038 988 3847 723 \n",
       "Q 3656 459 3429 307 \n",
       "Q 3203 156 2883 78 \n",
       "Q 2563 0 2147 0 \n",
       "L 494 0 \n",
       "z\n",
       "M 1100 541 \n",
       "L 2078 541 \n",
       "Q 2531 541 2789 625 \n",
       "Q 3047 709 3200 863 \n",
       "Q 3416 1078 3536 1442 \n",
       "Q 3656 1806 3656 2325 \n",
       "Q 3656 3044 3420 3430 \n",
       "Q 3184 3816 2847 3947 \n",
       "Q 2603 4041 2063 4041 \n",
       "L 1100 4041 \n",
       "L 1100 541 \n",
       "z\n",
       "\" transform=\"scale(0.015625)\"/>\n",
       "      <path id=\"ArialMT-61\" d=\"M 2588 409 \n",
       "Q 2275 144 1986 34 \n",
       "Q 1697 -75 1366 -75 \n",
       "Q 819 -75 525 192 \n",
       "Q 231 459 231 875 \n",
       "Q 231 1119 342 1320 \n",
       "Q 453 1522 633 1644 \n",
       "Q 813 1766 1038 1828 \n",
       "Q 1203 1872 1538 1913 \n",
       "Q 2219 1994 2541 2106 \n",
       "Q 2544 2222 2544 2253 \n",
       "Q 2544 2597 2384 2738 \n",
       "Q 2169 2928 1744 2928 \n",
       "Q 1347 2928 1158 2789 \n",
       "Q 969 2650 878 2297 \n",
       "L 328 2372 \n",
       "Q 403 2725 575 2942 \n",
       "Q 747 3159 1072 3276 \n",
       "Q 1397 3394 1825 3394 \n",
       "Q 2250 3394 2515 3294 \n",
       "Q 2781 3194 2906 3042 \n",
       "Q 3031 2891 3081 2659 \n",
       "Q 3109 2516 3109 2141 \n",
       "L 3109 1391 \n",
       "Q 3109 606 3145 398 \n",
       "Q 3181 191 3288 0 \n",
       "L 2700 0 \n",
       "Q 2613 175 2588 409 \n",
       "z\n",
       "M 2541 1666 \n",
       "Q 2234 1541 1622 1453 \n",
       "Q 1275 1403 1131 1340 \n",
       "Q 988 1278 909 1158 \n",
       "Q 831 1038 831 891 \n",
       "Q 831 666 1001 516 \n",
       "Q 1172 366 1500 366 \n",
       "Q 1825 366 2078 508 \n",
       "Q 2331 650 2450 897 \n",
       "Q 2541 1088 2541 1459 \n",
       "L 2541 1666 \n",
       "z\n",
       "\" transform=\"scale(0.015625)\"/>\n",
       "      <path id=\"ArialMT-74\" d=\"M 1650 503 \n",
       "L 1731 6 \n",
       "Q 1494 -44 1306 -44 \n",
       "Q 1000 -44 831 53 \n",
       "Q 663 150 594 308 \n",
       "Q 525 466 525 972 \n",
       "L 525 2881 \n",
       "L 113 2881 \n",
       "L 113 3319 \n",
       "L 525 3319 \n",
       "L 525 4141 \n",
       "L 1084 4478 \n",
       "L 1084 3319 \n",
       "L 1650 3319 \n",
       "L 1650 2881 \n",
       "L 1084 2881 \n",
       "L 1084 941 \n",
       "Q 1084 700 1114 631 \n",
       "Q 1144 563 1211 522 \n",
       "Q 1278 481 1403 481 \n",
       "Q 1497 481 1650 503 \n",
       "z\n",
       "\" transform=\"scale(0.015625)\"/>\n",
       "      <path id=\"ArialMT-73\" d=\"M 197 991 \n",
       "L 753 1078 \n",
       "Q 800 744 1014 566 \n",
       "Q 1228 388 1613 388 \n",
       "Q 2000 388 2187 545 \n",
       "Q 2375 703 2375 916 \n",
       "Q 2375 1106 2209 1216 \n",
       "Q 2094 1291 1634 1406 \n",
       "Q 1016 1563 777 1677 \n",
       "Q 538 1791 414 1992 \n",
       "Q 291 2194 291 2438 \n",
       "Q 291 2659 392 2848 \n",
       "Q 494 3038 669 3163 \n",
       "Q 800 3259 1026 3326 \n",
       "Q 1253 3394 1513 3394 \n",
       "Q 1903 3394 2198 3281 \n",
       "Q 2494 3169 2634 2976 \n",
       "Q 2775 2784 2828 2463 \n",
       "L 2278 2388 \n",
       "Q 2241 2644 2061 2787 \n",
       "Q 1881 2931 1553 2931 \n",
       "Q 1166 2931 1000 2803 \n",
       "Q 834 2675 834 2503 \n",
       "Q 834 2394 903 2306 \n",
       "Q 972 2216 1119 2156 \n",
       "Q 1203 2125 1616 2013 \n",
       "Q 2213 1853 2448 1751 \n",
       "Q 2684 1650 2818 1456 \n",
       "Q 2953 1263 2953 975 \n",
       "Q 2953 694 2789 445 \n",
       "Q 2625 197 2315 61 \n",
       "Q 2006 -75 1616 -75 \n",
       "Q 969 -75 630 194 \n",
       "Q 291 463 197 991 \n",
       "z\n",
       "\" transform=\"scale(0.015625)\"/>\n",
       "      <path id=\"ArialMT-65\" d=\"M 2694 1069 \n",
       "L 3275 997 \n",
       "Q 3138 488 2766 206 \n",
       "Q 2394 -75 1816 -75 \n",
       "Q 1088 -75 661 373 \n",
       "Q 234 822 234 1631 \n",
       "Q 234 2469 665 2931 \n",
       "Q 1097 3394 1784 3394 \n",
       "Q 2450 3394 2872 2941 \n",
       "Q 3294 2488 3294 1666 \n",
       "Q 3294 1616 3291 1516 \n",
       "L 816 1516 \n",
       "Q 847 969 1125 678 \n",
       "Q 1403 388 1819 388 \n",
       "Q 2128 388 2347 550 \n",
       "Q 2566 713 2694 1069 \n",
       "z\n",
       "M 847 1978 \n",
       "L 2700 1978 \n",
       "Q 2663 2397 2488 2606 \n",
       "Q 2219 2931 1791 2931 \n",
       "Q 1403 2931 1139 2672 \n",
       "Q 875 2413 847 1978 \n",
       "z\n",
       "\" transform=\"scale(0.015625)\"/>\n",
       "      <path id=\"ArialMT-20\" transform=\"scale(0.015625)\"/>\n",
       "      <path id=\"ArialMT-6d\" d=\"M 422 0 \n",
       "L 422 3319 \n",
       "L 925 3319 \n",
       "L 925 2853 \n",
       "Q 1081 3097 1340 3245 \n",
       "Q 1600 3394 1931 3394 \n",
       "Q 2300 3394 2536 3241 \n",
       "Q 2772 3088 2869 2813 \n",
       "Q 3263 3394 3894 3394 \n",
       "Q 4388 3394 4653 3120 \n",
       "Q 4919 2847 4919 2278 \n",
       "L 4919 0 \n",
       "L 4359 0 \n",
       "L 4359 2091 \n",
       "Q 4359 2428 4304 2576 \n",
       "Q 4250 2725 4106 2815 \n",
       "Q 3963 2906 3769 2906 \n",
       "Q 3419 2906 3187 2673 \n",
       "Q 2956 2441 2956 1928 \n",
       "L 2956 0 \n",
       "L 2394 0 \n",
       "L 2394 2156 \n",
       "Q 2394 2531 2256 2718 \n",
       "Q 2119 2906 1806 2906 \n",
       "Q 1569 2906 1367 2781 \n",
       "Q 1166 2656 1075 2415 \n",
       "Q 984 2175 984 1722 \n",
       "L 984 0 \n",
       "L 422 0 \n",
       "z\n",
       "\" transform=\"scale(0.015625)\"/>\n",
       "      <path id=\"ArialMT-70\" d=\"M 422 -1272 \n",
       "L 422 3319 \n",
       "L 934 3319 \n",
       "L 934 2888 \n",
       "Q 1116 3141 1344 3267 \n",
       "Q 1572 3394 1897 3394 \n",
       "Q 2322 3394 2647 3175 \n",
       "Q 2972 2956 3137 2557 \n",
       "Q 3303 2159 3303 1684 \n",
       "Q 3303 1175 3120 767 \n",
       "Q 2938 359 2589 142 \n",
       "Q 2241 -75 1856 -75 \n",
       "Q 1575 -75 1351 44 \n",
       "Q 1128 163 984 344 \n",
       "L 984 -1272 \n",
       "L 422 -1272 \n",
       "z\n",
       "M 931 1641 \n",
       "Q 931 1000 1190 694 \n",
       "Q 1450 388 1819 388 \n",
       "Q 2194 388 2461 705 \n",
       "Q 2728 1022 2728 1688 \n",
       "Q 2728 2322 2467 2637 \n",
       "Q 2206 2953 1844 2953 \n",
       "Q 1484 2953 1207 2617 \n",
       "Q 931 2281 931 1641 \n",
       "z\n",
       "\" transform=\"scale(0.015625)\"/>\n",
       "      <path id=\"ArialMT-6c\" d=\"M 409 0 \n",
       "L 409 4581 \n",
       "L 972 4581 \n",
       "L 972 0 \n",
       "L 409 0 \n",
       "z\n",
       "\" transform=\"scale(0.015625)\"/>\n",
       "     </defs>\n",
       "     <use xlink:href=\"#ArialMT-44\"/>\n",
       "     <use xlink:href=\"#ArialMT-61\" x=\"72.216797\"/>\n",
       "     <use xlink:href=\"#ArialMT-74\" x=\"127.832031\"/>\n",
       "     <use xlink:href=\"#ArialMT-61\" x=\"155.615234\"/>\n",
       "     <use xlink:href=\"#ArialMT-73\" x=\"211.230469\"/>\n",
       "     <use xlink:href=\"#ArialMT-65\" x=\"261.230469\"/>\n",
       "     <use xlink:href=\"#ArialMT-74\" x=\"316.845703\"/>\n",
       "     <use xlink:href=\"#ArialMT-20\" x=\"344.628906\"/>\n",
       "     <use xlink:href=\"#ArialMT-73\" x=\"372.412109\"/>\n",
       "     <use xlink:href=\"#ArialMT-61\" x=\"422.412109\"/>\n",
       "     <use xlink:href=\"#ArialMT-6d\" x=\"478.027344\"/>\n",
       "     <use xlink:href=\"#ArialMT-70\" x=\"561.328125\"/>\n",
       "     <use xlink:href=\"#ArialMT-6c\" x=\"616.943359\"/>\n",
       "     <use xlink:href=\"#ArialMT-65\" x=\"639.160156\"/>\n",
       "     <use xlink:href=\"#ArialMT-73\" x=\"694.775391\"/>\n",
       "    </g>\n",
       "   </g>\n",
       "   <g id=\"legend_1\">\n",
       "    <g id=\"patch_7\">\n",
       "     <path d=\"M 201.687969 149.879219 \n",
       "L 273.566094 149.879219 \n",
       "Q 275.766094 149.879219 275.766094 147.679219 \n",
       "L 275.766094 117.659531 \n",
       "Q 275.766094 115.459531 273.566094 115.459531 \n",
       "L 201.687969 115.459531 \n",
       "Q 199.487969 115.459531 199.487969 117.659531 \n",
       "L 199.487969 147.679219 \n",
       "Q 199.487969 149.879219 201.687969 149.879219 \n",
       "z\n",
       "\" style=\"fill: #eaeaf2; opacity: 0.8; stroke: #cccccc; stroke-linejoin: miter\"/>\n",
       "    </g>\n",
       "    <g id=\"PathCollection_3\">\n",
       "     <g>\n",
       "      <use xlink:href=\"#m076edd1f82\" x=\"214.887969\" y=\"124.845625\" style=\"fill: #4c72b0; stroke: #333333\"/>\n",
       "     </g>\n",
       "    </g>\n",
       "    <g id=\"text_18\">\n",
       "     <!-- Class 0 -->\n",
       "     <g style=\"fill: #262626\" transform=\"translate(234.687969 127.733125) scale(0.11 -0.11)\">\n",
       "      <defs>\n",
       "       <path id=\"ArialMT-43\" d=\"M 3763 1606 \n",
       "L 4369 1453 \n",
       "Q 4178 706 3683 314 \n",
       "Q 3188 -78 2472 -78 \n",
       "Q 1731 -78 1267 223 \n",
       "Q 803 525 561 1097 \n",
       "Q 319 1669 319 2325 \n",
       "Q 319 3041 592 3573 \n",
       "Q 866 4106 1370 4382 \n",
       "Q 1875 4659 2481 4659 \n",
       "Q 3169 4659 3637 4309 \n",
       "Q 4106 3959 4291 3325 \n",
       "L 3694 3184 \n",
       "Q 3534 3684 3231 3912 \n",
       "Q 2928 4141 2469 4141 \n",
       "Q 1941 4141 1586 3887 \n",
       "Q 1231 3634 1087 3207 \n",
       "Q 944 2781 944 2328 \n",
       "Q 944 1744 1114 1308 \n",
       "Q 1284 872 1643 656 \n",
       "Q 2003 441 2422 441 \n",
       "Q 2931 441 3284 734 \n",
       "Q 3638 1028 3763 1606 \n",
       "z\n",
       "\" transform=\"scale(0.015625)\"/>\n",
       "      </defs>\n",
       "      <use xlink:href=\"#ArialMT-43\"/>\n",
       "      <use xlink:href=\"#ArialMT-6c\" x=\"72.216797\"/>\n",
       "      <use xlink:href=\"#ArialMT-61\" x=\"94.433594\"/>\n",
       "      <use xlink:href=\"#ArialMT-73\" x=\"150.048828\"/>\n",
       "      <use xlink:href=\"#ArialMT-73\" x=\"200.048828\"/>\n",
       "      <use xlink:href=\"#ArialMT-20\" x=\"250.048828\"/>\n",
       "      <use xlink:href=\"#ArialMT-30\" x=\"277.832031\"/>\n",
       "     </g>\n",
       "    </g>\n",
       "    <g id=\"PathCollection_4\">\n",
       "     <g>\n",
       "      <use xlink:href=\"#m7108e1ad59\" x=\"214.887969\" y=\"140.405469\" style=\"fill: #dd8452; stroke: #333333\"/>\n",
       "     </g>\n",
       "    </g>\n",
       "    <g id=\"text_19\">\n",
       "     <!-- Class 1 -->\n",
       "     <g style=\"fill: #262626\" transform=\"translate(234.687969 143.292969) scale(0.11 -0.11)\">\n",
       "      <use xlink:href=\"#ArialMT-43\"/>\n",
       "      <use xlink:href=\"#ArialMT-6c\" x=\"72.216797\"/>\n",
       "      <use xlink:href=\"#ArialMT-61\" x=\"94.433594\"/>\n",
       "      <use xlink:href=\"#ArialMT-73\" x=\"150.048828\"/>\n",
       "      <use xlink:href=\"#ArialMT-73\" x=\"200.048828\"/>\n",
       "      <use xlink:href=\"#ArialMT-20\" x=\"250.048828\"/>\n",
       "      <use xlink:href=\"#ArialMT-31\" x=\"277.832031\"/>\n",
       "     </g>\n",
       "    </g>\n",
       "   </g>\n",
       "  </g>\n",
       " </g>\n",
       " <defs>\n",
       "  <clipPath id=\"pb8bb20c086\">\n",
       "   <rect x=\"59.506094\" y=\"21.789375\" width=\"221.76\" height=\"221.76\"/>\n",
       "  </clipPath>\n",
       " </defs>\n",
       "</svg>\n"
      ],
      "text/plain": [
       "<Figure size 2000x2000 with 1 Axes>"
      ]
     },
     "metadata": {},
     "output_type": "display_data"
    }
   ],
   "source": [
    "@torch.no_grad() # Decorator, same effect as \"with torch.no_grad(): ...\" over the whole function.\n",
    "def visualize_classification(model, data, label):\n",
    "    if isinstance(data, torch.Tensor):\n",
    "        data = data.cpu().numpy()\n",
    "    if isinstance(label, torch.Tensor):\n",
    "        label = label.cpu().numpy()\n",
    "    data_0 = data[label == 0]\n",
    "    data_1 = data[label == 1]\n",
    "    \n",
    "    fig = plt.figure(figsize=(4,4), dpi=500)\n",
    "    plt.scatter(data_0[:,0], data_0[:,1], edgecolor=\"#333\", label=\"Class 0\")\n",
    "    plt.scatter(data_1[:,0], data_1[:,1], edgecolor=\"#333\", label=\"Class 1\")\n",
    "    plt.title(\"Dataset samples\")\n",
    "    plt.ylabel(r\"$x_2$\")\n",
    "    plt.xlabel(r\"$x_1$\")\n",
    "    plt.legend()\n",
    "    \n",
    "    # Let's make use of a lot of operations we have learned above\n",
    "    model.to(device)\n",
    "    c0 = torch.Tensor(to_rgba(\"C0\")).to(device)\n",
    "    c1 = torch.Tensor(to_rgba(\"C1\")).to(device)\n",
    "    x1 = torch.arange(-0.5, 1.5, step=0.01, device=device)\n",
    "    x2 = torch.arange(-0.5, 1.5, step=0.01, device=device)\n",
    "    xx1, xx2 = torch.meshgrid(x1, x2, indexing='ij')  # Meshgrid function as in numpy\n",
    "    model_inputs = torch.stack([xx1, xx2], dim=-1)\n",
    "    preds = model(model_inputs)\n",
    "    preds = torch.sigmoid(preds)\n",
    "    output_image = (1 - preds) * c0[None,None] + preds * c1[None,None]  # Specifying \"None\" in a dimension creates a new one\n",
    "    output_image = output_image.cpu().numpy()  # Convert to numpy array. This only works for tensors on CPU, hence first push to CPU\n",
    "    plt.imshow(output_image, origin='lower', extent=(-0.5, 1.5, -0.5, 1.5))\n",
    "    plt.grid(False)\n",
    "    return fig\n",
    "\n",
    "_ = visualize_classification(model, dataset.data, dataset.label)\n",
    "plt.show()"
   ]
  },
  {
   "cell_type": "markdown",
   "metadata": {
    "id": "JjyG-XD7xpSl"
   },
   "source": [
    "The decision boundaries might not look exactly as in the figure in the preamble of this section which can be caused by running it on CPU or a different GPU architecture. Nevertheless, the result on the accuracy metric should be the approximately the same. "
   ]
  },
  {
   "cell_type": "markdown",
   "metadata": {
    "id": "MVHQt-JCxpSl"
   },
   "source": [
    "## Additional features we didn't get to discuss yet\n",
    "\n",
    "Finally, you are all set to start with your own PyTorch project! In summary, we have looked at how we can build neural networks in PyTorch, and train and test them on data. However, there is still much more to PyTorch we haven't discussed yet. In the comming series of Jupyter notebooks, we will discover more and more functionalities of PyTorch, so that you also get familiar to PyTorch concepts beyond the basics. If you are already interested in learning more of PyTorch, we recommend the official [tutorial website](https://pytorch.org/tutorials/) that contains many tutorials on various topics. Especially logging with Tensorboard ([official tutorial here](https://pytorch.org/tutorials/intermediate/tensorboard_tutorial.html)) is a good practice that we will explore further from Tutorial 5 on in combination with PyTorch Lightning.\n",
    "Nonetheless, let's check it shortly out how we could use TensorBoard in our small example."
   ]
  },
  {
   "cell_type": "markdown",
   "metadata": {
    "id": "zlV7AHo1xpSl"
   },
   "source": [
    "### TensorBoard logging\n",
    "\n",
    "TensorBoard is a logging and visualization tool that is a popular choice for training deep learning models. Although initially published for TensorFlow, TensorBoard is also integrated in PyTorch allowing us to easily use it. First, let's import it below."
   ]
  },
  {
   "cell_type": "code",
   "execution_count": 83,
   "metadata": {
    "id": "qm1E-kRtxpSl",
    "pycharm": {
     "is_executing": true
    }
   },
   "outputs": [],
   "source": [
    "# Import tensorboard logger from PyTorch\n",
    "from torch.utils.tensorboard import SummaryWriter\n",
    "\n",
    "# Load tensorboard extension for Jupyter Notebook, only need to start TB in the notebook\n",
    "%load_ext tensorboard"
   ]
  },
  {
   "cell_type": "markdown",
   "metadata": {
    "id": "4e4x5mhExpSl"
   },
   "source": [
    "The last line is required if you want to run TensorBoard directly in the Jupyter Notebook. Otherwise, you can start TensorBoard from the terminal.\n",
    "\n",
    "PyTorch's TensorBoard API is simple to use. We start the logging process by creating a new object, `writer = SummaryWriter(...)`, where we specify the directory in which the logging file should be saved. With this object, we can log different aspects of our model by calling functions of the style `writer.add_...`. For example, we can visualize the computation graph with the function `writer.add_graph`, or add a scalar value like the loss with `writer.add_scalar`. Let's adapt our initial training function with adding a TensorBoard logger below."
   ]
  },
  {
   "cell_type": "code",
   "execution_count": 84,
   "metadata": {
    "id": "LSwcd0PnxpSl",
    "pycharm": {
     "is_executing": true
    }
   },
   "outputs": [],
   "source": [
    "def train_model_with_logger(model, optimizer, data_loader, loss_module, val_dataset, num_epochs=100, logging_dir='runs/our_experiment'):\n",
    "    # Create TensorBoard logger\n",
    "    writer = SummaryWriter(logging_dir)\n",
    "    model_plotted = False\n",
    "    \n",
    "    # Set model to train mode\n",
    "    model.train() \n",
    "    \n",
    "    # Training loop\n",
    "    for epoch in tqdm(range(num_epochs)):\n",
    "        epoch_loss = 0.0\n",
    "        for data_inputs, data_labels in data_loader:\n",
    "            \n",
    "            ## Step 1: Move input data to device (only strictly necessary if we use GPU)\n",
    "            data_inputs = data_inputs.to(device)\n",
    "            data_labels = data_labels.to(device)\n",
    "            \n",
    "            # For the very first batch, we visualize the computation graph in TensorBoard\n",
    "            if not model_plotted:\n",
    "                writer.add_graph(model, data_inputs)\n",
    "                model_plotted = True\n",
    "            \n",
    "            ## Step 2: Run the model on the input data\n",
    "            preds = model(data_inputs)\n",
    "            preds = preds.squeeze(dim=1) # Output is [Batch size, 1], but we want [Batch size]\n",
    "            \n",
    "            ## Step 3: Calculate the loss\n",
    "            loss = loss_module(preds, data_labels.float())\n",
    "            \n",
    "            ## Step 4: Perform backpropagation\n",
    "            # Before calculating the gradients, we need to ensure that they are all zero. \n",
    "            # The gradients would not be overwritten, but actually added to the existing ones.\n",
    "            optimizer.zero_grad() \n",
    "            # Perform backpropagation\n",
    "            loss.backward()\n",
    "            \n",
    "            ## Step 5: Update the parameters\n",
    "            optimizer.step()\n",
    "            \n",
    "            ## Step 6: Take the running average of the loss\n",
    "            epoch_loss += loss.item()\n",
    "            \n",
    "        # Add average loss to TensorBoard\n",
    "        epoch_loss /= len(data_loader)\n",
    "        writer.add_scalar('training_loss',\n",
    "                          epoch_loss,\n",
    "                          global_step = epoch + 1)\n",
    "        \n",
    "        # Visualize prediction and add figure to TensorBoard\n",
    "        # Since matplotlib figures can be slow in rendering, we only do it every 10th epoch\n",
    "        if (epoch + 1) % 10 == 0:\n",
    "            fig = visualize_classification(model, val_dataset.data, val_dataset.label)\n",
    "            writer.add_figure('predictions',\n",
    "                              fig,\n",
    "                              global_step = epoch + 1)\n",
    "    \n",
    "    writer.close()"
   ]
  },
  {
   "cell_type": "markdown",
   "metadata": {
    "id": "ZZ_8l3xcxpSm"
   },
   "source": [
    "Let's use this method to train a model as before, with a new model and optimizer."
   ]
  },
  {
   "cell_type": "code",
   "execution_count": 85,
   "metadata": {
    "colab": {
     "referenced_widgets": [
      "bf402fee4c7943c2835cc9dfa65944a4"
     ]
    },
    "id": "LJe9N8YWxpSm",
    "outputId": "8bf3e4e2-7bfd-4fe4-eb94-e8d568fd7288"
   },
   "outputs": [
    {
     "data": {
      "application/vnd.jupyter.widget-view+json": {
       "model_id": "da9cf265f06b4478a6fb4054d5b405ab",
       "version_major": 2,
       "version_minor": 0
      },
      "text/plain": [
       "  0%|          | 0/100 [00:00<?, ?it/s]"
      ]
     },
     "metadata": {},
     "output_type": "display_data"
    }
   ],
   "source": [
    "model = SimpleClassifier(num_inputs=2, num_hidden=4, num_outputs=1).to(device)\n",
    "optimizer = torch.optim.SGD(model.parameters(), lr=0.1)\n",
    "train_model_with_logger(model, optimizer, train_data_loader, loss_module, val_dataset=dataset)"
   ]
  },
  {
   "cell_type": "markdown",
   "metadata": {
    "id": "bF3TpoPsxpSm"
   },
   "source": [
    "The TensorBoard file in the folder `runs/our_experiment` now contains a loss curve, the computation graph of our network, and a visualization of the learned predictions over number of epochs. To start the TensorBoard visualizer, simply run the following statement:"
   ]
  },
  {
   "cell_type": "code",
   "execution_count": 86,
   "metadata": {
    "id": "LnF3gUV9xpSm"
   },
   "outputs": [
    {
     "data": {
      "text/html": [
       "\n",
       "      <iframe id=\"tensorboard-frame-a933d5a095acd76c\" width=\"100%\" height=\"800\" frameborder=\"0\">\n",
       "      </iframe>\n",
       "      <script>\n",
       "        (function() {\n",
       "          const frame = document.getElementById(\"tensorboard-frame-a933d5a095acd76c\");\n",
       "          const url = new URL(\"/\", window.location);\n",
       "          const port = 6006;\n",
       "          if (port) {\n",
       "            url.port = port;\n",
       "          }\n",
       "          frame.src = url;\n",
       "        })();\n",
       "      </script>\n",
       "    "
      ],
      "text/plain": [
       "<IPython.core.display.HTML object>"
      ]
     },
     "metadata": {},
     "output_type": "display_data"
    }
   ],
   "source": [
    "%tensorboard --logdir runs/our_experiment"
   ]
  },
  {
   "cell_type": "markdown",
   "metadata": {
    "id": "0GtdO2DqxpSm"
   },
   "source": [
    "<center><img src=\"https://github.com/phlippe/uvadlc_notebooks/blob/master/docs/tutorial_notebooks/tutorial2/tensorboard_screenshot.png?raw=1\" width=\"1100px\"></center>\n",
    "\n",
    "TensorBoard visualizations can help to identify possible issues with your model, and identify situations such as overfitting. You can also track the training progress while a model is training, since the logger automatically writes everything added to it to the logging file."
   ]
  }
 ],
 "metadata": {
  "accelerator": "GPU",
  "colab": {
   "collapsed_sections": [],
   "name": "Introduction_to_PyTorch.ipynb",
   "provenance": []
  },
  "kernelspec": {
   "display_name": "Python 3 (ipykernel)",
   "language": "python",
   "name": "python3"
  },
  "language_info": {
   "codemirror_mode": {
    "name": "ipython",
    "version": 3
   },
   "file_extension": ".py",
   "mimetype": "text/x-python",
   "name": "python",
   "nbconvert_exporter": "python",
   "pygments_lexer": "ipython3",
   "version": "3.10.6"
  }
 },
 "nbformat": 4,
 "nbformat_minor": 1
}
